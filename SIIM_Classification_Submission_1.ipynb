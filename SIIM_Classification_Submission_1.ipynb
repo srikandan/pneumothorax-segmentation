{
 "cells": [
  {
   "cell_type": "code",
   "execution_count": 1,
   "metadata": {
    "colab": {
     "base_uri": "https://localhost:8080/"
    },
    "id": "iXPRDnMyAAmm",
    "outputId": "fd0acb7a-0e91-4232-f7e0-636762e98566"
   },
   "outputs": [
    {
     "name": "stdout",
     "output_type": "stream",
     "text": [
      "Drive already mounted at /gdrive; to attempt to forcibly remount, call drive.mount(\"/gdrive\", force_remount=True).\n",
      "/gdrive\n"
     ]
    }
   ],
   "source": [
    "from google.colab import drive\n",
    "drive.mount('/gdrive')\n",
    "%cd /gdrive/"
   ]
  },
  {
   "cell_type": "code",
   "execution_count": 2,
   "metadata": {
    "colab": {
     "base_uri": "https://localhost:8080/"
    },
    "id": "Odri7vTJJf9k",
    "outputId": "5b41d671-ad97-47fb-e90d-64bc20092898"
   },
   "outputs": [
    {
     "name": "stdout",
     "output_type": "stream",
     "text": [
      "Requirement already satisfied: pydicom in /usr/local/lib/python3.7/dist-packages (2.1.2)\n"
     ]
    }
   ],
   "source": [
    "import os\n",
    "import pandas as pd\n",
    "import numpy as np\n",
    "import matplotlib.pyplot as plt\n",
    "from tqdm import tqdm_notebook as tqdm\n",
    "from skimage import exposure\n",
    "import cv2\n",
    "from joblib import Parallel, delayed\n",
    "!pip install pydicom\n",
    "import pydicom\n",
    "from pydicom import dcmread\n",
    "from sklearn.utils import resample # Handle Imbalance\n",
    "import pathlib\n",
    "import PIL"
   ]
  },
  {
   "cell_type": "code",
   "execution_count": 3,
   "metadata": {
    "colab": {
     "base_uri": "https://localhost:8080/"
    },
    "id": "zl32SG16fXO3",
    "outputId": "cc14a8cb-1c20-41c8-cffa-1fb37458fcb8"
   },
   "outputs": [
    {
     "name": "stdout",
     "output_type": "stream",
     "text": [
      "Collecting keras==2.3.1\n",
      "\u001b[?25l  Downloading https://files.pythonhosted.org/packages/ad/fd/6bfe87920d7f4fd475acd28500a42482b6b84479832bdc0fe9e589a60ceb/Keras-2.3.1-py2.py3-none-any.whl (377kB)\n",
      "\u001b[K     |████████████████████████████████| 378kB 8.8MB/s eta 0:00:01\n",
      "\u001b[?25hRequirement already satisfied: numpy>=1.9.1 in /usr/local/lib/python3.7/dist-packages (from keras==2.3.1) (1.19.5)\n",
      "Requirement already satisfied: pyyaml in /usr/local/lib/python3.7/dist-packages (from keras==2.3.1) (3.13)\n",
      "Requirement already satisfied: six>=1.9.0 in /usr/local/lib/python3.7/dist-packages (from keras==2.3.1) (1.15.0)\n",
      "Requirement already satisfied: keras-preprocessing>=1.0.5 in /usr/local/lib/python3.7/dist-packages (from keras==2.3.1) (1.1.2)\n",
      "Collecting keras-applications>=1.0.6\n",
      "\u001b[?25l  Downloading https://files.pythonhosted.org/packages/71/e3/19762fdfc62877ae9102edf6342d71b28fbfd9dea3d2f96a882ce099b03f/Keras_Applications-1.0.8-py3-none-any.whl (50kB)\n",
      "\u001b[K     |████████████████████████████████| 51kB 5.8MB/s  eta 0:00:01\n",
      "\u001b[?25hRequirement already satisfied: scipy>=0.14 in /usr/local/lib/python3.7/dist-packages (from keras==2.3.1) (1.4.1)\n",
      "Requirement already satisfied: h5py in /usr/local/lib/python3.7/dist-packages (from keras==2.3.1) (2.10.0)\n",
      "Installing collected packages: keras-applications, keras\n",
      "  Found existing installation: Keras 2.4.3\n",
      "    Uninstalling Keras-2.4.3:\n",
      "      Successfully uninstalled Keras-2.4.3\n",
      "Successfully installed keras-2.3.1 keras-applications-1.0.8\n"
     ]
    }
   ],
   "source": [
    "!pip install keras==2.3.1"
   ]
  },
  {
   "cell_type": "code",
   "execution_count": null,
   "metadata": {
    "id": "N4wTXxsUga2p"
   },
   "outputs": [],
   "source": [
    "#!pip install keras_unet"
   ]
  },
  {
   "cell_type": "code",
   "execution_count": null,
   "metadata": {
    "id": "QCMGcdo2fZ83"
   },
   "outputs": [],
   "source": [
    "#!pip install -U segmentation-models==0.2.1"
   ]
  },
  {
   "cell_type": "code",
   "execution_count": 4,
   "metadata": {
    "colab": {
     "base_uri": "https://localhost:8080/"
    },
    "id": "hGe8z7p7O8vr",
    "outputId": "bf9de01b-7217-404a-e1a3-b768227a793a"
   },
   "outputs": [
    {
     "name": "stdout",
     "output_type": "stream",
     "text": [
      "Collecting tensorflow_io\n",
      "\u001b[?25l  Downloading https://files.pythonhosted.org/packages/73/41/881ec181816767bd91b8f2dbb319dff8eb5ff80039ed6e003c1ab8d547d7/tensorflow_io-0.17.0-cp37-cp37m-manylinux2010_x86_64.whl (25.3MB)\n",
      "\u001b[K     |████████████████████████████████| 25.3MB 1.4MB/s \n",
      "\u001b[?25hRequirement already satisfied: tensorflow<2.5.0,>=2.4.0 in /usr/local/lib/python3.7/dist-packages (from tensorflow_io) (2.4.1)\n",
      "Requirement already satisfied: wheel~=0.35 in /usr/local/lib/python3.7/dist-packages (from tensorflow<2.5.0,>=2.4.0->tensorflow_io) (0.36.2)\n",
      "Requirement already satisfied: grpcio~=1.32.0 in /usr/local/lib/python3.7/dist-packages (from tensorflow<2.5.0,>=2.4.0->tensorflow_io) (1.32.0)\n",
      "Requirement already satisfied: google-pasta~=0.2 in /usr/local/lib/python3.7/dist-packages (from tensorflow<2.5.0,>=2.4.0->tensorflow_io) (0.2.0)\n",
      "Requirement already satisfied: gast==0.3.3 in /usr/local/lib/python3.7/dist-packages (from tensorflow<2.5.0,>=2.4.0->tensorflow_io) (0.3.3)\n",
      "Requirement already satisfied: protobuf>=3.9.2 in /usr/local/lib/python3.7/dist-packages (from tensorflow<2.5.0,>=2.4.0->tensorflow_io) (3.12.4)\n",
      "Requirement already satisfied: keras-preprocessing~=1.1.2 in /usr/local/lib/python3.7/dist-packages (from tensorflow<2.5.0,>=2.4.0->tensorflow_io) (1.1.2)\n",
      "Requirement already satisfied: tensorflow-estimator<2.5.0,>=2.4.0 in /usr/local/lib/python3.7/dist-packages (from tensorflow<2.5.0,>=2.4.0->tensorflow_io) (2.4.0)\n",
      "Requirement already satisfied: wrapt~=1.12.1 in /usr/local/lib/python3.7/dist-packages (from tensorflow<2.5.0,>=2.4.0->tensorflow_io) (1.12.1)\n",
      "Requirement already satisfied: numpy~=1.19.2 in /usr/local/lib/python3.7/dist-packages (from tensorflow<2.5.0,>=2.4.0->tensorflow_io) (1.19.5)\n",
      "Requirement already satisfied: termcolor~=1.1.0 in /usr/local/lib/python3.7/dist-packages (from tensorflow<2.5.0,>=2.4.0->tensorflow_io) (1.1.0)\n",
      "Requirement already satisfied: absl-py~=0.10 in /usr/local/lib/python3.7/dist-packages (from tensorflow<2.5.0,>=2.4.0->tensorflow_io) (0.12.0)\n",
      "Requirement already satisfied: six~=1.15.0 in /usr/local/lib/python3.7/dist-packages (from tensorflow<2.5.0,>=2.4.0->tensorflow_io) (1.15.0)\n",
      "Requirement already satisfied: typing-extensions~=3.7.4 in /usr/local/lib/python3.7/dist-packages (from tensorflow<2.5.0,>=2.4.0->tensorflow_io) (3.7.4.3)\n",
      "Requirement already satisfied: h5py~=2.10.0 in /usr/local/lib/python3.7/dist-packages (from tensorflow<2.5.0,>=2.4.0->tensorflow_io) (2.10.0)\n",
      "Requirement already satisfied: tensorboard~=2.4 in /usr/local/lib/python3.7/dist-packages (from tensorflow<2.5.0,>=2.4.0->tensorflow_io) (2.4.1)\n",
      "Requirement already satisfied: astunparse~=1.6.3 in /usr/local/lib/python3.7/dist-packages (from tensorflow<2.5.0,>=2.4.0->tensorflow_io) (1.6.3)\n",
      "Requirement already satisfied: flatbuffers~=1.12.0 in /usr/local/lib/python3.7/dist-packages (from tensorflow<2.5.0,>=2.4.0->tensorflow_io) (1.12)\n",
      "Requirement already satisfied: opt-einsum~=3.3.0 in /usr/local/lib/python3.7/dist-packages (from tensorflow<2.5.0,>=2.4.0->tensorflow_io) (3.3.0)\n",
      "Requirement already satisfied: setuptools in /usr/local/lib/python3.7/dist-packages (from protobuf>=3.9.2->tensorflow<2.5.0,>=2.4.0->tensorflow_io) (54.2.0)\n",
      "Requirement already satisfied: markdown>=2.6.8 in /usr/local/lib/python3.7/dist-packages (from tensorboard~=2.4->tensorflow<2.5.0,>=2.4.0->tensorflow_io) (3.3.4)\n",
      "Requirement already satisfied: requests<3,>=2.21.0 in /usr/local/lib/python3.7/dist-packages (from tensorboard~=2.4->tensorflow<2.5.0,>=2.4.0->tensorflow_io) (2.23.0)\n",
      "Requirement already satisfied: tensorboard-plugin-wit>=1.6.0 in /usr/local/lib/python3.7/dist-packages (from tensorboard~=2.4->tensorflow<2.5.0,>=2.4.0->tensorflow_io) (1.8.0)\n",
      "Requirement already satisfied: werkzeug>=0.11.15 in /usr/local/lib/python3.7/dist-packages (from tensorboard~=2.4->tensorflow<2.5.0,>=2.4.0->tensorflow_io) (1.0.1)\n",
      "Requirement already satisfied: google-auth-oauthlib<0.5,>=0.4.1 in /usr/local/lib/python3.7/dist-packages (from tensorboard~=2.4->tensorflow<2.5.0,>=2.4.0->tensorflow_io) (0.4.3)\n",
      "Requirement already satisfied: google-auth<2,>=1.6.3 in /usr/local/lib/python3.7/dist-packages (from tensorboard~=2.4->tensorflow<2.5.0,>=2.4.0->tensorflow_io) (1.28.0)\n",
      "Requirement already satisfied: importlib-metadata; python_version < \"3.8\" in /usr/local/lib/python3.7/dist-packages (from markdown>=2.6.8->tensorboard~=2.4->tensorflow<2.5.0,>=2.4.0->tensorflow_io) (3.8.1)\n",
      "Requirement already satisfied: certifi>=2017.4.17 in /usr/local/lib/python3.7/dist-packages (from requests<3,>=2.21.0->tensorboard~=2.4->tensorflow<2.5.0,>=2.4.0->tensorflow_io) (2020.12.5)\n",
      "Requirement already satisfied: chardet<4,>=3.0.2 in /usr/local/lib/python3.7/dist-packages (from requests<3,>=2.21.0->tensorboard~=2.4->tensorflow<2.5.0,>=2.4.0->tensorflow_io) (3.0.4)\n",
      "Requirement already satisfied: urllib3!=1.25.0,!=1.25.1,<1.26,>=1.21.1 in /usr/local/lib/python3.7/dist-packages (from requests<3,>=2.21.0->tensorboard~=2.4->tensorflow<2.5.0,>=2.4.0->tensorflow_io) (1.24.3)\n",
      "Requirement already satisfied: idna<3,>=2.5 in /usr/local/lib/python3.7/dist-packages (from requests<3,>=2.21.0->tensorboard~=2.4->tensorflow<2.5.0,>=2.4.0->tensorflow_io) (2.10)\n",
      "Requirement already satisfied: requests-oauthlib>=0.7.0 in /usr/local/lib/python3.7/dist-packages (from google-auth-oauthlib<0.5,>=0.4.1->tensorboard~=2.4->tensorflow<2.5.0,>=2.4.0->tensorflow_io) (1.3.0)\n",
      "Requirement already satisfied: rsa<5,>=3.1.4; python_version >= \"3.6\" in /usr/local/lib/python3.7/dist-packages (from google-auth<2,>=1.6.3->tensorboard~=2.4->tensorflow<2.5.0,>=2.4.0->tensorflow_io) (4.7.2)\n",
      "Requirement already satisfied: pyasn1-modules>=0.2.1 in /usr/local/lib/python3.7/dist-packages (from google-auth<2,>=1.6.3->tensorboard~=2.4->tensorflow<2.5.0,>=2.4.0->tensorflow_io) (0.2.8)\n",
      "Requirement already satisfied: cachetools<5.0,>=2.0.0 in /usr/local/lib/python3.7/dist-packages (from google-auth<2,>=1.6.3->tensorboard~=2.4->tensorflow<2.5.0,>=2.4.0->tensorflow_io) (4.2.1)\n",
      "Requirement already satisfied: zipp>=0.5 in /usr/local/lib/python3.7/dist-packages (from importlib-metadata; python_version < \"3.8\"->markdown>=2.6.8->tensorboard~=2.4->tensorflow<2.5.0,>=2.4.0->tensorflow_io) (3.4.1)\n",
      "Requirement already satisfied: oauthlib>=3.0.0 in /usr/local/lib/python3.7/dist-packages (from requests-oauthlib>=0.7.0->google-auth-oauthlib<0.5,>=0.4.1->tensorboard~=2.4->tensorflow<2.5.0,>=2.4.0->tensorflow_io) (3.1.0)\n",
      "Requirement already satisfied: pyasn1>=0.1.3 in /usr/local/lib/python3.7/dist-packages (from rsa<5,>=3.1.4; python_version >= \"3.6\"->google-auth<2,>=1.6.3->tensorboard~=2.4->tensorflow<2.5.0,>=2.4.0->tensorflow_io) (0.4.8)\n",
      "Installing collected packages: tensorflow-io\n",
      "Successfully installed tensorflow-io-0.17.0\n"
     ]
    }
   ],
   "source": [
    "!pip install tensorflow_io"
   ]
  },
  {
   "cell_type": "code",
   "execution_count": null,
   "metadata": {
    "id": "ZfhjZpED-7jR"
   },
   "outputs": [],
   "source": [
    "!pip list"
   ]
  },
  {
   "cell_type": "code",
   "execution_count": 3,
   "metadata": {
    "colab": {
     "base_uri": "https://localhost:8080/"
    },
    "id": "rimyoEUTbIv2",
    "outputId": "f5c484f7-dbac-4469-f7ed-b2f7d7b2d9da"
   },
   "outputs": [
    {
     "name": "stderr",
     "output_type": "stream",
     "text": [
      "Using TensorFlow backend.\n"
     ]
    }
   ],
   "source": [
    "import tensorflow as tf\n",
    "import keras\n",
    "import os\n",
    "import imgaug.augmenters as iaa\n",
    "from PIL import Image\n",
    "# import albumentations as A\n",
    "os.environ['TF_FORCE_GPU_ALLOW_GROWTH'] = 'true'\n",
    "#from tensorflow.keras import layers,Model\n",
    "from tensorflow.keras.layers import Dense,Input,Conv2D,MaxPool2D,Activation,Dropout,Flatten, BatchNormalization, ReLU, Reshape,Flatten,MaxPooling2D,concatenate,UpSampling2D\n",
    "from keras.callbacks import ModelCheckpoint, EarlyStopping, LearningRateScheduler, ReduceLROnPlateau, TensorBoard,CSVLogger\n",
    "from keras import backend as K\n",
    "from tensorflow.keras.models import Model\n",
    "from tensorflow.keras.losses import binary_crossentropy\n",
    "import random as rn\n",
    "import tensorflow_io as tfio\n",
    "\n",
    "# we are importing the pretrained unet from the segmentation models\n",
    "# https://github.com/qubvel/segmentation_models\n",
    "#import segmentation_models as sm\n",
    "#from segmentation_models import Unet\n",
    "# sm.set_framework('tf.keras')\n",
    "keras.backend.set_image_data_format('channels_last')\n",
    "#from segmentation_models.metrics import iou_score"
   ]
  },
  {
   "cell_type": "code",
   "execution_count": 4,
   "metadata": {
    "id": "vK15Lzb2hsz2"
   },
   "outputs": [],
   "source": [
    "from glob import glob\n",
    "import pathlib\n",
    "import pydicom as dicom\n"
   ]
  },
  {
   "cell_type": "code",
   "execution_count": 5,
   "metadata": {
    "id": "0QFdlyqBwnKO"
   },
   "outputs": [],
   "source": [
    "os.chdir('/gdrive/MyDrive/Image_Segementation_CS2/')"
   ]
  },
  {
   "cell_type": "code",
   "execution_count": 6,
   "metadata": {
    "colab": {
     "base_uri": "https://localhost:8080/",
     "height": 204
    },
    "id": "6mJosiMpgHQF",
    "outputId": "13e3d7f3-9d69-4144-9645-875a7f6b0d7c"
   },
   "outputs": [
    {
     "data": {
      "text/html": [
       "<div>\n",
       "<style scoped>\n",
       "    .dataframe tbody tr th:only-of-type {\n",
       "        vertical-align: middle;\n",
       "    }\n",
       "\n",
       "    .dataframe tbody tr th {\n",
       "        vertical-align: top;\n",
       "    }\n",
       "\n",
       "    .dataframe thead th {\n",
       "        text-align: right;\n",
       "    }\n",
       "</style>\n",
       "<table border=\"1\" class=\"dataframe\">\n",
       "  <thead>\n",
       "    <tr style=\"text-align: right;\">\n",
       "      <th></th>\n",
       "      <th>ImageId</th>\n",
       "      <th>EncodedPixels</th>\n",
       "    </tr>\n",
       "  </thead>\n",
       "  <tbody>\n",
       "    <tr>\n",
       "      <th>0</th>\n",
       "      <td>1.2.276.0.7230010.3.1.4.8323329.6904.151787520...</td>\n",
       "      <td>-1</td>\n",
       "    </tr>\n",
       "    <tr>\n",
       "      <th>1</th>\n",
       "      <td>1.2.276.0.7230010.3.1.4.8323329.13666.15178752...</td>\n",
       "      <td>557374 2 1015 8 1009 14 1002 20 997 26 990 32 ...</td>\n",
       "    </tr>\n",
       "    <tr>\n",
       "      <th>2</th>\n",
       "      <td>1.2.276.0.7230010.3.1.4.8323329.11028.15178752...</td>\n",
       "      <td>-1</td>\n",
       "    </tr>\n",
       "    <tr>\n",
       "      <th>3</th>\n",
       "      <td>1.2.276.0.7230010.3.1.4.8323329.10366.15178752...</td>\n",
       "      <td>514175 10 1008 29 994 30 993 32 991 33 990 34 ...</td>\n",
       "    </tr>\n",
       "    <tr>\n",
       "      <th>4</th>\n",
       "      <td>1.2.276.0.7230010.3.1.4.8323329.10016.15178752...</td>\n",
       "      <td>592184 33 976 58 956 73 941 88 926 102 917 109...</td>\n",
       "    </tr>\n",
       "  </tbody>\n",
       "</table>\n",
       "</div>"
      ],
      "text/plain": [
       "                                             ImageId                                      EncodedPixels\n",
       "0  1.2.276.0.7230010.3.1.4.8323329.6904.151787520...                                                 -1\n",
       "1  1.2.276.0.7230010.3.1.4.8323329.13666.15178752...  557374 2 1015 8 1009 14 1002 20 997 26 990 32 ...\n",
       "2  1.2.276.0.7230010.3.1.4.8323329.11028.15178752...                                                 -1\n",
       "3  1.2.276.0.7230010.3.1.4.8323329.10366.15178752...  514175 10 1008 29 994 30 993 32 991 33 990 34 ...\n",
       "4  1.2.276.0.7230010.3.1.4.8323329.10016.15178752...  592184 33 976 58 956 73 941 88 926 102 917 109..."
      ]
     },
     "execution_count": 6,
     "metadata": {
      "tags": []
     },
     "output_type": "execute_result"
    }
   ],
   "source": [
    "dataset = pd.read_csv('siim/train-rle.csv')\n",
    "dataset.head()"
   ]
  },
  {
   "cell_type": "code",
   "execution_count": null,
   "metadata": {
    "id": "cJZRUONmhRgh"
   },
   "outputs": [],
   "source": [
    "data_dir = pathlib.Path(\"siim\")\n",
    "train_read = sorted(data_dir.glob('dicom-images-train/**/*.dcm'))\n",
    "test_read  = sorted(data_dir.glob('dicom-images-test/**/*.dcm'))"
   ]
  },
  {
   "cell_type": "code",
   "execution_count": null,
   "metadata": {
    "colab": {
     "base_uri": "https://localhost:8080/",
     "height": 117,
     "referenced_widgets": [
      "b885cab8d3794587ac477bf58b8c796d",
      "7139777ab1cf49e1a7f59e67952d599c",
      "90b4b27d916f4059bada1b71006d4719",
      "d2e79c3dda60449fba73a67f23a1ca27",
      "db1d2583424e4f35979052436992dea3",
      "2d48c36871da40f3b7d7c14e8402b071",
      "e28864da0d9a4ee5b50ee5b6d0c744a8",
      "8be34a1f7ba34b739e8ef31da606e0c2"
     ]
    },
    "id": "4iGTKQGIgHZq",
    "outputId": "c4c5fd80-d476-490f-f913-cd101d28aecc"
   },
   "outputs": [
    {
     "name": "stderr",
     "output_type": "stream",
     "text": [
      "/usr/local/lib/python3.7/dist-packages/ipykernel_launcher.py:5: TqdmDeprecationWarning: This function will be removed in tqdm==5.0.0\n",
      "Please use `tqdm.notebook.tqdm` instead of `tqdm.tqdm_notebook`\n",
      "  \"\"\"\n"
     ]
    },
    {
     "data": {
      "application/vnd.jupyter.widget-view+json": {
       "model_id": "b885cab8d3794587ac477bf58b8c796d",
       "version_major": 2,
       "version_minor": 0
      },
      "text/plain": [
       "HBox(children=(FloatProgress(value=0.0, max=12089.0), HTML(value='')))"
      ]
     },
     "metadata": {
      "tags": []
     },
     "output_type": "display_data"
    },
    {
     "name": "stdout",
     "output_type": "stream",
     "text": [
      "\n"
     ]
    }
   ],
   "source": [
    "missing_images = 0\n",
    "train_df =[]\n",
    "remove =[]\n",
    "\n",
    "for j,i in enumerate(tqdm(train_read)):\n",
    "\n",
    "\n",
    "  sample = dicom.dcmread(i) # reading each input\n",
    "  train ={}\n",
    "  train['UID'] = sample.SOPInstanceUID\n",
    "\n",
    "  try: # try and except , to avoid throwing and error in case of missing files\n",
    "    \n",
    "    encoded_pixel = dataset[dataset['ImageId'] == train['UID']].values [0][1] # Checking each input is present in csv or not\n",
    "    train['Encoded_pixel'] = encoded_pixel\n",
    "  except:\n",
    "    missing_images+=1\n",
    "    remove.append('siim/dicom-images-train/'+sample.StudyInstanceUID+'/'+sample.SeriesInstanceUID+'/'+sample.SOPInstanceUID+'.dcm')\n",
    "    # if the image details are not ppresent in CSV means, file is missing\n",
    "  \n",
    "  train['Path'] = 'siim/dicom-images-train/'+sample.StudyInstanceUID+'/'+sample.SeriesInstanceUID+'/'+sample.SOPInstanceUID+'.dcm' # saving for fucture references \n",
    "  \n",
    "  train_df.append(train)\n",
    "\n",
    "\n"
   ]
  },
  {
   "cell_type": "code",
   "execution_count": null,
   "metadata": {
    "colab": {
     "base_uri": "https://localhost:8080/",
     "height": 204
    },
    "id": "RgQOuAWhvGdp",
    "outputId": "77ac97e5-4599-4918-905b-20e26579106c"
   },
   "outputs": [
    {
     "data": {
      "text/html": [
       "<div>\n",
       "<style scoped>\n",
       "    .dataframe tbody tr th:only-of-type {\n",
       "        vertical-align: middle;\n",
       "    }\n",
       "\n",
       "    .dataframe tbody tr th {\n",
       "        vertical-align: top;\n",
       "    }\n",
       "\n",
       "    .dataframe thead th {\n",
       "        text-align: right;\n",
       "    }\n",
       "</style>\n",
       "<table border=\"1\" class=\"dataframe\">\n",
       "  <thead>\n",
       "    <tr style=\"text-align: right;\">\n",
       "      <th></th>\n",
       "      <th>UID</th>\n",
       "      <th>Encoded_pixel</th>\n",
       "      <th>Path</th>\n",
       "    </tr>\n",
       "  </thead>\n",
       "  <tbody>\n",
       "    <tr>\n",
       "      <th>0</th>\n",
       "      <td>1.2.276.0.7230010.3.1.4.8323329.1000.151787516...</td>\n",
       "      <td>-1</td>\n",
       "      <td>siim/dicom-images-train/1.2.276.0.7230010.3.1....</td>\n",
       "    </tr>\n",
       "    <tr>\n",
       "      <th>1</th>\n",
       "      <td>1.2.276.0.7230010.3.1.4.8323329.10000.15178752...</td>\n",
       "      <td>-1</td>\n",
       "      <td>siim/dicom-images-train/1.2.276.0.7230010.3.1....</td>\n",
       "    </tr>\n",
       "    <tr>\n",
       "      <th>2</th>\n",
       "      <td>1.2.276.0.7230010.3.1.4.8323329.10001.15178752...</td>\n",
       "      <td>-1</td>\n",
       "      <td>siim/dicom-images-train/1.2.276.0.7230010.3.1....</td>\n",
       "    </tr>\n",
       "    <tr>\n",
       "      <th>3</th>\n",
       "      <td>1.2.276.0.7230010.3.1.4.8323329.10002.15178752...</td>\n",
       "      <td>-1</td>\n",
       "      <td>siim/dicom-images-train/1.2.276.0.7230010.3.1....</td>\n",
       "    </tr>\n",
       "    <tr>\n",
       "      <th>4</th>\n",
       "      <td>1.2.276.0.7230010.3.1.4.8323329.10003.15178752...</td>\n",
       "      <td>-1</td>\n",
       "      <td>siim/dicom-images-train/1.2.276.0.7230010.3.1....</td>\n",
       "    </tr>\n",
       "  </tbody>\n",
       "</table>\n",
       "</div>"
      ],
      "text/plain": [
       "                                                 UID  ...                                               Path\n",
       "0  1.2.276.0.7230010.3.1.4.8323329.1000.151787516...  ...  siim/dicom-images-train/1.2.276.0.7230010.3.1....\n",
       "1  1.2.276.0.7230010.3.1.4.8323329.10000.15178752...  ...  siim/dicom-images-train/1.2.276.0.7230010.3.1....\n",
       "2  1.2.276.0.7230010.3.1.4.8323329.10001.15178752...  ...  siim/dicom-images-train/1.2.276.0.7230010.3.1....\n",
       "3  1.2.276.0.7230010.3.1.4.8323329.10002.15178752...  ...  siim/dicom-images-train/1.2.276.0.7230010.3.1....\n",
       "4  1.2.276.0.7230010.3.1.4.8323329.10003.15178752...  ...  siim/dicom-images-train/1.2.276.0.7230010.3.1....\n",
       "\n",
       "[5 rows x 3 columns]"
      ]
     },
     "execution_count": 17,
     "metadata": {
      "tags": []
     },
     "output_type": "execute_result"
    }
   ],
   "source": [
    "df_main = pd.DataFrame(train_df,columns=['UID','Encoded_pixel','Path'])\n",
    "df_main.head()"
   ]
  },
  {
   "cell_type": "code",
   "execution_count": null,
   "metadata": {
    "colab": {
     "base_uri": "https://localhost:8080/",
     "height": 204
    },
    "id": "G7BHBt0vv0t7",
    "outputId": "320b1be2-c5ff-4aa8-c0e4-0276f073a371"
   },
   "outputs": [
    {
     "data": {
      "text/html": [
       "<div>\n",
       "<style scoped>\n",
       "    .dataframe tbody tr th:only-of-type {\n",
       "        vertical-align: middle;\n",
       "    }\n",
       "\n",
       "    .dataframe tbody tr th {\n",
       "        vertical-align: top;\n",
       "    }\n",
       "\n",
       "    .dataframe thead th {\n",
       "        text-align: right;\n",
       "    }\n",
       "</style>\n",
       "<table border=\"1\" class=\"dataframe\">\n",
       "  <thead>\n",
       "    <tr style=\"text-align: right;\">\n",
       "      <th></th>\n",
       "      <th>UID</th>\n",
       "      <th>Encoded_pixel</th>\n",
       "      <th>Path</th>\n",
       "    </tr>\n",
       "  </thead>\n",
       "  <tbody>\n",
       "    <tr>\n",
       "      <th>0</th>\n",
       "      <td>1.2.276.0.7230010.3.1.4.8323329.1000.151787516...</td>\n",
       "      <td>-1</td>\n",
       "      <td>siim/dicom-images-train/1.2.276.0.7230010.3.1....</td>\n",
       "    </tr>\n",
       "    <tr>\n",
       "      <th>1</th>\n",
       "      <td>1.2.276.0.7230010.3.1.4.8323329.10000.15178752...</td>\n",
       "      <td>-1</td>\n",
       "      <td>siim/dicom-images-train/1.2.276.0.7230010.3.1....</td>\n",
       "    </tr>\n",
       "    <tr>\n",
       "      <th>2</th>\n",
       "      <td>1.2.276.0.7230010.3.1.4.8323329.10001.15178752...</td>\n",
       "      <td>-1</td>\n",
       "      <td>siim/dicom-images-train/1.2.276.0.7230010.3.1....</td>\n",
       "    </tr>\n",
       "    <tr>\n",
       "      <th>3</th>\n",
       "      <td>1.2.276.0.7230010.3.1.4.8323329.10002.15178752...</td>\n",
       "      <td>-1</td>\n",
       "      <td>siim/dicom-images-train/1.2.276.0.7230010.3.1....</td>\n",
       "    </tr>\n",
       "    <tr>\n",
       "      <th>4</th>\n",
       "      <td>1.2.276.0.7230010.3.1.4.8323329.10003.15178752...</td>\n",
       "      <td>-1</td>\n",
       "      <td>siim/dicom-images-train/1.2.276.0.7230010.3.1....</td>\n",
       "    </tr>\n",
       "  </tbody>\n",
       "</table>\n",
       "</div>"
      ],
      "text/plain": [
       "                                                 UID  ...                                               Path\n",
       "0  1.2.276.0.7230010.3.1.4.8323329.1000.151787516...  ...  siim/dicom-images-train/1.2.276.0.7230010.3.1....\n",
       "1  1.2.276.0.7230010.3.1.4.8323329.10000.15178752...  ...  siim/dicom-images-train/1.2.276.0.7230010.3.1....\n",
       "2  1.2.276.0.7230010.3.1.4.8323329.10001.15178752...  ...  siim/dicom-images-train/1.2.276.0.7230010.3.1....\n",
       "3  1.2.276.0.7230010.3.1.4.8323329.10002.15178752...  ...  siim/dicom-images-train/1.2.276.0.7230010.3.1....\n",
       "4  1.2.276.0.7230010.3.1.4.8323329.10003.15178752...  ...  siim/dicom-images-train/1.2.276.0.7230010.3.1....\n",
       "\n",
       "[5 rows x 3 columns]"
      ]
     },
     "execution_count": 18,
     "metadata": {
      "tags": []
     },
     "output_type": "execute_result"
    }
   ],
   "source": [
    "df_main = df_main.loc[~df_main['Path'].isin(remove)] #remove the row which dont have image.\n",
    "df_main.head()"
   ]
  },
  {
   "cell_type": "code",
   "execution_count": null,
   "metadata": {
    "colab": {
     "base_uri": "https://localhost:8080/",
     "height": 289
    },
    "id": "sgyW9-3KyRx4",
    "outputId": "e28393a6-f5f7-4555-8839-2f1d8c965574"
   },
   "outputs": [
    {
     "name": "stderr",
     "output_type": "stream",
     "text": [
      "/usr/local/lib/python3.7/dist-packages/pandas/core/frame.py:4174: SettingWithCopyWarning: \n",
      "A value is trying to be set on a copy of a slice from a DataFrame\n",
      "\n",
      "See the caveats in the documentation: https://pandas.pydata.org/pandas-docs/stable/user_guide/indexing.html#returning-a-view-versus-a-copy\n",
      "  errors=errors,\n"
     ]
    },
    {
     "data": {
      "text/html": [
       "<div>\n",
       "<style scoped>\n",
       "    .dataframe tbody tr th:only-of-type {\n",
       "        vertical-align: middle;\n",
       "    }\n",
       "\n",
       "    .dataframe tbody tr th {\n",
       "        vertical-align: top;\n",
       "    }\n",
       "\n",
       "    .dataframe thead th {\n",
       "        text-align: right;\n",
       "    }\n",
       "</style>\n",
       "<table border=\"1\" class=\"dataframe\">\n",
       "  <thead>\n",
       "    <tr style=\"text-align: right;\">\n",
       "      <th></th>\n",
       "      <th>Encoded_pixel</th>\n",
       "      <th>Path</th>\n",
       "    </tr>\n",
       "  </thead>\n",
       "  <tbody>\n",
       "    <tr>\n",
       "      <th>6</th>\n",
       "      <td>209126 1 1019 6 1015 10 1012 13 1010 14 1008 1...</td>\n",
       "      <td>siim/dicom-images-train/1.2.276.0.7230010.3.1....</td>\n",
       "    </tr>\n",
       "    <tr>\n",
       "      <th>13</th>\n",
       "      <td>49820 3 1017 11 1012 13 1009 16 1007 18 1006 1...</td>\n",
       "      <td>siim/dicom-images-train/1.2.276.0.7230010.3.1....</td>\n",
       "    </tr>\n",
       "    <tr>\n",
       "      <th>14</th>\n",
       "      <td>261328 6 1015 11 1011 15 1007 18 1004 21 1002 ...</td>\n",
       "      <td>siim/dicom-images-train/1.2.276.0.7230010.3.1....</td>\n",
       "    </tr>\n",
       "    <tr>\n",
       "      <th>18</th>\n",
       "      <td>592184 33 976 58 956 73 941 88 926 102 917 109...</td>\n",
       "      <td>siim/dicom-images-train/1.2.276.0.7230010.3.1....</td>\n",
       "    </tr>\n",
       "    <tr>\n",
       "      <th>28</th>\n",
       "      <td>530522 1 1022 3 1019 6 1017 7 1016 9 1014 10 1...</td>\n",
       "      <td>siim/dicom-images-train/1.2.276.0.7230010.3.1....</td>\n",
       "    </tr>\n",
       "  </tbody>\n",
       "</table>\n",
       "</div>"
      ],
      "text/plain": [
       "                                        Encoded_pixel                                               Path\n",
       "6   209126 1 1019 6 1015 10 1012 13 1010 14 1008 1...  siim/dicom-images-train/1.2.276.0.7230010.3.1....\n",
       "13  49820 3 1017 11 1012 13 1009 16 1007 18 1006 1...  siim/dicom-images-train/1.2.276.0.7230010.3.1....\n",
       "14  261328 6 1015 11 1011 15 1007 18 1004 21 1002 ...  siim/dicom-images-train/1.2.276.0.7230010.3.1....\n",
       "18  592184 33 976 58 956 73 941 88 926 102 917 109...  siim/dicom-images-train/1.2.276.0.7230010.3.1....\n",
       "28  530522 1 1022 3 1019 6 1017 7 1016 9 1014 10 1...  siim/dicom-images-train/1.2.276.0.7230010.3.1...."
      ]
     },
     "execution_count": 53,
     "metadata": {
      "tags": []
     },
     "output_type": "execute_result"
    }
   ],
   "source": [
    "df_downsampled = df_main[df_main['Encoded_pixel']!= '-1']\n",
    "df_downsampled.drop('UID',axis=1,inplace=True)\n",
    "df_downsampled.head()"
   ]
  },
  {
   "cell_type": "code",
   "execution_count": null,
   "metadata": {
    "id": "ZuEkVi7197VV"
   },
   "outputs": [],
   "source": [
    "df_main.to_csv('Main_CS2_SIIM_All.csv',index=False)"
   ]
  },
  {
   "cell_type": "code",
   "execution_count": null,
   "metadata": {
    "id": "O_fjHwKF8_dZ"
   },
   "outputs": [],
   "source": [
    "df_downsampled.to_csv('Main_CS2_SIIM.csv',index=False)"
   ]
  },
  {
   "cell_type": "code",
   "execution_count": 6,
   "metadata": {
    "id": "MA88QMuU9MX_"
   },
   "outputs": [],
   "source": [
    "# Read a saved files\n",
    "df_main = pd.read_csv('Main_CS2_SIIM_All.csv')\n",
    "df_downsampled = pd.read_csv('Main_CS2_SIIM.csv') # Only negative sampled."
   ]
  },
  {
   "cell_type": "code",
   "execution_count": 7,
   "metadata": {
    "colab": {
     "base_uri": "https://localhost:8080/",
     "height": 142
    },
    "id": "eKIXY9r39Mbx",
    "outputId": "68c97aa4-7607-4b28-f6ee-d82cdaede478"
   },
   "outputs": [
    {
     "data": {
      "text/html": [
       "<div>\n",
       "<style scoped>\n",
       "    .dataframe tbody tr th:only-of-type {\n",
       "        vertical-align: middle;\n",
       "    }\n",
       "\n",
       "    .dataframe tbody tr th {\n",
       "        vertical-align: top;\n",
       "    }\n",
       "\n",
       "    .dataframe thead th {\n",
       "        text-align: right;\n",
       "    }\n",
       "</style>\n",
       "<table border=\"1\" class=\"dataframe\">\n",
       "  <thead>\n",
       "    <tr style=\"text-align: right;\">\n",
       "      <th></th>\n",
       "      <th>UID</th>\n",
       "      <th>Encoded_pixel</th>\n",
       "      <th>Path</th>\n",
       "    </tr>\n",
       "  </thead>\n",
       "  <tbody>\n",
       "    <tr>\n",
       "      <th>0</th>\n",
       "      <td>1.2.276.0.7230010.3.1.4.8323329.1000.151787516...</td>\n",
       "      <td>-1</td>\n",
       "      <td>siim/dicom-images-train/1.2.276.0.7230010.3.1....</td>\n",
       "    </tr>\n",
       "    <tr>\n",
       "      <th>1</th>\n",
       "      <td>1.2.276.0.7230010.3.1.4.8323329.10000.15178752...</td>\n",
       "      <td>-1</td>\n",
       "      <td>siim/dicom-images-train/1.2.276.0.7230010.3.1....</td>\n",
       "    </tr>\n",
       "    <tr>\n",
       "      <th>2</th>\n",
       "      <td>1.2.276.0.7230010.3.1.4.8323329.10001.15178752...</td>\n",
       "      <td>-1</td>\n",
       "      <td>siim/dicom-images-train/1.2.276.0.7230010.3.1....</td>\n",
       "    </tr>\n",
       "  </tbody>\n",
       "</table>\n",
       "</div>"
      ],
      "text/plain": [
       "                                                 UID  ...                                               Path\n",
       "0  1.2.276.0.7230010.3.1.4.8323329.1000.151787516...  ...  siim/dicom-images-train/1.2.276.0.7230010.3.1....\n",
       "1  1.2.276.0.7230010.3.1.4.8323329.10000.15178752...  ...  siim/dicom-images-train/1.2.276.0.7230010.3.1....\n",
       "2  1.2.276.0.7230010.3.1.4.8323329.10001.15178752...  ...  siim/dicom-images-train/1.2.276.0.7230010.3.1....\n",
       "\n",
       "[3 rows x 3 columns]"
      ]
     },
     "execution_count": 7,
     "metadata": {
      "tags": []
     },
     "output_type": "execute_result"
    }
   ],
   "source": [
    "df_main.head(3)"
   ]
  },
  {
   "cell_type": "code",
   "execution_count": 12,
   "metadata": {
    "colab": {
     "base_uri": "https://localhost:8080/",
     "height": 142
    },
    "id": "QWEFCDG39atP",
    "outputId": "e7e63265-dc76-4833-df5e-3013e527a4b1"
   },
   "outputs": [
    {
     "data": {
      "text/html": [
       "<div>\n",
       "<style scoped>\n",
       "    .dataframe tbody tr th:only-of-type {\n",
       "        vertical-align: middle;\n",
       "    }\n",
       "\n",
       "    .dataframe tbody tr th {\n",
       "        vertical-align: top;\n",
       "    }\n",
       "\n",
       "    .dataframe thead th {\n",
       "        text-align: right;\n",
       "    }\n",
       "</style>\n",
       "<table border=\"1\" class=\"dataframe\">\n",
       "  <thead>\n",
       "    <tr style=\"text-align: right;\">\n",
       "      <th></th>\n",
       "      <th>Encoded_pixel</th>\n",
       "      <th>Path</th>\n",
       "    </tr>\n",
       "  </thead>\n",
       "  <tbody>\n",
       "    <tr>\n",
       "      <th>0</th>\n",
       "      <td>209126 1 1019 6 1015 10 1012 13 1010 14 1008 1...</td>\n",
       "      <td>siim/dicom-images-train/1.2.276.0.7230010.3.1....</td>\n",
       "    </tr>\n",
       "    <tr>\n",
       "      <th>1</th>\n",
       "      <td>49820 3 1017 11 1012 13 1009 16 1007 18 1006 1...</td>\n",
       "      <td>siim/dicom-images-train/1.2.276.0.7230010.3.1....</td>\n",
       "    </tr>\n",
       "    <tr>\n",
       "      <th>2</th>\n",
       "      <td>261328 6 1015 11 1011 15 1007 18 1004 21 1002 ...</td>\n",
       "      <td>siim/dicom-images-train/1.2.276.0.7230010.3.1....</td>\n",
       "    </tr>\n",
       "  </tbody>\n",
       "</table>\n",
       "</div>"
      ],
      "text/plain": [
       "                                       Encoded_pixel                                               Path\n",
       "0  209126 1 1019 6 1015 10 1012 13 1010 14 1008 1...  siim/dicom-images-train/1.2.276.0.7230010.3.1....\n",
       "1  49820 3 1017 11 1012 13 1009 16 1007 18 1006 1...  siim/dicom-images-train/1.2.276.0.7230010.3.1....\n",
       "2  261328 6 1015 11 1011 15 1007 18 1004 21 1002 ...  siim/dicom-images-train/1.2.276.0.7230010.3.1...."
      ]
     },
     "execution_count": 12,
     "metadata": {
      "tags": []
     },
     "output_type": "execute_result"
    }
   ],
   "source": [
    "df_downsampled.head(3)"
   ]
  },
  {
   "cell_type": "code",
   "execution_count": 8,
   "metadata": {
    "colab": {
     "base_uri": "https://localhost:8080/",
     "height": 242,
     "referenced_widgets": [
      "924b5ba26fe04b81a437a6a85e40a6d7",
      "ca9498a1288c40e8a44c377e294c608f",
      "a6d1dd9f72ba49d39610920b42b0a39f",
      "0348bbdbb3ff4f949ad3bea17795783e",
      "afd8af492285469c817a5221d82bb50f",
      "8eb8c5dbf79841e58687105cb29448de",
      "aa0ab03ed1b044b9ab7f12535fd4e16d",
      "1a1116ef805c45e29a25d20bbe54877c"
     ]
    },
    "id": "9zkq3YmG9cKP",
    "outputId": "6d22c542-f6e6-4bd3-898c-2c5fa59749a7"
   },
   "outputs": [
    {
     "name": "stderr",
     "output_type": "stream",
     "text": [
      "/usr/local/lib/python3.7/dist-packages/ipykernel_launcher.py:3: TqdmDeprecationWarning: This function will be removed in tqdm==5.0.0\n",
      "Please use `tqdm.notebook.tqdm` instead of `tqdm.tqdm_notebook`\n",
      "  This is separate from the ipykernel package so we can avoid doing imports until\n"
     ]
    },
    {
     "data": {
      "application/vnd.jupyter.widget-view+json": {
       "model_id": "924b5ba26fe04b81a437a6a85e40a6d7",
       "version_major": 2,
       "version_minor": 0
      },
      "text/plain": [
       "HBox(children=(FloatProgress(value=0.0, max=12047.0), HTML(value='')))"
      ]
     },
     "metadata": {
      "tags": []
     },
     "output_type": "display_data"
    },
    {
     "name": "stdout",
     "output_type": "stream",
     "text": [
      "\n"
     ]
    },
    {
     "data": {
      "text/html": [
       "<div>\n",
       "<style scoped>\n",
       "    .dataframe tbody tr th:only-of-type {\n",
       "        vertical-align: middle;\n",
       "    }\n",
       "\n",
       "    .dataframe tbody tr th {\n",
       "        vertical-align: top;\n",
       "    }\n",
       "\n",
       "    .dataframe thead th {\n",
       "        text-align: right;\n",
       "    }\n",
       "</style>\n",
       "<table border=\"1\" class=\"dataframe\">\n",
       "  <thead>\n",
       "    <tr style=\"text-align: right;\">\n",
       "      <th></th>\n",
       "      <th>UID</th>\n",
       "      <th>Encoded_pixel</th>\n",
       "      <th>Path</th>\n",
       "      <th>Label</th>\n",
       "    </tr>\n",
       "  </thead>\n",
       "  <tbody>\n",
       "    <tr>\n",
       "      <th>0</th>\n",
       "      <td>1.2.276.0.7230010.3.1.4.8323329.1000.151787516...</td>\n",
       "      <td>-1</td>\n",
       "      <td>siim/dicom-images-train/1.2.276.0.7230010.3.1....</td>\n",
       "      <td>0</td>\n",
       "    </tr>\n",
       "    <tr>\n",
       "      <th>1</th>\n",
       "      <td>1.2.276.0.7230010.3.1.4.8323329.10000.15178752...</td>\n",
       "      <td>-1</td>\n",
       "      <td>siim/dicom-images-train/1.2.276.0.7230010.3.1....</td>\n",
       "      <td>0</td>\n",
       "    </tr>\n",
       "    <tr>\n",
       "      <th>2</th>\n",
       "      <td>1.2.276.0.7230010.3.1.4.8323329.10001.15178752...</td>\n",
       "      <td>-1</td>\n",
       "      <td>siim/dicom-images-train/1.2.276.0.7230010.3.1....</td>\n",
       "      <td>0</td>\n",
       "    </tr>\n",
       "  </tbody>\n",
       "</table>\n",
       "</div>"
      ],
      "text/plain": [
       "                                                 UID  ... Label\n",
       "0  1.2.276.0.7230010.3.1.4.8323329.1000.151787516...  ...     0\n",
       "1  1.2.276.0.7230010.3.1.4.8323329.10000.15178752...  ...     0\n",
       "2  1.2.276.0.7230010.3.1.4.8323329.10001.15178752...  ...     0\n",
       "\n",
       "[3 rows x 4 columns]"
      ]
     },
     "execution_count": 8,
     "metadata": {
      "tags": []
     },
     "output_type": "execute_result"
    }
   ],
   "source": [
    "# create classfication problem\n",
    "label =[]\n",
    "for i in tqdm(df_main['Encoded_pixel']):\n",
    "  if i =='-1':\n",
    "    label.append(0)\n",
    "  else:\n",
    "    label.append(1)  \n",
    "\n",
    "df_main['Label'] = label\n",
    "df_main.head(3)"
   ]
  },
  {
   "cell_type": "code",
   "execution_count": 9,
   "metadata": {
    "colab": {
     "base_uri": "https://localhost:8080/",
     "height": 142
    },
    "id": "-0m-RzEnORh_",
    "outputId": "1464f2a7-d3e7-4889-8c15-fa594f34e9e4"
   },
   "outputs": [
    {
     "data": {
      "text/html": [
       "<div>\n",
       "<style scoped>\n",
       "    .dataframe tbody tr th:only-of-type {\n",
       "        vertical-align: middle;\n",
       "    }\n",
       "\n",
       "    .dataframe tbody tr th {\n",
       "        vertical-align: top;\n",
       "    }\n",
       "\n",
       "    .dataframe thead th {\n",
       "        text-align: right;\n",
       "    }\n",
       "</style>\n",
       "<table border=\"1\" class=\"dataframe\">\n",
       "  <thead>\n",
       "    <tr style=\"text-align: right;\">\n",
       "      <th></th>\n",
       "      <th>Path</th>\n",
       "      <th>Label</th>\n",
       "    </tr>\n",
       "  </thead>\n",
       "  <tbody>\n",
       "    <tr>\n",
       "      <th>0</th>\n",
       "      <td>siim/dicom-images-train/1.2.276.0.7230010.3.1....</td>\n",
       "      <td>0</td>\n",
       "    </tr>\n",
       "    <tr>\n",
       "      <th>1</th>\n",
       "      <td>siim/dicom-images-train/1.2.276.0.7230010.3.1....</td>\n",
       "      <td>0</td>\n",
       "    </tr>\n",
       "    <tr>\n",
       "      <th>2</th>\n",
       "      <td>siim/dicom-images-train/1.2.276.0.7230010.3.1....</td>\n",
       "      <td>0</td>\n",
       "    </tr>\n",
       "  </tbody>\n",
       "</table>\n",
       "</div>"
      ],
      "text/plain": [
       "                                                Path  Label\n",
       "0  siim/dicom-images-train/1.2.276.0.7230010.3.1....      0\n",
       "1  siim/dicom-images-train/1.2.276.0.7230010.3.1....      0\n",
       "2  siim/dicom-images-train/1.2.276.0.7230010.3.1....      0"
      ]
     },
     "execution_count": 9,
     "metadata": {
      "tags": []
     },
     "output_type": "execute_result"
    }
   ],
   "source": [
    "df_downsampled = df_main[['Path','Label']]\n",
    "df_downsampled.head(3)"
   ]
  },
  {
   "cell_type": "markdown",
   "metadata": {
    "id": "6T6hjOjSoW_G"
   },
   "source": [
    "# **MODEL**\n"
   ]
  },
  {
   "cell_type": "markdown",
   "metadata": {
    "id": "pARODw7rOHKY"
   },
   "source": [
    "![image.png](data:image/png;base64,iVBORw0KGgoAAAANSUhEUgAAAmAAAAGuCAYAAAA3YbqJAAAgAElEQVR4AeydCbgcRdX+ffTz7+ensosLKiiyiyiKgoooKiqouCGyKSiCyiYIhj172EISSAhLCDsJEraQhEsggbAFQiBsCYSwJCEJhOxkJds9/+etmeqprunu6ZqepWb67ee5t2e6azn1O6eq3qnu6fmAcCMBEiABEiABEiABEmgogQ80tDZWRgIkQAIkQAIkQAIkIBRgDAISIAESIAESIAESaDABCrAGA2d1JEACJEACJEACJEABxhggARIgARIgARIggQYToABrMHBWRwIkQAIkQAIkQAIUYIwBEiABEiABEiABEmgwAQqwBgNndSRAAiRAAiRAAiRAAcYYIAESIAESIAESIIEGE6AAazBwVkcCJEACJEACJEACFGCMARIgARIgARIgARJoMIGKAuz999+XsQ88JCee3EW+u++Bste3fywH/+ZI6XNBf3n99ZnS2dnZYJPjq1u6dJkc85cTlY2w0/yDzf0HXClvvTU3ZPOGDRtkyLU3y34//JWMGfNA6Fx8TdWdWbV6tfTsfan87MA/yNNPT1GFPDvlBWXnrw4+QmbOnF1dwQ653nxzlhx62LHKnwsXLnbI2fik8M0dd94rv/jVYbLPd38mXc7sLm+/M7/xhrRJjeirEyY8Locd/jcVc/844XR55ZUZqnXY4z36zO8OOVr1BfBvhW3goCHK7nPP7yNr1rwfaXKj+1mkETwYIkCfhHDwTQ4JJAqwWbPekqOPiRY0GKgxKd50022ydt06L9AlCTAtxiAibx12h+jJxcyTNIBHNXDkvR1q4IfoQzmVNggsCC3YgkkDW70GIbNdsFNv2mbYgLp93iCIEWPadxAGb7wx02eTvbYN/t7/x78OeOI1PgjMn79Ajjzq78Fx8L7hxuE1/TASF4+1AEYBVguK9Ssjzvf1Gvvq1xKWTAK1JRArwBYsWBgSX/867Rx5+OHHZdLTz6rBGasSemLECpIWNLU1z600s6P//Z+ny+OPP6XsffLJyXL1NTeolSfYjEl9xB0j1QQDuyFKjv3bKfLMM885VajFTFoBBqF6zZCb5MSTughWorDVaxAyWZgC7J133lUrSZf0HShYkfN1W7t2rXTtfpGKsUv7XaHiC8d8WnH1lV2cXVdedb3iefp/usqKFSsFPDdu7JRx4x9RxyFw8aFr48aN6i+unGqOx8VjNWXZeSjAbCJ+vY/zfb3GPr9aT2tIIJ5ApACDKOk/4Co1KEOsjBx5nxqozWLwqfn4v5+m0hx40KHyyvTCpQwzTaNfmx09ajXLtvm1197IZKKrAIuqrF6DkMnCFGBRNvh4rNXt940pLs2hT+ADiF591TbqOD77nF6yevUafbim+3r6kwKspq6qeWFxvq/X2FfzBrBAEqgTgUgBNm/eO3LIoX9Rg3WUkNG2vPDiVHXvFAb1664fplaV8Povx54sS4xLcli1uO76W1V5uM/kvfeWqyKwCnTueb3VZREIPaxaPfXUMyGxpycHrDLh8hNWQ7AyEnWvh9nR4+ye+OTTwWWt4bfdpcqJmpjmzn1bevfpF1yywT1kVwweKm+/PV9dboy61wzlLF36XjDRXT5oiEybNl3dW4N2mPZpUWQOQlhdvODCAepeO1wqxf1i5j1PJguUpTezDFzm1OngC/MP6ey0ugzc63fX3aPlsCOOU3lQP+65grDWq07mJI776SY88oQc9ed/qPS4nHX5wGsqrqpB3CMfYgQ+j/J7kv3aXnOv08MnWO3ECg/KhU39+g+WZcveM5PLu+8ukL6XXhGsiKIN9499KHQp3SzTjrvFi5fIVVeXVlRxT1/UPZF2PUiHfMivNzMm/nv73coHWImC35AeMZq0uoxziJszunQNYtWuR/vcjAW8Rp+Ni2P42vYVeKJPoG/YW1JbNUu7ftiFLW09WEEeNXqsukcNZcFvT0ycJJddfrXiFdfnUYdmgFsAkvqZHh+i7snEvbCoF/6ZM3eejSA0lqB/IL2+3w55cEld+9LV72kYmf3TFtm2SDXrHzb8TnVbho47cH3u+ZdUnKL/wO/oT+ec21uWLFkatNu2ybUvmz6ZMuXFUJ/SNgSVRcRJVH1Ir+Mtas5YsHCRDL3ulmCciypD3/pgLiygrbiKAv9j4cH3+2dNbnztL4FIAYbOh8BEsN19z5hY681OjMHv9TdmqsEJeTGQ6Q2CS9/gi0t/2B577MlgwkA9+g95zXu0dGfCIKDvn4obaG17okQaBpA/Hf1PVR8mk+XLVwaCSQ9aGFxxozpswmSG+2P0FxAg/nB5Nm7iMgUY7IXdKAftMO3De2x6EEK7993voICD5nHEUccLBDE2zQJ1oyy96TL0pKHT6TL0HunstCgDTE4/4/yyupEPdt076n4lwswBXpdp77V/tW3mHpc8IXzsPPo9BjgMdEn2m+Xp1zp9HEPEnp44cLO5nmh0vXoPca9jRpdpx9277y5UX2BAHpzDRKF9jIFZf/B47rkXg3jV5es96tf3spkxoc+be7TJ7Eu6zXqvBYOZR7/W7dY+18f1PkmALV++Qq2U6bTmHnH24ovTtAmS1FYIQ8SEmV+/hl0QVVoc6ON6b9ZjToD6PPamz+PGBRiqGZjpzXJ0P4saq5DfjP2evfqGxLoGYaZBX0ZdZh14rW/XcPF7WkZm/Xos07ZpxppRpfox7uFDp20/PoTiA1kt+nIln+DDID7wYktbH9LG9d0lS5bJf7p0K2sT2ghfQXhhA298EMZxfbke90qin+NPf4FKJeY/EshAIFKA6Y6BAEQwx21mh0fHhpiBqEE+c5DSkwQ+UeCynylwBl95nWD1BZ0agzomJ/OTh+5MKBP3oT3y6ERVBgZkezMHFT3QVEpjCiY9aI2570HVhpNPOUswEWFDp8RxTOC4bwYDNVYsYBcm4dmz56i0uISDunEcog2rYLi3DPdemfZpriZrsEM5EAu47Ksndqwego9mUUmAwS8oB3bBDtiJutetWx9MRFqsoVzccI10qA/1on7kP/PsHuq49pvpb+Qf/9CjKu1rr78ZCFIIVNxbFLWNG/eIGugw2F079Gb1KRJc8Ckb9eM4YiXJ/qhyNRfkh4hDmfiEijpwDGUjDXyGb/Pi/fldLwhWYvHNWNwDiLS4bxCbLhNpzbiDv5AOK8R6ckA8YCVG5zXrwZdYsFIM/lid0+IPEwEmFTMmkBaDO46hHjBG/bh3K25DXRCOWKmEHfhDGfAZ8uI1/I7L71jRxDGIYNSB+s04xnmkQ8w/OG6CaidiAm1DuegDt48YqY7ricluq7YfbT713+cqoZnkTx0TlerBuKHbBH9gpRdxihjUnOL6PNi59DMtGM3Vel0/fB8niOP6B2yFzWCv+52L39MyMuvXY5mOmyQBpmMUPDEew078XXDRAPXhD2OBvt1EM9Y2gUe1fTnOJ1iR0zYgDba09SFtXN/FnIF4waoy7oHEhr2es8xL8OgH+ospEGMYH2BTrb+coozgv9wSiBRg1a6AYQDQYgsTDYQWBn8d4FqU6Zt+8akTq0l6gxjQlyrx6Ryb7kxYtcIAkbSZg5oeKOz0qA/1ojPBrqgVMHR6DCxIg3bgEgcmV91pdZnaNlMQmYMg8qFNejPtQ15sehDSA7NOi8FC34eHm/YxKUbVF1dGVF1RaVEuykdbtdDTNpiDUNLlWqS3B3hdht5HxYE+B66Y0GHDJX0HqVWwOPt1HnMfxwUCQ3/iha+ff75wyfyAn/1epr/6mlmEulykYwK26jLtuDO/yYpVggsvukzdxL5oUemRHi9NfUVdmsejTSBEzA1xhNjSNsS104wjezI1y1u5cpVcM+RGJZ5RLi7jd9w/Lljl1XGWVJ5uq+4zpq+0P3SdEFwQJmgb2pnUVp0H+6h2utSjPxTpccUsu1LsIa1LP8O4hXrAE+OZOS6Zosy0Aa+TGGsBhxjD+BfFI6oMF0ZJ9duM4uqP42Tmj/ugDftd+nJcXWYfQxqTgZ5DNPuo+nQ8230XfsTc9rfjT1Vjjb5Uj7kGfjHHcZSPDxP6QzDO6w8dum7uSSArgUgBZt4Dpj+pR1Vk3wOGNHqARsDik6Q9mCGN7iBIE/eHCRMdT6e1O0eUPeagoicTO52eAFFvnKiA+MGnMLPzIT1WtO68a1RwH0eUbUmDoGkf8mKLG4Rwzi7ffq/bFlVGVF1R9cWlQ1q7LfZ7XT/25gCNdPaWlDcqf5JddtlxXOxyn3zqmdh403FYSexiEMfqkPktYOTFZI3LM1jNjfKHttmeXOLaWYkXyjNFOmITMY/VRNM2HWdJ5Wl+us+YaTWXqD2ERFJbdZuxj2qnSz3axqhxoFLsof4kO+2yzQkfAhQrqvq2haRL7GZ7YJO52e233+u0dhnm+ygf6GPwhZnWrt9mFFd/HCczf9RVA20/9mZa2ORal91HktoVVZ/tT22bKYJxbx7sxMok+i442rGFD6e4CqIZY/WMGwnUkkCkADMHdgSn67cg9RI+JjM8dgEBbH5y1CtguKSAVSJcNrL/cLNtrQUYhKVeSo66rIYOaW6oH/fq4B4o3VF1PqSL6uhJg0XUQBQ34GGix4QOdpVEQVQZUXXBZjttpRUwfRMx7gVMaps96Joc8dqc1OxPsbABl6vQVr1qGGe/XS7eR/kBx+NWwLB6c9HFl5fFHGIQwnvVqlWxZer60Ufw4eKBBx9WwgcCSK+YJK0K4QsIaCdEEmIrrp1JrLUNZl6seiFmsGE1Tl9+BhtsSeVpflqAmb7667GnRHICK6wmJLVVVVz8Z9qqbXKpp14rYFH9DCabK/l6DItafTPbmMTYnPyrXQGr5Iuk+u3+GeUPtMUeH3T7zPxJK2AufTmuLluAmXGSZuzQ8WwLKn0cq8T6Xk34/847R6k+aabHccx76Kv6D5ckcVWAGwnUikCkAEPhmFz0jegIQNw7g8kG3yDCki2Wb3Vg6htLtVF61Uufx9785KjLxoSF+5OwaoANewxO+uncOKY7jdk5dD323hxU0Mmw2gV7o54DFnVjuRZg6GSYjHBPGiZabDgGMQKbMfFg07bh8iEmInTqpEHQtA95selBCOXinouke8D0JAQBAV+gPNz7Y99fgnLNunAfGiblqNUZDDTV3AOmWalGRHzq1cfNvct9HKb9mpVZlvla+wEMIQyi7gHDN9LM+5Ug9PQlZfhYx4kuV5dpxx3y4NupiC1MDNjMSQc+MuvR99egPZXuATPbmRRH2kaTEdqnt6wCDOVoX0F0IN5xDxg2lI1fJ0AbsdltjboHDOlMW814TFuPKWBwb6LuJ673gKXpZ7pd+NBojmF6VV41POKf6TOMCbANt01AUOg+qkWcyaOS39MyMp+dh7jFvZlx98nF1a/HI/uWCFOAoZ3aJvBMugcsyfdxddkCDGW41BfXd/VxczEgToBhXMWHbbTv/vvHB88k7N7jYjXGR7ifh0jAmUCsAENJ1T4J31xBwwCmBx1tHYIeE4Z9iU8Pdvi6M1YvsOlOY0+Euixzbw4quix7j5UK81uW5qCpRcVNN/83GHhhI+4ZQz6UBSGqJx/9KVnXgW8SLl6yJLgJX5enbTTt04OuHoTQ0aO+BQkRDMGKzZyEdJ3YQ5Bhbw6a5uqPTgvRoOsz00JAQHDqdOYediWJVd02e4DWx8190re5UCfEkxa8UazMsszXOkbiGGLA1fcPJn1jD6uj+Jo6Nl2mHXf4KR/NBzGB2NBxbPoq6duW6A9R34LUMYH6o+LSbDNegxU+/MAe2AIf1uISJMpG/CR9YxWrA+jH2PBBBfGkuZh7rGziPrW4eExbD9qK+DDLxmvT53oFTxll/dNxb6Y3yzJ9p7PqlXxdD/p70mb6zOVbkJX8npYRbDNt1u0z26wZxfUvzckcH1Cu3b9d+nKc7+PqihJgLvXF9d2Zs94KvgSTdAkSY4UW37gKgdhDf0W/BUs9HibFAs+RQBoCiQIMBeBbffh6rutvQZr3h+Fmcj2xaqMweOO3JPVzwDBYYFUNS8zms6fiOpMux9ybg4oefPQ+7rcgzUFTCyZ09kcfe1JOOuXMYHJFfjzDyXymFFaUsHqECRgd87zzL1BfKtBiRpenbTTt04OuOQglPZ8IZYAZ7j/CQIB2YQ8xCWGF9/agCRGgBxJc8sLlL7M+DHR6Q1tcngNmt80eoHW59h5xUOk5YMgTxcouS783YwTf2EOswh/wC77VZfoMefDtRfM5YEiHxyVg9Uav9Jhlwha94TxEHL4xpVeBscdzwMxntiF90rOxdHlx7YyKS53H3MNvN950m7IFbUbbEQ/6niUdZ0nl6bbqyVmXj34Awamf2YYYw6MB8Bwl81lmSJ+mrVHxiLxp60G6ej8HTLcde3Ml31w1MdOYr03GeA4Yxk3dVzHh40OnHgdd/Z6WEcQOnsenxyRcCcCzFbHiC/9pH8fVHzc+RPXvtH0ZjKJ8H1dXlABDGWnr0/Fsf3jSdujxAf0W47f+1iXSY4VXC337eV/6+WAYZzF3cSOBrAQqCrCsFTA/CdSbQNKAW++6WX77EjC/MW3eQhHXYlOA2R9Q4vLwOAmQQH4JUIDl1/dt03IKsLZxpRcNwb19uAylV0awiqVvA0gykAIsiQ7PkQAJ2AQowGwifN9yBCjAWs5lXhusL+njkh3+7C8ZxRlPARZHhsdJgASiCFCARVHhsZYiQAHWUu7y3lh9IztWvrAKhvvs0mwUYGkoMQ0JkIAmQAGmSXBPAiRAAiRAAiRAAg0iQAHWINCshgRIgARIgARIgAQ0AQowTYJ7EiABEiABEiABEmgQAQqwBoFmNSRAAiRAAiRAAiSgCVCAaRLckwAJkAAJkAAJkECDCFCANQg0qyEBEiABEiABEiABTYACTJPgngRIgARIgARIgAQaRIACrEGgWQ0JkAAJkAAJkAAJaAIUYJoE9yRAAiRAAiRAAiTQIAIUYA0CzWpIgARIgARIgARIQBOgANMkuCcBEiABEiABEiCBBhGgAGsQaFZDAiRAAiRAAiRAApoABZgmwT0JkAAJkAAJkAAJNIgABViDQLMaEiABEiABEiABEtAEKMA0Ce5JgARIgARIgARIoEEEKMAaBJrVkAAJkAAJkAAJkIAmQAGmSXBPAiRAAiRAAiRAAg0iQAHWINCshgRIgARIgARIgAQ0AQowTYJ7EiABEiABEiABEmgQAQqwBoFmNSRAAiRAAiRAAiSgCVCAaRLckwAJkAAJkAAJkECDCFCANQg0qyEBEiABEiABEiABTSBRgO29997CPzJgDDAGGAOMAcYAY4AxUB4DWkxVs6cAo8ikyGYMMAYYA4wBxgBjoIoYqEZ46TwUYFUA56eA8k8BZEImjAHGAGOAMZC3GNBiqpo9BRgFGD/1MAYYA4wBxgBjgDFQRQxUI7x0HgqwKoDnTeGzvfxUyxhgDDAGGAOMgfIY0GKqmn2LCLBTZPikadLRv7zx/gREwcZp06aJ+uvo58mniX7SAZsmDZdTKDYr+KTOcXbqcJms42Nah/Rz8Uf/DvrQhZdzWvSTyTL8VJ/HGNrmz3hf8kW/juKYb/Zpq78ijd/zV6k9PjL22aZqhJfOUzsBpicXU3hYQVg9xDpPjM6DdXmwnjJscnMmyIqM6yjAKtZdzqn6GGhEWQ2KM9VXogRYQv1NZl2aZMrFfOjcNGuigd2B6NQT1TSZZowTqu8YaSYPO6WCUK51LBS4u9Rrt1m3sTDJFsrTx0p7B4Gnx1PNJeYDlLbDnNxtnqjfPK/6oC7f8EPQN0M+i7ZZ16vaZpehy1a2l+cP2We2K5Sv/INsKF+Ri9mukE0RdYfOm/Wq8b84ThbLTR0LyuZCX0b5hXwRYl6lK2cRMK/BHMSyaj0upCtPi6lq9jUWYJNl8iRjYqnZpJEwMXkSuKXOl85pNessNWNchd3NrLsufm9QnBmDdjgOEupvIms18RkTlprI7ElX+6PiRFNoYzDB2e2qmL+KONW2xezt9oV9krK+SnajneYKSYwthbrtCdxipvMqdh3SYV0dQHsCvjqtsdftHY6VG9uPVjtU2pDdBVvK8unyVTvjhYaKHSOWQqxRd9y5vfeWSu1C2aYgM8vWbdZXAcIxbPMtiLG4ssxy9zZsRpngrvehdOBjx7pmxn2DP3Cl7NMp/VKN8NJ5aizAOmS42flDAWcPKnsbgYoOMFmGDyt+Wu7op86VPrkVOkhH/0LHKHyiNISeAmWe059EiqDVoIL0RpqEjl7Wccx8+IRUltfuwGkdXGz3qYZdocEO5ZjnjAFTtclYUSh+cjMH+cLgWf5JstS+cNmhQRu+6+inBr0Cb4NpirrL7C5jlswoZLt1aUgPcGaa8GCZ0K7ETpUxzlC2moBKfgnbZcdjiYGaEAIflvIHPin2pX5YaS37lF5ob7iuqGOl+koxUOlYRDlBf4rKi/TxE7CasIwYVz4MiYAK+RP9F2VPpWO1qa+8HeF6dcym4h7Btzy/9ouO2VJ9sCWIG5sXyi7yVjEXYl8Yk8PiStdTLL84LkS3Q49nJVtC6VB30jhQ4Xxiu/Yu2B7uA9oOqw1gYjJWfTY8n1Typ9muUt/tkH7FfqqFnplu773LfRU+r+3lvpW4aDFVzb7mAkyJHN3JQsFYPtCVBpVCYCphozpGYbIvdYLieWNgDw8ehfOlQcfqcMUypwX5rfP2IBV6b5ddtEUNXIVy9IRY2idMQBFll+wqHwD7dZgDQ4TdIcbRHbfE0Txvt8sqWw1KhuBT701bkj/RlXxr1pny9anDpcO4DKXs1zFVHGgV6+LkET5foV0h/rY9Rd8GcWKXZb+3mEEsmxNaFDPUbw7+IXsK5UdOIhX8Ee4PWgha/grVZbc97j3aaMdz1LFifthp+MoeSMviwujvSKvakZDfLi/z+wr2pis/gUeiv+OYF+NQc1C+D/ug5O/ymEF/KI2FcXWUjzXlAqFox7TSh6+C/4YX7istfhAI4rUY1/gQHoyFug3FFaxpHcPV/bz6fMhO5DfS2+wrtQu2BbaEYj3KP8axqBiIOhYqM4oreIX9FNWGsMCNKofHbG4+v69GeOk8dRBgxieRUBAbAV8M5EJnxv0exiBiTE5qYlUTmnFedwI1KBUnmIiOW8qrJ7xw5yzVXSHYzXp03YaNhcAo2BcaTHTaxH1MuxIGoTK7Q4yj2xJioe2pxKys3HL/JS2pw86kidipQ1m8y8o2z1dql25/5L7cHyF2zmVHMEO9pr0hO8rrDzhV8odVZlmchOqJjpOgLiut4m0IS/U+JMoKdutJNXoSrNxuU1TH2VLr4yH/Wu1OW1elMqr1hSpXiRxLSId8XR4zpXxJq9/JAqzg47gPwoY9anwsig71uiTW9LiuBUdZ3Kh2GONy8b2OI3M1H76o1C5ts85vjsfqXGwMo58aduirDgnjcFRsVIoDlaesH7v1xah6eay5DLWYqmZfFwGmJhgEeyjYyicjdIpCJzEGEWNwKQW0cV4PkkY6+7KP7oC648dPeCkcF2pDMb1Zt7KnYJ/Z4dN1ioh2qUHMHuBKl6TQtlA9UfZpRsV9iaPRXlVPuFzFTQ9SZeWW+y/sX6Nsg4n2ReykbNla4FbgovMW9iUmpbix69QrPwntiqxPl1PujxC7Ssz0Ck7oUmLEJ+Ky+ImvP4ijiv4wbYevSryCMhLbrm2I2hcmKO2Pwq0AceUX7AjFaLFeexJUdikWevLTfo8rO8q2bMcibXLiVGATG9+qfRExkFhHkUOxL6oYDASC6We03X5v8wiXZcZCeduLaa0xptTfouoyjpXFaHiVvFROycaoY9rGQrvjYiG+XYX8Bb+U4rBCDIf6dvFSoh4LE31VbIvu08V4Vn0lKr9Ol6ZMpmmJe8OqEV46T30EmBoUivd0BZ8i0AHCA1Gp8xmd2AjQ0uRnnNdBaXZ287U+b+6NMnXnTr1XHdMaBMqOFewrdfbSAJNcT4V2FTuzObiXmBXrqNR2/cnRHgwq5Ss7X+6/ZAFmMIhoRxIXtDG0emb5r4yB6esyuw07zHSRr8v9UYrB8GQSZX/5hBHBDPVa7SmVVV5/cK6sXeVlB7Yire3vyPa6sDHSwv6gXxvHi3UEdph1qjaH+z/apnwdsrXavlRuR8DOtMN6HWmrlSapHJU/gUV5+1LYCf9ZAjqoR3GM+IAB0R9jR1wbo2wrPxaOSZwPj3PG+ai4NuI2yo7y8gw+UeUZvokqz/RVxbJjeKEMlB1up2GXYUOhvhKDUp3on9a8gXwGD9NWvk7i6/c5Laaq2ddJgBUCbfIk89EMCEj9Sbe0nFwI8lIAm5NTqYMZ51XwF96XOkih7NJ7y2EVOnJy8Ntl23Wjrqhjlg1lnbaUrySwrLqU3cakpQZmawC000TUU+Jo2mTVZecrGyiQ3rAF6VPUXWBbqKvUTtOO8tcYxEoCosDWnJBKg1x5Xn3zf2ws2O0MvS/UZdoZZpfMTKU1BnXVDptZwC1icI4UJMU2pvGHunSCbyJbfgq1MYqZw7GKPo/2ddinpfrUcYNZIaZK40Ry3zTYQICEhFypjsQyyrimzKeYRrc1qK8SK3U+Qjipfm76sNgHIttXHrNB/UGsRfOM9Imq20iv3huxmvi+YEup71nvbR72+1CcJrVZjz2GnaG8RaET1fcCJibfsM/tfhziaddjfcAFU9V+1TaDWzFfeDwJ11upHp73k1c1wkvnqZ8Ai7qOXuzcenk2CFZzGd0I3FKwFjujcWmn1Mm1UwqDob5Mgn0wkRplVhfEVtllA6E10ER00uh6K7dLDZK63ZOGC746brddcdJpgk9d5WVr7iVbrHaZzOArc2IsTu72gyqj6y4v17a5ZIP2n7FX/ip9yu8YhgeYlgazUtwYeULMy+sPYiGUzs5fYGamLcWgTptUdvjc5GG4Wbk00IdZ6faV2lVgYpdRfCZWSn+oeAn5Tdtd/T5st21veZyZ/FSbVL8vcQj7PkX+RJ+hXUVmVbW7kLfM5op1FqiM2jkAACAASURBVFfvYusstqtsrDD8oOM8ooww8yRxaceszdPmHo6vYLw07TTHaaPfab+FbbPjIVx+Wb8PlR22LVyuPc65titsV7js8Dn9ATqSRaU4sOcW7VPrMm6Bne0rIxYq1cPz3l6O1GKqmn3tBBgDpIoAYYfUgzr3tRmMK4vT2tTjl7+Kk7MpIhzGIzU5R4ggv9rYjn7LWZvKPkTlrP0OfbKV+l41wkvnoQBralBQgLVSR/PeVrW6YH+6b+9BPljZqFJ8FXxa6IdlqzVNHRva22/e96Va+16tjIVX/HLHoNZMPSlPi6lq9hRgTXUiBRgHoRpMtMFlHQ7w1ccTLp2RX/X8ahDHTR2L62s/VqarucxNf9TXL7XgW43w0nkowNq409ciuFiG/wMAfUQfMQYYA4yB5sSAFlPV7CnAKMCquHetOYHOAYbcGQOMAcYAY8CnGKhGeOk8FGAUYBRgjAHGAGOAMcAYYAxUEQNaTFWzpwCrArhP6pu28NMgY4AxwBhgDDAGmhMD1QgvnadFBFgr3KxesLGqZ8nUVQQWn8vTjl+zD24+xzO1ym+gDr4hp56R5uG3A12+lu6Stq7x1JxBrqrJhcxaeEWDX4qoKubZ9yvEvDFPG3OimiuCb1Ij9tLPF1pMVbOvnQDTD6ALGlHLn13wX4A17VlCFSeZOgqwinXXc7IutCv2m0V1+9p3DWPRhZ9LWsdBOCxUo8Wsv5NBgj/qyKzZPNQDd/XDl42JpGRXsd8X05T1Ez1eq/PhDy/heEg/EZXqztrvCz51fiwI/K2ZlH0gK5QZnDfnqbT9RTMryxtmreqI9Im2Icxb//pDYJuVN9EfoTaXP7A3FCfmg7ZVm7U9+qHQll0BF50u5rzmYtkdxIO20eamj0fEYCFvhblL12uXG9gdEYeoU9lZaJPqF6qccJy7zOfVCC+dp8YCDD+DYjQkaGwEiCRIZecMWGXnspZdm/xNewBmzRhXwaGZdUd0mqDDI0bqZlsNY9HFRpe0jn2kbLBBXWUTWBXx4WhHyH+p8yb4o47MqrO1RgzRrmDSKbS/9D7jz/Qo35fG8LLYSO2X6ttaXZ2YrC27rfclQVeY2EvvK9uqbcIvkYRYKx7huuNiQ5XR0WE97gR5TWFT8Gdgm5M/rLy2r9SYadZltduqS7cj2m6dt9j/OrSw0cf1vtC+jo7JYW6WLaoOw19q/J7WIcOHmT9nqMss/pRh8Zdhyv1RSqfbEOyDvlO0u7/el+dJO6drMVXNvsYCrAAsFDyBKrYDrfBTHoW0gFD88W6o4Y5+hR/pDRS7hoQytFovdbYCXPOc9TMWwWRtpAnsKgcfOCsIYCMf6i/LW7AvaHeQr1LZxXafapaf3K4g2FSbNAtzX8pfCOriuWDANm0y67WYFQPVLCNoX4q6g5+H0f4qY2baUf7arDdSDMQMFtp3Kn9MneGyS7x03kLnLzHV7bY/TepPrPq8yq/s0nnLB7tw3VGxVM4iKHfScOmHAanItFRvwY/hVY6oY9Fll7MKxzPOoy6z/eG6Cum1XUGMBpNTmENpYCvG/7DiykVZv4e94Rg1+55pT1C3+RMw8EUsswKLcBnRdpo+C7U75GvzOU9FHmb8FdOG8qceJ6L9puPV9h/aFF9PkfmpUWUW7C7FleYf5qLrrc8e/q5BfdYEb9uq/B45JkZwQVnFtNH5YHPEOGL6N7DHap86Hs6LOgo+cPdHKW9EO2J+Ti5gE2FL6fd+LbuLbQtir9jXTjHbbPy2rUpn8C7niPJ13PaTjmLfCco3y63oj6i262PFvlmcx9V4atgVsEB9UTxMO4qvqxFeOk/NBVg/OFkPPCGnlDuwFCxFKMinGl0IwJLTNLRSxww70A5U05kaJCZFnd86HwG15Ai77KItymmFcszBv/Ba16OdHrev1C6IVLNzRtgdYhxdT4mjed5ul1V2ccIIJlP13rQleZWp5FuzzpSvTx0uHcOKv4Gof+zW7JBa1Jl7c4A0jxdfB5OK1Y6yDq7OJ/mvwC1yglOxa+S16tKf6vrpeMN53Vf0sbi9Ksv49G3VFe4P+seILX/FlF3GwPpxeXXeEDZ2+nDdUXFlMCkOyuYEoxgk9PvAd0W7gphU7Unwh83M8ofdjkI7S8xUuxA/xdgKp+8nHebAbZWthWPBdqtvxfihNOak7CfFcsrswjinRa2K/1Kb9KSiVhZ0PwliMIpl1DE3+5zaBY6BPRnqsfqHbUM4ZtPXE50P/jUYl/nX7BNIa/aHwrmgzSqO9Pko9lHHtP122fp4cV+BrYojM6ZD40BE2SbjqLJVWwpcwmXbbSgyMMYY7a9wbFvtMQSeTu+2T+e3yLHe8LEWU9Xs6yDACitbyuiQU8odiGA2B2KVRznVdprtMGuCQR6r04YcrsrU6rrgxFLd5U4NOdEIouC4YWPhWMG+0kRRoczAeTHtstoS1BuavIp1hBhH1xtioeuuxKys3HL/JV3mUwNVQjvMNlV8Xcbb8r9uk7GP67iwK9yhzHal8WOEz4r1os5wDJhpzdfpfRewKfOHZavFKHV8WwIX9Sl2xoRSFj+huiIGsZCtJt9Cu0u2GUyMMoP6UI5hh2JhpCuwMcow/K/OhexA3aYteG3HQrisshguq9vsb2bZxePF9ErshCY2M1/G16oOox3F91o0gkOoHYqpHndRd6HNOr1ib/TbQiwY5duMa/w+8H2mcsNtKsSJwVkx0CLHOJ6iTsWyzJeFWCp9ELfKDsVhRJwEfQ6LBGEhl8Yf2keq/jLbiiyKYjs89qHtpu1udpf6cdSH8XBfCvu1dE7xLAqvcJqCX+z2276M9kc6n4bsj/F9mjTVCC+dpy4CTH3KQiBUCLxS40oO0Z/QsEpQcohxXoMyB8PioFLqAMVLQDoYzbQ6f9p9qA1Fx5aVV7AvPPmmCYKIdqm2GJ0wom2heqLss9pW4mjYFFFuqAOXlRsxcJSlMcrXA3tsxzfT2q8LXML+NJigfcp+65jR7uiOG1Wu68pohM+K9arBQK8qGPvCoBeRL5GfxSQiban/IK1ZPnwVz8YexBQrw97ISUD3JbTVjH/1utjfzDKCSbw8bkp2GzYbZQbxGtHmUN2Ku1GG4X/VxrL8pi3ma806XFbJTn0+vC/3tzWB6THMwRe2b5Lfow2mmLJ8o3kYbMNjcrE9IU4FBrrvTR7Wr3B7SOQlyzCPZFvTpVVMzVjTbXDYqzKC+LPqLcZruRCx0sXUl8o+8AxWuew4s98XeRfbrPtiyT43f0SPe7pthbJC80eonYV4KtRt22m9D8VMuQAL+nCx/PD7UptMW8DWfI94Sm5P8cNFNfGi7Ve+Koxfdt1B/RXK12Kqmn19BJiaDIrL4EFHsBwYWs0pOEQ53hgsSk4zzuuA0QDx3nytz5t7o0znQUI5yJrMyo5VCmzdAex9hXZFDBZlQVqp7TqI7SCqlK/sfLn/KnLXPohoR5IfygbQKP+V+SDMNrrjRvDWNqp9pfOoIz5NmW8qlV3GONyGEKOytOV2BP0FaW1/h2wJ1xPNqpQmKFeXYfrDfK3Ph/blcVPiZLTBKCeoL8rHZceMMkL1Ro0Lpi14ba/shI+V7Cyx0D5RNoaElVl2MX3RZ+o+k2AcLC9Ll+m2L9ha7ucIOwy25QI2ipNpI8qzxj+bcw3fB76vskw1dsTZqziUT/Iu3FX5FfuW4QMVrxEfUPBhBeWUxXMl0VHBH6avIxhW4hvEfAW7C5yj29VRvLFdi/jwvvAhpZxjdD9W9ib0nfJyzNiNe639Y9QJbhH1BDwiWOq4qUZ46Tx1EmCFTj15kvkNBjS6NOAVBjDdGSwQxQ5UChbjvAJReF9SrIWyS+8t8BWCUoOM3ttl23Wjrqhjlg2RDrTbZdWl7DY+VRc7RaiddpqIekocTZusuux8qCsUkEhv2IL0KeouMC3UVfpUZ9pR/jrcqQqM7FWZqIHL9F9cxy3EXfyEUuk86gjbZ9iv/GMxMriG8il27jfhBze5qrrsdhR8hH433GHFIo6V5qnOm5OOsl3XXfSPed5os77EoX1f4Ju239sxGt3PQlzNuivEsMpnxLjNAedDfc0oOyptadUDMWHGfLTdmq/7vlB2ufgqxKLNI/zetsV+b8RzqA3m8QqvVWyW7p1zal+ZzyrUZfhEtTOL+ErRJ8Mso21TaYy4Cre/0EeD/qlYmf214I9o35oxlVB3yr4YtqvSeG7ZbXBX5VTwW9kYUowRPS7Ejed2P7NtTuOPqDyFfl1grWyItN84b7fXeK/FVDX7+gkwfW3ZDMQidKWIi994KgNhDO4lpxWD0rjEUT4wFgclI03gXKNM2xnp3ltllwV4wb5ym6I7SanOyu0qDCrFTxrFr93a9ShOQbutiTE4XiwjZLvVLkMgl69uRXfA6LrLy7VtLjGIYKQHwqLtHcOGy2R7YFWxpNtaXkZSxw3bXC6C7PPltofbFzpvxriy37TRzNch/dBOs38YnbqMT2K5pfYnD/6ldGb5SayQTp0346asP1WIY9N2p34Pe01mcZN6OE3gD9Qb4ot05mRXFNNBHzF9VTgXlFXmG7vO4UbZxXMmsyKD+PKifWP6Sb+241OvMATjXfEDoT5ePpnbtpe+8FKYCPXKRpiVrr/yvlh+iH3a9hXyltqSMp81ZthtD42jgb+t9ukyyuwO87LLDjOLi1HdDpQVrrfMnxFxU6gznA9+SMxrx4E5vqt4tttVXn7J1+V2l85VWkWNGENQvzkuhMb38vFEtT/wi2131NymeVt7e0wwbCiLubJxziqrOCZUI7x0ntoJsLIBKtrYkNNyn6cQaGWOzz0Xxk61/QQTTS0m+WrrZz7Grr4iUC780rFRoiKYbNPlYdyRU61jIO1YqsVUNXsKsKaKHQqwWneaXJenPs2FV3FyzaOpfTufE2KwImOu4jj7oTAu8oNEPmPIhzHL5UNANcJL56EAcx4catkpKMB86Gwtb0OwjJ50CaGWccuyWj5mmjrupYmfCpe8vLc/TRuZxs9+hNhL/0FWi6lq9hRg7MgVfryUg4SfgwT9Qr8wBhgDjIFmx0A1wkvnqZkA0wVyTwIkQAIkQAIkQAJRBJotmGpdf1Qb0x6jAEtLiulIgARIgARIgAQyEai1AGp2eVlgUIBloce8JEACJEACJEACqQk0WzDVuv7UDY9ISAEWAYWHSIAESIAESIAEak+g1gKo2eVlIUQBloUe85IACZAACZAACaQm0GzBVOv6Uzc8IiEFWAQUHiIBEiABEiABEqg9gVoLoGaXl4UQBVgWesxLAiRAAiRAAiSQmkCzBVOt60/d8IiEFGARUHiovgQ+9rGPyRtvvFHfSppc+n777SdDhgyJteLPf/6znHPOObHneSIbAfLNxo+5SaBeBGotgJpdXhZOFGBZ6OUo77bbbiv/+7//KxBPW2+9tWCCW7FiRUUClYRIxQISEmSZZKPyzpw5Uz7wgQ/I+vXrE2pNd8ps9/XXXy/f/e53Qxmj6g8laOCban3bQBMTq/Kdb6LxPEkCOSPQbMFU6/qzuI8CLAu9HOXFJP3ggw+qFs+dO1d222036dKlS0UCphCpmNgxQRYRE5W33QVYZ2enbNy4sYxytb4tK6hJB+opwOKYNamprJYEWp5ArQVQs8vL4hAKsCz0cpTXnKTR7NNPP10OOuggWbJkidpvtdVWstlmm6nXc+bMUWTOPvts+eAHPygf+chH1MrZCSecoI5jlem1115Tr99//33597//LZ///OfVytrxxx8vq1evVucefvhh2WabbaRv377yyU9+Uj796U/Lddddp85dffXV8j//8z/y4Q9/WJX9i1/8Qh2/8MIL5bOf/ax8/OMflx133FHGjRunjtv/0giwJNuS2o26tPB8+eWXVfvBAauHm266qTIF9f/zn/+UAw88UNn6rW99S15//XV1DsdPO+20kMm//OUvpV+/fqFj+s0TTzwh3/zmN2WTTTZRe7zXG+yAH77zne+oFUzNXZ/HPs63OAdfXXnllfLlL39Z2Q7bIEr0NnToUNl5552V7w844ACZNWuWOhUlZjUTJIBogk3/+te/VLlf/OIXBXbj+Oc+9znl7xtuuEFXI8uWLZOjjjpKEGdf+MIXpGfPnkpMVsMXhboyQ9yhnYgr2HrVVVcFtiHm4D+9cjp48GDZddddZc2aNUEaviABEigQaLZgqnX9WfxKAZaFXo7ympP0W2+9pSaYc889VxYtWiR33HGHrFq1SpYvXy6///3v5eCDDw7ImJOuPmgKMEzAEBeLFy9W+SGkzjzzTJUUAuxDH/qQnHfeebJu3ToZM2aMfPSjH1WiDwlsETV9+nQ1ec+bN0/lhwjQokbXrfd2Xhy3RUOSbS7tjluh2WKLLWTSpElq4j788MPl0EMPVebh2Gc+85lgtWrhwoWq3fPnz9fmB3twg/C96aabVDnDhg1T72EfNvCHuJ06dao6D472FudbpIOvILSXLl0qs2fPVgKoo6NDFXHPPffI9ttvLxBBEB8QRfvss486Z7PEQTMWwAS+hbDZsGGDuh8OdkLgQfiOHTtWiR19mRvi61e/+pWKEZS9ww47yLXXXqvqcuVbDbPRo0erWIL4nDBhgvLHs88+q+rHquK+++4rXbt2lRkzZij+U6ZMUef4jwRIIEyg1gKo2eWFW+f2jgLMjVduU2OS1is4WIH4xz/+EaxUmVCee+45NQHpY+akq49pAYbJ7P/+7/9CImnixImy3XbbqaQQYLjvTK8s4CBWwp588kl13hZRWN3BeVwqjRIaun7skRcrc1iR0n+f+MQngnvAKtlmloXXSe2OEwh//etfg2IgLnfaaafgPVZbHnjgAfV+4MCB8vOf/zw4Z76A8Nprr73MQ+rH1VEnNvCHgE3aknwLXz322GNB9kMOOUQuuOAC9f5nP/tZIIJwAEIEAhmrYGkEGFbV9Pbiiy8q9qbIhEAFVwg0rHROmzZNJ1crUGgbNle+tWCGDxkDBgwI7EF7N998c7VK1qdPn+A4X5AACYQJNFsw1br+cOvc3lGAufHKbWpzlcSEgJWv4447Tl0WgoDRIgaTJrYkAfbuu++qSVcLIOxxGQ1CD5u+BKneFP+ZdtgCDEluvfVWdcM7VoWwoqRXw8wy8DoqrykaKtnm0u44gWB+C9JuK0TOn/70J2X2t7/9bcHKVtSGy19YdTQ3tLtXr17qEPhfc8015umy1yZT+6QWy/q4yW2XXXYJRLn2IQQzLu+ZLHVeMxZsJhDPqMvccPkZ4g+iDOdWrlwZnMYqnBZwdllIZNqJ9ybfapjdd999Aj9AZKGtEIRYATa33/72t+oDw3vvvWce5msSIAGDQK0FULPLM5rm/DI84lnZXRpmZeXbNiMQN0n36NFDiax33nlHtRgrFpgs9arVD37wg7LHMehJXa+Y4Kb+qM2cNPV5046jjz469lEOmAT/+Mc/ypFHHqmzhvb2BI2TpmioZFuldptiA/cyVfoWpN1W3EeHif75559XolTfFxdqhIi69GivgOEyIEQJNtMOO69+bzLVx/Re+0q/N7nhnq9bbrlFnwrtFyxYoOLAFCNY4dOP5rBFU5IAi1oBwz2AaBs2V75RK2BJzHBJFCt7I0aMCFZWsQJmCmhcosRlY1yuxQcSbiRAAtEEXHRFK6SNbmW6oxRg6TjlPlXcJH3GGWcILkXhhmPcW/PrX/86JMCwGnPWWWeF+JmT+sknnyy4rIUVJ2wQY/fff796bYsSHDTtwLcwDzvsMJUW/3AP2Pjx49U9RGvXrpVjjjkmWEUKEhVfmEJCnzMFGI4l2Vap3abwwWoN7IZNerPrj2rrj3/8Y9l9991VO3Q+e497vSDUsPIH0Xvbbbep97hvDJtph51XvzeZ6mN6b/oKx0y777rrLvVtWNxfhg03yt9+++06q/oCxRVXXKEuIeJmfXxpohoBhgKPOOIIFVu4zxCXOE0x58rXlRnqxJcocO8XLk1jNQyCTAswsMYXRHAZGWVDiOE1NxIggXICrSCqXGwsb2H6IxRg6VnlOmXcJI1LfJjkcdkQN0bj22GYtPUKGO7pwnFcEjzppJMUQ3NSh3CDQMM3y3D5Evc+XXbZZSpdlCgx7cANz3vssYcSHFiReOGFF9T9UPimGi4VYTWi2kuQMCDJtkrtNoUPhBe+7QibttxyS9U2U8jgQFRbb775ZsXyoYceUnni/uEy3Z577qlWyrA379ky7YjLbzK105i+wjnbbqwmfeUrX1G+w7cXIXr1BqGC+/kgEPGtzu9///tVCzB86xQiDN+CRD3du3cPvqRQDV9XZoMGDVLf0kVbsKqKDxZagP3mN78RfHtXb2g3RJj+IoQ+zj0JkICoe1RdBI7vabP4lAIsCz3mJYE6EnjkkUfUNxix6sKNBEiABNqBgO+CytW+LD6hAMtCj3lJoE4E8C1O3NSNlR5uJEACJNAuBFwFju/ps/iFAiwLPeYlgToQwHO18HgO3Bhu3sReh6pYJAmQAAk0lIDvgsrVvizwKMCy0GNeEiABEiABEiCB1ARcBY7v6VM3PCIhBVgEFB4iARIgARIgARKoPQHfBZWrfVkIUYBloce8JEACJEACJEACqQm4Chzf06dueERCCrAIKDxEAiRAAiRAAiRQewK+CypX+7IQogDLQo95SYAESIAESIAEUhNwFTi+p0/d8IiEFGARUHiIBEiABEiABEig9gR8F1Su9mUhRAGWhR7zkgAJkAAJkAAJpCbgKnB8T5+64REJKcAioPAQCZAACZAACZBA7Qn4Lqhc7ctCiAIsCz3mJQESIAESIAESSE3AVeD4nj51wyMSUoBFQOEhEiABEiABEiCB2hPwXVC52peFEAVYFnrMSwIkQAIkQAIkkJqAq8DxPX3qhkckpACLgMJDJEACJEACJEACtSfgu6BytS8LIQqwLPSYlwRIgARIgARIIDUBV4Hje/rUDY9ISAEWAYWHSIAESIAESIAEak/Ad0Hlal8WQhRgWegxLwmQAAmQAAmQQGoCrgLH9/SpGx6RkAIsAgoPkQAJkAAJkAAJ1J6A74LK1b4shCjAstBjXhIgARIgARIggdQEXAWO7+lTNzwiIQVYBBQeIgESIAESIAESqD0B3wWVq31ZCFGAZaHHvCRAAiRAAiRAAqkJuAoc39OnbnhEQgqwCCg8RAIkQAIkQAIkUHsCvgsqV/uyEKIAy0KPeUmABEiABEiABFITcBU4vqdP3fCIhBRgEVB4iARIgARIgARIoPYEfBdUrvZlIUQBloUe85IACZAACZAACaQm4CpwfE+fuuERCSnAIqDwEAmQAAmQAAmQQO0J+C6oXO3LQogCLAs95iUBEiABEiABEkhNwFXg+J4+dcMjElKARUDhIRIgARIgARIggdoT8F1QudqXhRAFWBZ6zEsCJEACJEACJJCagKvA8T196oZHJKQAi4DCQyRAAiRAAiRAArUn4LugcrUvCyEKsCz0mJcESIAESIAESCA1AVeB43v61A2PSEgBFgGFh0iABEiABEiABGpPwHdB5WpfFkIUYFnoMS8JkAAJkAAJkEBqAq4Cx/f0qRsekZACLAIKD5EACZAACZAACdSegO+CytW+LIQowLLQY14SIAESIAESIIHUBFwFju/pUzc8IiEFWAQUHiIBEiABEiABEqg9Ad8Flat9WQhRgGWhx7wkQAIkQAIkQAKpCbgKHN/Tp254REIKsAgoPEQCDSfQ2Smy/G2ROU+LTL1b5OlrRR7vLzK+h8h9/xG5558iI44WGX64yC2/E7nhIJGhB4hc93ORm38jctsRInf8VWTkiSL3nSHywPkiD/cplDHp6kKZKPu9eSKdGxvePFZIAiRAAiDgu6BytS+LVynAstBjXhJwIbB0tshrD4o8c31BWN11nMj1B4oM2F2kx1YiXTdpzF/3LUT67VoQcCOOEXngPJGnrhJ5ZbTI4jdFIAa5kQAJkEAdCLgKHN/TZ0FEAZaFHvOSQBQBCJiFM0ReHCEy9lyRG34hcuEXGiOuaiHi+mxTWFnr6CLy3K0i86eKbFwf1VIeIwESIAEnAr4LKlf7nBpvJaYAs4DwLQk4E1g2R+T5YYVLhUN/KtLns60jttIKtp6fFLlq38IlzslDRRa+6oyJGUiABEjAVeD4nj6LRynAstBj3nwSWLdaZMbYguAa+I32E1tpRVnfnUTuPFZkyk0iEKHcSIAESKACAd8Flat9FZqbeJoCLBEPT5KAFO6Jeuelwg3tuJzYyPu10oohH9IN+pbI2HNE3pggsmEtQ4cESIAEygi4Chzf05c10OEABZgDLCbNEQHc84Qb5u/+h8glO+R3lataYdf7MyK3/1lk+hiRDetyFDhsKgmQQBIB3wWVq31Jba10jgKsEiGezw8B3Dw/63GRUf8SueiLFF3Vii8734Xbiow6RWTWE/yGZX56E1tKApEEXAWO7+kjG5nyIAVYSlBM1sYEFr9ReCwEHs1giwe+ry2T/ruJjOsm8u7LbRxQbBoJkEAcAd8Flat9ce1Mc5wCLA0lpmk/AriR/tkbC8/CosiqrchKy/PK74hMHCiyZln7xRdbRAIkEEnAVeD4nj6ykSkPUoClBMVkbUJgxfzCahcui6UVCkxXX1a4XwxP718ys02CjM0gARKII+C7oHK1L66daY5TgKWhxDStT+DdaYWf88HzrCio/GTQbbPCTyrNntj68cYWkAAJRBJwFTi+p49sZMqDFGApQTFZixJ4/aHCbyVSdPkpuuL8cs0PRV66g0/gb9FuR7NJII6A74LK1b64dqY5TgGWhhLTtBYBPEICT6YfvE9riY44MZLn4/12Kdwntn5Na8UgrSUBEogk4CpwfE8f2ciUBynAUoJishYh8PK9IpfvSeHVbqLt0p0LX5rYuKFFApFmkgAJRBHwXVC52hfVxrTHKMDSkmI6vwngvqFrf0zh1W7Cy24Pnrb/ymi/IOGRLgAAIABJREFUY5HWkQAJxBJwFTi+p49taIoTFGApIDGJxwTwo9DDD6PwsoVKu78feoDI7Cc9DkyaRgIkEEXAd0Hlal9UG9MeowBLS4rp/CKw/B2Re08W6b45xVe7i62k9g37o8iC6X7FJq0hARKIJeAqcHxPH9vQFCcowFJAYhKPCOBm7If7iPT+NIVXkjDJ0zmIcPzU0eqlHgUqTSEBEogi4LugcrUvqo1pj1GApSXFdM0ngPu8Bn6DwitP4sqlrZd8WeTF25sfp7SABEggloCrwPE9fWxDU5ygAEsBiUmaTOD9FSKjTxXptinFl4sgyWvamw4WWfxmk4OW1ZMACUQR8F1QudoX1ca0xyjA0pJiuuYQmPGACJ4FlVcxwXZX5/tenyo8P6xzY3PilrWSAAlEEnAVOL6nj2xkyoMUYClBMVmDCaxaLHLnsdVNvhQt5KZjAI8mwTdluZEACXhBwHdB5WpfFqgUYFnoMW99CLx0p8jFX6KI0CKC+2yx0HNrkcf7i3A1rD79laWSgAMBV4Hje3qHppclpQArQ8IDTSOAe73u+Gu2yZZihfziYuCmX4usXNi08GbFJEACIr4LKlf7sviUAiwLPeatHYG3XxC5/OsUD3HigcdrExv4SSN8m5YbCZBAUwi4Chzf02eBSAGWhR7z1obApKtFen6yNhMshQo5VoqB7luIPIZLkp21iV+WQgIkkJqA74LK1b7UDY9ISAEWAYWHGkRg7SqREUdTMFQSDDxfnxi59RCR1UsaFOyshgRIAARcBY7v6bN4lQIsCz3mrZ7AotdE8MPKFBdk0MwY6LeryJzJ1ccxc5IACTgR8F1Qudrn1HgrMQWYBYRvG0Dg5XtF+mxD4dFM4cG6S/HXY0uRp65sQOCzChIgAVeB43v6LB6lAMtCj3ndCTx6KZ9oT/FTEj8+sRjzbz6qwr1HMwcJOBHwXVC52ufUeCsxBZgFhG/rRADPYMIE59OES1voDzsGhh8usm51nToBiyUBEnAVOL6nz+JRCrAs9Jg3HYH1a0RuO4KTvT3Z872fMYGn5+OXGLiRAAnUnIDvgsrVviyAKMCy0GPeygRWLxUZeoCfEy0FEP0SFwOX7ymyZGbl+GYKEiABJwKuAsf39E6NtxJTgFlA+LaGBJbNERm0Fyf5uEmex/2OjUu+LDJvSg07BIsiARLwXVC52pfFoxRgWegxbzyB+VNF+u7k9wRLAUT/VIqB3p8WmTE2Ps55hgRIwImAq8DxPb1T463EFGAWEL6tAYGZj4lc8DlO7pUmd55vjRjBk/Nf+G8NOgaLIAES8F1QudqXxaMUYFnoMW85AfzOHlYNKC7IoJ1ioPvmIlPvLo93HiEBEnAi4CpwfE/v1HgrMQWYBYRvMxCY+ywfsNpOooNtCYtorIS9MjpDB2FWEiAB3wWVq31ZPEoBloUe85YIvPOSyIVfCE9YnMDJo91ioMdWIjMeKMU9X5EACTgRcBU4vqd3aryVmALMAsK3VRBYMF3k4i9RbLSb2GB7omO659Yib0yooqMwCwmQgO+CytW+LB6lAMtCj3lFFr8h0nfH6ImKEzi5tGsM9PqUyKzHOQKQAAk4EnAVOL6nd2x+KDkFWAgH3zgRWPqWSL9dKTLaVWSwXcmx3fszIm9NcuoyTEwCeSfgu6BytS+LPynAstDLc97lb4tctkfyBMUJnHzaPQbwuJV3XszzSMC2k4ATAVeB43t6p8ZbiSnALCB8m4IAfqz4qn0pLtpdXLB96WL80p1F8IGEGwmQQEUCvgsqV/sqNjghAQVYAhyeiiFw+5/TTUycwMkpLzGADyRrV8V0GB4mARLQBFwFju/pdbuq2VOAVUMtz3kmXEhRkRdRwXa6xfqwP4p0bszz6MC2k0BFAr4LKlf7KjY4IQEFWAIcnrIIvHyvSLdN3SYlTuLklZMY2HDxjnLXQxOtTsO3JEACJgFXgeN7erNtrq8pwFyJ5TU9HrTKnxiimMqJmHL9Ka3VA78rB/W6XbbtMlrueW5eXkcJtpsEKhLwXVC52lexwQkJKMAS4PBUkcDKBXzcBIUHxWdMDMy75lDZ49x7lPiCANvp3A55ae4yDh8kQAIRBFwFju/pI5qY+hAFWGpUOU24Ya3I0AM4+cZMvq4rJUy/SdvEUmfXTWXi0NNluzNHBeILAgx/+1wwXhavXJvTQYPNJoF4Ar4LKlf74lta+QwFWGVG+U4x8qS2mTApftpH/DTbl509PyVDrrq0THhpAYb9IVdNlPUbO/M9frD1JGARcBU4vqe3muf0lgLMCVfOEr84guKLK1+MASsGNlyyk5zS77pE8aWFWP8HZ+Rs0GBzSSCZgO+CytW+5NYmn6UAS+aT37NLZon02YaTrzX5NnvlhfU3dxVv1cDvBTfba5GVtN/+rDHy/Jyl+R1H2HISsAi4Chzf01vNc3pLAeaEKyeJN64XGfIjii+KL8aAEQNzh/wxdLN9kvAyz/2w78OyZt2GnAwebCYJJBPwXVC52pfc2uSzFGDJfPJ5dnxPTrzGxMtVp+auOjWbP262f2LoGakuOZrCy3x9/sip+RxL2GoSsAi4Chzf01vNc3pLAeaEKweJ35ok0n1zCjAKMMZA100EN9tfc1W/TOILQmy7M0fLozMW5GAAYRNJIJmA74LK1b7k1iafpQBL5pOvs/iR7cu/zomX4osx0HUTWa9utr8+s/jSK2Hf6j1Olq1el68xha0lAYuAq8DxPb3VPKe3FGBOuNo88Zh/c+Kl+GIMdN1EVg76vvy0Z+HJ9lpA1WJ/wq1T2nwQYfNIIJmA74LK1b7k1iafpQBL5pOfs29M4O88UnxRfHXdROYMOUx2P2dkzVa+bOE28nn+VFF+Bla21CbgKnB8T2+3z+U9BZgLrXZNi6fd89IjxUfOBShutn90aJe6CS8txL7abay8vWxNu44mbBcJJBLwXVC52pfY2AonKcAqAMrF6Uf7UnzkXHw0+5uGza6/s9en5aor+9ddfGkRduyNk3MxtLCRJGATcBU4vqe32+fyngLMhVY7pl02V6TXpyjAKMByGwPrL9lZTrj0hoaJLy3Cnnh9UTuOKGwTCSQS8F1QudqX2NgKJynAKgBq+9O3/ym3E2+zV11Yf/OfL7Zi0H5yQI8RDRdfEGE/HfCobOBvRbb9EMsGhgm4Chzf04db5/aOAsyNV3ulxo33XPkhg5zGwOwhR8hudbzZXq90Je1vfWp2e40pbA0JVCDgu6Byta9CcxNPU4Al4mnjkxvWiQzai+LDd/GBy8MDvyly069F7jxWZPSpIg+cJ/JQL5FHLhGZcJHIuG4iHV1E7j1Z5K7jRG7+rcgV3+Zvecb4FjfbTxh6VlNWvWwx9vUeD8iK99e38UDDppFAmICrwPE9fbh1bu8owNx4tU/qJy6j+IqZoJuyKnjB50VuOEhk7DkiL94u8vbzIqtqcI/Q+8tF3n1ZZNo9IuO6i9zyO5FLdsit73Gz/RVXDvBCfGkx1nvMy+0zrrAlJFCBgO+CytW+Cs1NPE0BloinTU8uf0ekz2dzOwk3RWDZYu+i7URGHCPy3C0iS2Y2PtBWzBeZerfIqFNELtsjF7Gwvu8u8s9Lb/RKfEGEffns+2TmopWNjwHWSAJNIOAqcHxPnwUhBVgWeq2a954TcjHheiG0TOE1eB+RRy4WmTdFpHOjX9Gz6HWRJ68QGbJ/W8bGiit+KD9u0s32eqUrac/HUvjVHWhN/Qj4Lqhc7ctCigIsC71WzIvVlu5btOUk653ggvjqt0vh0t+C6a0TLYvfLNxbNvAbbREns649quk32yeJL32Oj6VonS5CS6sn4CpwfE9fPQkRCrAs9FoxL1e/GiMqbjpYZMYD/q10ucbsW5NE8KiS7ps3hpu5YpjxdWfXzeSha8/27pKjFlz2no+lcA1Opm9FAr4LKlf7sviAAiwLvVbLu2QWV78yTuqJq2w9thK5++8i86e2WmRUtnfpbJH7z2qZb1Z29vqMXD74spYRX1qMjXqBvxNZORiZopUJuAoc39Nn8QUFWBZ6rZZ35Ektt4qRKHjqKaZcysYl3dGniSx/u9Uiwt1efKsSj8Do/WlvY2l9313l+L7+3WyvRVbS/heXP+buE+YggRYi4LugcrUvC3oKsCz0Winv0rdEemzp7aTZEkIrSpT99ygR3MCet23Fu4Vnknl2P+GKK/aX/Xvc0XIrX6Yoe/y1hXmLJrY3RwRcBY7v6bO4jgIsC71WyouHdEYJCB6rjsuQH4nMebqVIqA+tkJ8DvtjdQxrHHszr/2T7HL2vS0tviDEjrx2Un18xVJJwAMCvgsqV/uyIKUAy0KvVfIum8PVr1pN9rj09tSVrX9zfa1j9+V7RS7duSlCDDfbj2uhm+3N1a6419PmvVdrD7E8EvCCgKvA8T19FqgUYFnotUreUf9qysTYditu+DkgXMrlFk0A94c1+D7Dzt6flcsGX97yq162EDtp2JRoxjxKAi1OwHdB5WpfFndQgGWh1wp5Vy4QwbfzarUClMdysOr17I2t4G0/bMTjNy76Yt1jbv2lX5Hj+t7UduILYmz7s8bInCWr/fAnrSCBGhJwFTi+p8+ChgIsC71WyPtY/7pPhG0t7q7YW6SVHqLqS0y+N0/k2p/ULfaWD/6R/KB7a99sb6962e+7jmzDx5n4Ep+0o2kEfBdUrvZlAUkBloWe73k7O0UGfLVuk2BbCy+s9N15rMg6rkJUHeYb14uMPVek26Y1jcE3rz26LW62twWX/X7ncztkyaq1VeNnRhLwkYCrwPE9fRbGFGBZ6Pme97VxNZ342l5w6cur3TYTmTjId++2jn3TRor03DpzLOJm+weuPbctLzna4ku/HzBuRuv4mZaSQAoCvgsqV/tSNDk2CQVYLJo2OHHbEZknvdyILi2+en5SZOrdbeB8z5ow+0mRC7etOh47e28j/a4YmCvxBRH2jZ4PyvqNnZ45k+aQQPUEXAWO7+mrJ8HfgszCzu+8eCq7Zw/J9F7MXfB5kZl8EnndAnvhDJH+X3EWYesv3V3+csnNuRNfehXs4ekL6uYSFkwCjSbgu6BytS8LP66AZaHnc94JFzlPdN4LJL1KVY99351E3p3ms0fbw7YV80UG75M6Nt8b/BPZr81vttdCK25/8nA+kqI9gp+tAAFXgeN7+ixepQDLQs/XvBs3iPTbJfUkl2vhBTF38fYiWJ3h1hgCeDTKoL0qxufr1x4jO7XBk+3jhFXa47gZf+Xa9Y3xDWshgToT8F1QudqXBRcFWBZ6vuadfl/FyS33okuvol20nch8ft2/4aG8/B2Ry78eGaed3TaXjiHn5faSY5Qwu+PZOQ13ESskgXoQcBU4vqfPwogCLAs9X/N68tt83ou8Cz4nMu85X73Y/nbhWWEDdg+JMNxs33fQIIqvLqNDDI689qn2jwe2MBcEfBdUrvZlcRoFWBZ6PuZd8x6ffK9Xt5L2+HWA2RN99GC+bFr8ZvDU/PX9virHXHJLSHhErQbl8diXzhoj7y5/P1+xwda2JQFXgeN7+ixOogDLQs/HvM8PD60oeL8KlSSS6nluys0+ei+fNs1+UpZefZDs2+1Oii9r5csUm0MefSOf8cFWtxUB3wWVq31ZnEMBloWej3mHHUoBVkm43X+Wj57LtU0jnplD8ZUgviDEfn7Zo7mOETa+PQi4Chzf02fxCgVYFnq+5X1/uQgeJFpJgOT5/M2/FcG3RLl5R6DbvVMpwiqIsFfnL/fObzSIBFwI+C6oXO1zabudlgLMJtLK71+6g+IrSVz2301kzbJW9nBb244nvv/miicowhJE2IUdr7R1DLBx7U/AVeD4nj6LxyjAstDzLe+IYyjA4gRY981F8HM43LwmMHPRStnlvA6KsBgRdkC/R7z2H40jgUoEfBdUrvZVam/SeQqwJDqtdG7DOhH8lE6cAMn78fE9W8mbubb11qdmU4DFCDDcC7ZwBb8NmesO0uKNdxU4vqfP4g4KsCz0fMr7xgSKrziRedW+IhCo3FqGwNHXPU0RFiPC7p4yt2X8SENJwCbgu6Bytc9un8t7CjAXWj6n7ehCARYlwPCD5HzSvc+RG2nbguXvy9e6P0ARFiHC/n3785HMeJAEWoGAq8DxPX0W5hRgWej5lHfQtyjAogTYff/xyUu0xYHAsEm8FGk+B0y/3rvPeAeKTEoCfhHwXVC52peFLgVYFnq+5F21WKTbphRgtgDDj2zjlwG4tSSBjZ2d8rMBj3IVLGIV7I0FK1vSpzSaBFwFju/ps3iUAiwLPV/yTh9D8WWLL7x/7hZfPEQ7qiTw5BuLKMAiBNiNE2dVSZTZSKC5BHwXVK72ZaFJAZaFni95HziPAswWYNf8UKSz0xcP0Y4MBP520zMUYZYIAxNuJNCKBFwFju/ps/iAAiwLPV/yDvkRBZgtwF570Bfv0I6MBGYtWiVfPvs+ijBDhO3ebaxs2MgPGBlDi9mbQMB3QeVqXxaEFGBZ6PmQd91qkR5bUYCZAgyrX9zaisAZI16gADMEGG7If+6tpW3lYzYmHwRcBY7v6bN4jQIsCz0f8s58jOLLFF94PWOsD56hDTUk8PqCFbLdmaMpwgwRNuih12pImEWRQGMI+C6oXO3LQo0CLAs9H/I+cgkFmCnArt7PB6/QhjoQOPbGyRRghgA7/mbeB1aHMGORdSbgKnB8T58FFwVYFno+5L35NxRgpgB7cYQPXqENdSDw7OwlFGCGAPvBJQ/XgTKLJIH6EvBdULnal4UWBVgWes3Oi2/59dmGAkwLsIu/JLJhbbO9wvrrSOD3V06kCCuKsC+eOUbWrNtQR9osmgRqT8BV4PiePgshCrAs9Jqdd+lsii8tvrDH4zi4tTWBu6bMpQAzVsFenLusrf3NxrUfAd8Flat9WTxEAZaFXrPz4lELpgDJ82v8EsDiN5vtEdZfZwKr1m6QXc7roAgrirARz8ypM3EWTwK1JeAqcHxPn4UOBVgWes3O++QVFGBadN74y2Z7g/U3iMC/bnuOAqwowHqNfrlB1FkNCdSGgO+CytW+LFQowLLQa3beUadQgGkB9uwNzfYG628QgUdeXUABVhRgR147qUHUWQ0J1IaAq8DxPX0WKhRgWeg1O+/1B1KAQYB130IEP0jOLRcE8AT4b/Z6kCKsy2j5Vu9xufA5G9k+BHwXVK72ZfEMBVgWes3Oe8mXKcAgwG44qNmeYP0NJnDePS9RgBVXwZauWtdg+qyOBKon4CpwfE9fPQkRCrAs9JqZd80yii99+RH3wnHLFYGxU9+hACsKsKfeWJQr37OxrU3Ad0Hlal8Wb1CAZaHXzLxznqYA0wJsEX+SpZmh2Iy6l69ZL186awxFWJfRcuPEWc1wAeskgaoIuAoc39NXBaGYiQIsC71m5n3uFgowCDBchuWWSwIHD3qcAqzLaOk9ht+EzGUHaNFG+y6oXO3L4gYKsCz0mpl3XHcKMAiw245ophdYdxMJXHz/dAqwLqPltP8+30QvsGoScCPgKnB8T+/W+nBqCrAwj9Z5N/JECjAIMN7/1ToxW2NLJ76+iAKsy2j501A+iqLGocXi6kjAd0Hlal8WVBRgWeg1M+/wwyjAIMDmTWmmF1h3EwngPrBtizei53l/0OWPNdELrJoE3Ai4Chzf07u1PpyaAizMo3XeDT2AAqzHliIb17eOz2hpzQns3Wd87kXY3n34LLCaBxYLrBsB3wWVq31ZQFGAZaHXzLyX70kBNmivZnqAdXtA4Ojrns69ANvhnPs88ARNIIF0BFwFju/p07U6OhUFWDQX/49euC0FGG/A9z9O62zhBfe9knsBhsuvuBzLjQRagYDvgsrVvizMKcCy0GtW3o0bRLptRgE2rluzPMB6PSFw15S5FGBdRsubC1d64hGaQQLJBFwFju/pk1ubfLZuAuzQQw+VAw44oKX+YHNLbCsXUnzhBvznh7WEu2hk/Qi8MGcZBViX0TJ51pL6QWbJJFBDAr4LKlf7sqCpmwCD+Gq1rWVsXjCdAgwCbNbjrRZitLfGBOYtXU0B1mW03D/1nRqTrV9xrfjhvNUWE3yy117YcBU4vqfP0lMowAx6LSPAZj1BAQYBtuAVw3t8mUcC76/fSAHWZbTc+tTslnF/y4yzLUPUb0Ntf/suqFzty0KfAsygZweKccqvl9PHUIBBgOFSLLfcE9jt/PtzL8IGT3i9ZeKgZcbZliHqt6G2v10Fju/ps9BvmAD72Mc+FrLz+uuvlxNOOCF0LO2bhx9+WA466CCVHK+feOKJIOuf//xnGTFiRPDe5YUdKC55G5p22j0UYPgSAr6MwC33BPa7+OHcC7CB41vnB+lbZpzNfc+qDQDb374LKlf7slBqeQHWtWtXueSSSwIGuRBgL91BAYbHcHAjARH53eAnci/ABoyb0TKxYE/IH/zgB2WPPfaQ3XbbTX7/+9/LqlWrvGoLFgvmzZsX2LTtttvKwoXNXX3v37+/fOQjH5Fly5YFdr3yyiuK49e+9jV5/fXX5bLLLpOdd95ZDj/88CBN2hco39UP5sKIWY/tb1eB43t6s62ur70QYAsWLJDf/va38s1vflP9Pf544ebqSZMmCeAjoPbZZx+ZPn26ap929MyZM+VTn/qUfPazn1WB9+ijjwoE2EknnaTSf/GLXwxWw4466ii5++67Az4IynvuuSd4jxd2oIRO+vTmhdsowPrv5pNHaEsTCRw1dFLuBVi/B15togfcqrbHWfPqCMblSy+91K3AOqfeb7/9ZPLkyUEtWQTY+vW1eV7bt771Lfne974n1113XWDXBRdcID179gze77TTTjJnzpzgvcuLatqo52W7HtvfvgsqV/vs9rq8b5gA059y8EkHf5///OeDS5CHHXaYPPZY4ffMZs+erVQ7GvHee++JDtgHH3xQiTQcNx0dtQKGT1EbN26UadOmyfbbb694TJgwQQ4++GD1Gp8atttuu6BsddAQYLDhtddeU3/4JPHGG2+ovzfffFPwB+GHv1mzZqk/pMffW2+9pQIeQT937lz1h09O+Hv77bfV3zvvvCP4mz9/vrz77rvqDwIUf/hUhb9Fixapv8WLF8uSJUvU39KlS2XlyuKzfp67hQLssj2027jPOQE+DX+0XDK28OG0FULBnpBNAXbllVfKP/7xDzXGQ/j87ne/EwgJCLPOzk7VvGeeeUa+//3vy5577qk+NGNsxWYKJYyjEBHYsIKFsf/HP/6xOjZw4EAl8vDB/tvf/rZgnMX23HPPqfe77767/PrXv1bjLm5ngX077rijmrdWr16tyjj//PPl61//unzlK18RrDxhQzmoB/lR7gsvvKCOY4468sgj5Tvf+Y788Y9/VHMHxBPy40/fQnPXXXfJ/vvvr9qJNu2www5qrlCFGP8wJ+26666COe0nP/mJOjNmzJhgMeIHP/iBHH/88fLhD39Y2devXz81dxxzzDGy1157qQUNvfiwYcMG+fe//61WH2H35ZdfrlbOdF6UhW3s2LFqMQT2Yn5dsWKFOt7R0aH8g+NY+NC3BqmTxX+2v10Fju/pzba6vm6YADM7GYw07wH75Cc/qYJbizOsaMHBEDToCFiaRqCjI2KrJMBuueWWgMPHP/7x4DWCFkIHnRxBZ28IFHQipINw+9KXviRYRcMfBBv+0Knx94UvfEH9QUji73Of+5xss8026g/24+8zn/mM+vv0pz8t+MNqHf623nprQZvxt9VWW6m/LbfcUvC3xRZbqL/NN99cNttsM/W36aabCv5Q79q1a0Wm3EQBNvAbtvv4PqcE/nrD5NyvgF14X0EEXHPNNYIJH3/dunVTf927dxf89ejRQ62QYJWkV69e6q93796Cvz59+qg/rKJceOGF6u+iiy4S/F188cXqD7d64K9v377qDytVmNzxh0tW+BswYID6w+Uv/GFCx98VV1wRCB17QtZzAz5s/+pXv5LBgwerMX6TTTZRH2jxYRqTMD6kr1u3Tl3dwDiO7bbbbhMIC2xJAgzj+fLly9X4j3IxB2D717/+pezGawgQiBps5513npxyyinqtVkuDmAcRpuwoV1//etf1esTTzxR8cab8ePHqzkNr+ELiEWIN2y4tLdmzRr1esaMGfKNb5TGsiOOOEIgECFkhg2Lfs4hfAdfggvmIXyYx4Z6zNtxYKe+VHrWWWfJzTffrNLhwzzEHT7QgzVErl7o0GLUzIsy9t1332ABAPGBeEIbMO+hDRDHhxxyCAWYIpz+nxcCDMJDB6RpOi4nohNjw4oTggJbJQFm3oSvOzfyIXAwWGD5Fqtj9mYPDPZ5b95zBUzk8q974w4a0lwCx1zP34O8sCMswLBCgz8ICfyde+65cs4556i/s88+W/CHSRl/Z555pvrr0qWL/Oc//1F/Z5xxhuDv9NNPV3/4wIq/0047Tf2deuqpSrxAwECo4O/kk09Wf1gJwR8ECf7wZSvs8YEamz3OmldHkA4fMjHGY8VKb3//+9+VgHjppZfkE5/4RPCBHR/M9SqQKZTsFbBjjz1WF6U+MOMKBbahQ4cq23FVBB+k9YZVJqzqYDPLxXvMQzr/U089JT/60Y9UOqyo4WqJ3iBOcBVHi2F9HHVhRQy2Y9Hhox/9qD6lVt3w4R235MRtWJCA6MEGP0CwYUsSYBB5yKcXOdDWl19+WdXzwAMPqPzmP1OAjRo1Si0O6Ly77LKL/OUvf1ErhhBmehs5ciQFmIaRcu+FAMMlSHzK0huWgrFh9euOO+5QrxFcUQIMn8Yw0OjNvgnfFGD4pIBPDBBgUZs9MESl8eIYngCPxzDk+Y+XIL0IRR+M4D1go6Vvm1yC1PFkfsjGMYg4XDV58cUX1WqYTmfuIYRw3zA23Aai5wvzagvOmeJCn3MVYHplCfeGQaBhSxJg5soU5jKIWaxgYeXpQx/6kMqPf2gfhNt3v/tddT44UXyB8//v//2d/Y1mAAAfVklEQVQ/1Qa0A1dZcGkTW5IAwwqcvofaLBNCr5IAu/fee9WlUzMfXmOepgDb28bi9N4LAYZg/sMf/qCWgKGucf0a28SJE9VSKQIbn950hzI756uvvqryQZ3rm/DjVsBQ5k9/+tNg+dkm1TIC7IX/5lt8QXj23dF2H9/nlMDhQ57K/SXI/g+27rcgzQ/JOoTNMR7HtADD6hguJ2JuwIZLklOnTlWvcSkQl9Sw4XKoni+0yFInYgQYzn31q19VcwheQ8xgdQ/bL37xC3nooYfUa/wzBZwpwLDqh0uD2GA/5i1stjBCuVg4wIab6D/wgcI0DDGGL6LhUitW7EzRphKLqBVLXC42N9wag/uR7XpMO7HSCYb6PropU6aoInApNuoSJFbncL8zNlzuxYoZ7ovGhkuXmHdx1QrHsVqIDfe38R4whSL1v4YJsNQW1TEhrr3jvi582onaWkaAvTiCAqzHVlEu5LEcEvj5ZY/mXoC18nPAXAQYwluvvEAw4X5d3PeGDTfD4z4u+wN7WgFm3oSPm+nxBShsuApj34QftQKWdBO+KaZw+RB2wn5c8tXtx31VuKSIDfer4Z5nXCY0N9yPrG/618eRB7fXJAkw3H923HHHqcueYKaFEkQf8mPhA/boy5m4xw1t1jfh4542iEPYjT9cbsRm3oSPS9C6XG0b9va86vtN9a72mW11fZ0bAYZvUeLyIz4ZxW12oMSla/rxaSMpwLAKtrb4rdCmO4QGNJPAXr0ezL0A45PwmxmBrDuJgD2vugoc39Mntb3SudwIsEogcN4OlDR5mpLmzUcowCDAlhZu6m2KD1ipFwTwZILtzxqTewE25NHSzd9eOCbBiJYZZxPawFPpCdj+9l1QudqXnkR5Sgowg4kdKMYpv16+8xIFGATYvMKXNfxyDq1pJIHFK9fmXnxt22W03PFMdQ/cbKSvdF0tM85qg7nPRMD2t6vA8T19Fjh1E2CHHnqoWlEC/Fb5g80tsb03jwIMAuyV0S3hLhpZPwKvzl9OAdZltEx4tfBcrPqRrl3J9oRcu5JZko8EbH/7Lqhc7cvCvG4CLItRzFuBwPo1FGAQYI8PqACKp9udwKMzFlCAdRktU+e91zKubsUP562yiOCjnfbChqvA8T19lo5HAZaFXjPz9voURdjIE5vpAdbtAYFrHn2DAqzLaJn/XuHJ6h64hCaQQCIB3wWVq32Jja1wkgKsAiBvT/fbhQJs6E+9dQ8NawyB0/77fO4F2HZnjpb1Gwu/k9gY6qyFBKon4CpwfE9fPQkRCrAs9JqZ98rvUoBd/KVmeoB1e0DgQD4DTL7WvfynZDxwDU0ggUgCvgsqV/siG5nyIAVYSlDeJbvxlxRguA8MX0jglksCGzZ2yg7n3Jf7FbCf9Hskl/5no1uTgKvA8T19Fi9QgGWh18y8t/+ZAgwC7KU7m+kF1t1EAq+9uyL34guPoDjsmieb6AVWTQJuBHwXVK72ubU+nJoCLMyjdd7ddwYFGAQYOHDLJYHbnn6LAqzLaDlpWOF3/XIZBGx0yxFwFTi+p8/iAAqwLPSamXfS1RRgEGBX7dtML7DuJhI44dZnKcC6jJbuo6Y10QusmgTcCPguqFztc2t9ODUFWJhH67x7fTwFGARY981F3l/ROn6jpTUhsLGzU918jktwef8b/PDrNWHKQkigEQRcBY7v6bMwowDLQq+ZefE7iBAg/BN5ZVQzPcG6m0DgxbnLci+8tPAc9QK/iNKEEGSVVRLwXVC52lclBpWNAiwLvWbmxa8Q82GsBQHKB7I2MxKbUjdWfbQAyft+xrtcAW5KELLSqgi4Chzf01cFoZiJAiwLvWbnHbwPV8CwAnjJl0U6NzbbG6y/gQQOuWoiBViX0eoxHHgcBzcSaBUCvgsqV/uycKcAy0Kv2Xlv/xMFmL4EO/OxZnuD9TeIwLylqwVPf8/7yhfajwfRciOBViLgKnB8T5+FPQVYFnrNzju+JwWYFmBj/t1sb7D+BhEY9NBrFF/FLx/gp5i4kUArEfBdULnal4U9BVgWes3O+8JtFGBagF34BZH1/EHiZodkI+rfv+8ECrCiAMOPkXMjgVYi4CpwfE+fhT0FWBZ6zc4791kKMC3AsH9+eLM9wvrrTOD5OUspvoxHbzw6Y2GdibN4EqgtAd8Flat9WehQgGWh1+y8a1cWnoNlipA8vx7602Z7hPXXmcD5I6dSgBkCbOGK9+tMnMWTQG0JuAoc39NnoUMBloWeD3mv+h5XwUzRueAVH7xCG+pAYNnqdbLr+fdTgBUF2J49H6gDZRZJAvUl4LugcrUvCy0KsCz0fMjL34QMC9BR//LBK7ShDgQGjufN9+Y3Pw8f8lQdKLNIEqgvAVeB43v6LLQowLLQ8yHvS3eGBYi5GpTH1z0/KfIenwzuQ2jW0oY16zYIVnxMAZL31z34G5C1DDGW1SACvgsqV/uyYKMAy0LPh7wQG3kUWkltxqogt7YicNPEWRRfxr1fEJ/3PMcPGm0V5DlpjKvA8T19FrdRgGWh50vefrtShJmCrOfWIivm++Id2pGRAJ70/r2LHqIAMwQYHkS7aMXajGSZnQQaT8B3QeVqXxaCFGBZ6PmS946/UICZAgyvO870xTu0IyOBG56YSfFliC+sfv1sAJ+AnzGsmL1JBFwFju/ps2CkAMtCz5e8Tw+hALMFWI+tRBa95ouHaEeVBJauWid7dB9LAWYJsN5jXq6SKLORQHMJ+C6oXO3LQpMCLAs9X/K+8xIFmC3A8P6W3/niIdpRJQE+9yv6Ny8fnbGgSqLMRgLNJeAqcHxPn4UmBVgWer7k7dwo0mcbirAoETb9Pl+8RDscCbw6f7lsf9YYrn5Zq187nnOfvL9+oyNNJicBPwj4Lqhc7ctClQIsCz2f8g4/nAIsSoBdtofIej4t3KdQTWvLEUOeoviyxBfu/wIXbiTQqgRcBY7v6bP4gQIsCz2f8j57IwVYlADDsQe7+uQp2pKCwLBJsym+IsQXBNiVE15PQZBJSMBPAr4LKlf7slCmAMtCz6e8eOxCt00pwqJEWPfNReY87ZO3aEsCgZmLVsou53VQgMUIsKnz3kugx1Mk4DcBV4Hje/ostCnAstDzLe81P6AAixJgOHbZ10Tw4+XcvCawfmOnHDzocYqvGPH19R4PSGen1y6kcSSQSMB3QeVqX2JjK5ykAKsAqKVOT7iIAixOgOH4Pf9sKXfm0dj+D86g+IoRX7j8eOKwKXkMC7a5jQi4Chzf02dxDQVYFnq+5X33ZQqwJAGGc1Nu9s1rtKdIYPKsJfzWY4L4ggAb+Tx/fogdprUJ+C6oXO3L4g0KsCz0fMw7aC+KsCQRhge0vjXJR8/l2qa3l62Rb/R8kKtfCQJs1/PvF/woOTcSaGUCrgLH9/RZfEEBloWej3nH96QASxJgOHfJDiL4EXNufhBYt1pOHsKn3WOFK+nv9BEv+OEvWkECGQj4Lqhc7cuAQijAstDzMS+fip9OgF69n8i61T56MF824SHCtx0h6/vuIn/ve2OiAEkSJ3k4N/H1RfmKDba2LQm4Chzf02dxEgVYFnq+5h34jXQipNJKUbufv/UQkQ3rfPViPuzCj6YX46yz12fkssGXUYRFrITtc8F4fvsxHz2i7Vvpu6BytS+LwyjAstDzNe/jA4JJTU9u3G8SzeS/R4ls5H01TQnlcd3LfNLZdTMZd+3ZFGGWCLvo/ulNcRErJYFaE3AVOL6nz8KHAiwLPV/zrlwogpvN230Fq1btu+t44fJCg4P54QsS4/PNa4+Wnc6+l0KsKMReX7CiwQ5idSRQHwK+CypX+7JQogDLQs/nvCOOTpzgKM6sFbF7TxLB/Ujc6k/g0b6pYvO9wT+R/brfkXsR9suBj9XfJ6yBBBpEwFXg+J4+CzYKsCz0fM775iOpJjkKMUOI/fdI/nB3vWN6fA+nuFzf76ty9MW35FqEXf/EzHp7heWTQMMI+C6oXO3LAo4CLAs9n/Pi90ou/7rTZEcxtonI9QeKrOFv7dU8tPFlhzv/VlU8dvb5nFw4aHAuRdj2Z4+RxSvX1twdLJAEmkXAVeD4nj4LRwqwLPR8z/t4/6omvNwLscH78DlhtYxtCNobfpEpFju7bSGjhnTPnQg79sbJtfQEyyKBphPwXVC52pcFKAVYFnq+5+XN+NVP+n13FJn9pO8e9t++Ra+JXPHt6v1gfdHilaF/ky+fNSo3QozP/vI/xGmhGwFXgeN7erfWh1NTgIV5tN+72/9cs8kvdytjPbYUeerK9ouJRrXoxREivT9T8/hbfNWBsnfXu9pehP1q0OON8hTrIYGGEfBdULnalwUcBVgWeq2QlzfjZxcAtx0hsmZZK3jbDxvXrxHBt0qt1atavl/bf0/544XD2lqEdbz0jh/+pBUkUEMCrgLH9/RZ0FCAZaHXKnmv+UFdJ8NaTqzelnXpziKv3t8qHm+enfgprCu/05B423jBdtLt8qvbUoT9sO/DshFfpOFGAm1GwHdB5WpfFvdQgGWh1yp5p9/XkAnRW/FUy5WYO48VWbW4VTzfODvXvy/yUC8RXLatJe8KZXV231JuH9Kn7UTYbU+/1TjfsSYSaCABV4Hje/os6CjAstBrpbxXfa+hE2MjJ+GG13Xx9iK4v4lbgcAbE0Qu37Op8fX8tSfIl85sj5vzv9V7nKzbwIcCs3u1JwHfBZWrfVm8RAGWhV4r5X353qZOkA0XSRVWTmpiz5D9RWZPbKUoqK2tC6aL4P64RrBOUceCq38t3zzv7pZfDbv6kTdq6yeWRgIeEXAVOL6nz4KWAiwLvVbKi/tJ8HyrFBMZ0xhPx0/Da/jhInjcQl62ZXNF7vmnSPfNvYunNZd9W37T57aWFWG7dxsrK99fn5dIYjtzSMB3QeVqXxYXUoBloddqeafe5d2E2TZir/sWInf8ReTtF1otKtLbu3S2SEcXkZ5bex1HGy7aXv4zYGhLirCL75+e3h9MSQItSMBV4PiePosLKMCy0Gu1vPix6UF7eT15toUgw1PfZzzQatERb++sJwqXGj1c8YqLl84eW8uNV1/SUiJsx3Puk0Ur+LND8YHIM+1AwHdB5WpfFp9QgGWh14p5X/gvBViay4q1SDPwmyL4OagV81svUvBNz8lDRa7er6XjZdLQ02S7Frk5/8L7Xmm9OKHFJOBIwFXg+J7esfmh5BRgIRw5eLNxg8jAb7T0pBq36uHtcawc3fRrkeduEVm91N8gW7tK5MXbRW49pOGPk6in7+Zd8wfZ49x7vF4N+2avB3nvl789g5bVkIDvgsrVvixoKMCy0GvVvDPGUoDVYoWrmjIgxob8SOThC0TmTBbBZeFmbgtniDx1lcgtvxfp9am2jYtVA78nP+95u7ci7PbJfO5XM7sB624cAVeB43v6LOQowLLQa+W8t/6hbSfbeq6m1Lzsi7YrrDg91Ftk+hiR5W/XL6pWLhB5fXzhsuiIo0Xwg+PViMgWzbPhkp3kxEtv8E6E/XLgY8KH3tcv7FmyXwR8F1Su9mWhSwGWhV4r5138pkjPT+ZqAm4ZsXHJDiJDfyqCp+6P6y7yzPUir40TmfuMCFasINJwjxYuGeI3KnGPGb6huPDVwrcw8QWAZ24Qgai754TC5c+cia04X3f2/JRcdWV/r0TYM7OWtPJIQttJwImAq8DxPb1T463EFGAWkFy9xeTeoqsZtNvxWWX0cxDrnV03lUeHdvFChJ00bEquhhw2lgR8F1Su9mXxKAVYFnqtnhcrKPiRaU7OZJDDGJg95AjZ7ZyRTRNiO5/bIW8vW9PqowjtJwEnAq4Cx/f0To23ElOAWUBy9/alOyk+cig+KLoLK4grrthf9u9xR1NE2IBxM3I33LDBJOC7oHK1L4tHKcCy0GuXvNcfSBFGEZbbGFjfdzc5ru9NDRVh+1wwXtas29AuIwjbQQKpCbgKHN/Tp254REIKsAgouTs0f6qXv+vHVRre59WoGOjs/Vnpd8XAhomwUS/U8duuuRvA2OBWIuC7oHK1Lwt7CrAs9Nop79hzcrsC0qhJnvX4LSg7u20uY689r+4i7Pibn2mnkYNtIQEnAq4Cx/f0To23ElOAWUBy+3b9Gv5OJC9DUoR33URmXPsX2ense+sixPbq9aAsWcXfe8ztOMuGi++CytW+LC6lAMtCr93yzn1WpPsWnIQpxHIfA8uu/Kl8t9udNRdhE15d0G6jBttDAk4EXAWO7+mdGm8lpgCzgOT+7fieuZ98eanQ70uFjfLPun5fk6MuuqVmIuy8e17K/fBCACTgu6BytS+LRynAstBrx7wb1olctS9FGFfBGANdN5GNfT4vvQcOzizCfnTpBH7rsR3HS7bJmYCrwPE9vTMAIwMFmAGDL4sE8HM3bfzDzI1aQWE97bGS1tltC7lnSM+qRdj2Z4+Rl+Yu4/BCAiQgwnvAjCigADNg8KVBAL8lyFUgMmAMBDEw9dq/y5fPGuUsxAY99JrRsfiSBPJNwPcVLVf7sniTAiwLvXbPe9sRweRDMdYeqzn0YzY/Lrrql/Lt8+9OLcJ+N/gJ2bCxs91HCraPBFITcBU4vqdP3fCIhBRgEVB4qEhg9RKR/l+hCOMqEGPAiIH3B3xDDrlgWEURtuv598tbi1dxOCEBEjAI+C6oXO0zmub8kgLMGVnOMuAp+b0/zQnYmIC5ipRtFakd+G288Ity7mXXJIqwUS/My9lgweaSQGUCrgLH9/SVWxyfggIsng3PaAIv3yvSbVOKMIowxoARA53dt5JhV18YKcIuun+67j3ckwAJGAR8F1Su9hlNc35JAeaMLKcZHu7DydeYfNthFYdtqM1K3pShJ8t2Z5Zuzv/LDU/Lxk7e95XTkZLNrkDAVeD4nr5CcxNPU4Al4uHJgAAmFN6UTxFKERoZA/Ov/q3sed49sn/fCbLi/fVBt+ELEiCBMAHfBZWrfeHWub2jAHPjle/Ua1eJDN4ncgLiakptVlPIsXU5rrz65/LmwpX5HiPYehKoQMBV4PievkJzE09TgCXi4ckyAktni1z0RYowrgQxBswY6LGVyMzHyroLD5AACYQJ+C6oXO0Lt87tHQWYGy+mBgFMND225ARsTsB8ne94eH44xwYSIIEUBFwFju/pUzQ5NgkFWCwankgkgAmH34zMt+ig6Cz4H19Q4UYCJJCKgO+CytW+VI2OSUQBFgOGh1MQmDyUAoQiJN8xMPLEFB2FSUiABDQBV4Hje3rdrmr2FGDVUGOeEoEnLs/3BEwBll//33WcSOfGUl/4/+3d669cUxjH8T9B3IMglUh4QyIkJSIR3iAEIeLSN7wh4kUTEpeQXqiGELfWNapKqZRW05u7uLWooqcVQl17o1Wq19Oe4yfL0Jzu7p6zn/3MmXlm1vckYvacZ82s9Vlrd/8ys8/ePEIAgSEFogcqa/+GHPAgBQSwQXD4VUWBd+7O9yBMAMtz7mdeLfX3VdxBKEMAgf8FrAEnev3/46rzfwJYHTXa7C3w+u15HogJYPnN+4xRUj/X+tr7HwGeQWBogeiBytq/oUe87woC2L5t+I1VYO7o/A7GBLC85vyFy6W+ndY9g3oEEPhPwBpwotd7JpYA5tGj7Z4C6Wr5s67N64BMAMtnvp+/VOrr3XPNs4UAAiaB6IHK2j/T4AvFBLACCJtOgXReTDo5mWCCQTetgWcvlHbtcO4cNEcAAWvAiV7vmVECmEePtuUC6ZMwzgkjgHVLAJt2kbRzW/la51kEEDAJRA9U1v6ZBl8oJoAVQNhsosCiSVystVtCSK7jmH09J9w38Z8EXgoBa8CJXu+ZUQKYR4+2Qwv0vCyl++TlegBn3J079+9OHHp9U4EAAiaB6IHK2j/T4AvFBLACCJvDILDyXWnC4Z17ICZE5TV36T6nX0wfhh2Bl0QAAWvAiV7vmVECmEePttUF1i6T7j02rwM5wa3z5nvCEdLKd6qvayoRQMAkED1QWftnGnyhmABWAGFzGAU2/ig9dFLnHZQJUnnM2X3HSeuWD+MOwEsjgIA14ESv98woAcyjR1u7wLaNUvqrMkINBpHWwORTpU2r7euZFgggYBKIHqis/TMNvlBMACuAsNkCgXQD4zfH8BeSkQJIzn1J93Xs3dKChc9bIICANeBEr/fMKAHMo0dbn8BXczg5P+fg0+6xjz9EWjLFt4ZpjQACJoHogcraP9PgC8UEsAIImy0W2PCtlL7+affBmPfPaw7SuYhre1q82Hk7BBCwBpzo9Z4ZJYB59GjbHIFd26U5N+QVAAh87ZtvvnJszn7LqyBQQyB6oLL2rwbB7iYEsN0UPGi7wLKXpLsOa9+BmVDU3fZ85dj2XZwOIGANONHrPTNKAPPo0bb5Ar9/L005t7uDAEGv9fPLV47N31d5RQRqCEQPVNb+1SDY3YQAtpuCB2EE0s28P3mKE/QJav6gNmY/af5NUu/WMMubjiCQs4A14ESv98wlAcyjR9vhFfjzF2naxf6DMEEmT8P0qddPHw3vGuXVEUDAJBA9UFn7Zxp8oZgAVgBhM6DA589JE4/KM0QQHu3zPvYA6Y07pPTHHfwggEAoAWvAiV7vwSWAefRo2zqBzeukF66wH4wJMHmZPXkWtxNq3V7JOyFgFogeqKz9MwMMaEAAG4DBww4QWP6KlO7ZR7DCYOAauPtI6dOnpXT+ID8IIBBWwBpwotd7oAlgHj3atkdg5zbpvfukCUcQQgaGkBwfj91fevUGactv7VmLvCsCCJgEogcqa/9Mgy8UE8AKIGx2kMCW9dK8G6VxBxLEcgxfL14prf+mgxYsXUUAAWvAiV7vmVECmEePtjEENnwnzbiKEJZLCHvmPGnVkhhrj14ggIBJIHqgsvbPNPhCMQGsAMJmBwv8vFh66myCWLcGscdOl759s4MXKF1HAAFrwIle75lRAphHj7YxBb6aIz1xJkGsW4LYgydKPTM5wT7m3kavEDAJRA9U1v6ZBl8oJoAVQNjsIoEfP5CmXyalq6F3SxjJaRyPnyF9OUPq29lFi5KhIJC3gDXgRK/3zCYBzKNH284QSCdqp7+UG38wQSx6gEt/1ZhOrucK9p2xb9FLBIwC0QOVtX/G4e9RTgDbg4ONrhbY/Kv01jhp4tEEsWhBLF1SZOEt0h8/dfUSZHAI5C5gDTjR6z3zSQDz6NG2MwXSdcQ+fkJ69DSCWLuD2AMnSIsmSzs2d+ZaotcIIGASiB6orP0zDb5QTAArgLCZmcCaLxrXEuNTsdaF0fRp16zrpO/elv7uz2zBMVwE8hawBpzo9Z7ZJIB59GjbPQK7dkgrZjfOP+JcseaHsWSazu1a8So3ye6evYaRIGAWiB6orP0zAwxoQAAbgMFDBP4V2L5JWvqsNPUCKZ0U3u6v6Tr1/ZNdMlw6TUqm/CCAQPYC1oATvd4zoQQwjx5tu19g+5/S8lnS7Ou5CXiVIHjnodJzlzTOsdu8rvvXByNEAAGTQPRAZe2fafCFYgJYAYRNBAYVWLdc+vBBaer50riD+HQsXWNt0khp4a2Nc7rSV7n8IIAAAvsQsAac6PX7GGalpwlglZgoQqBEoHer9M0Caf5NjSvv53Lu2MMnS3NHNz4ZTDdE5wcBBBCoKBA9UFn7V3HYpWUEsFIWnkSghkD/LmntMumzqY2Akm6HNP6Qzv2UbNyBjUt1zLpWWjRJ+uF9adsfNWBoggACCDQErAEner1nXglgHj3aIjCUwL+hrKdxUn/6pCzdGmnyqVK6FEOVc6paUTP2AOn+46Up50oLbpY+f15a2yP19Q41On6PAAIImASiBypr/0yDLxQTwAogbCLQMoF0gn8KOl/PkxY/Jr12mzRjlPTkWdIjpzRO+r/rsHpBLYWq1PaeY6R0M+unz5FmXiO9foe0+FEp3bB81RLprzVci6tlE84bIYCANeBEr/fMKAHMo0dbBFoh0N/XuIxDupVSulVPurdl+qpz9VLp1xXS7yulTaulrRukdF5aqucHAQQQCCgQPVBZ++chJoB59GiLAAIIIIAAApUFrAEnen3lgZcUEsBKUHgKAQQQQAABBJovED1QWfvnESKAefRoiwACCCCAAAKVBawBJ3p95YGXFBLASlB4CgEEEEAAAQSaLxA9UFn75xEigHn0aIsAAggggAAClQWsASd6feWBlxQSwEpQeAoBBBBAAAEEmi8QPVBZ++cRIoB59GiLAAIIIIAAApUFrAEnen3lgZcUEsBKUHgKAQQQQAABBJovED1QWfvnESKAefRoiwACCCCAAAKVBawBJ3p95YGXFBLASlB4CgEEEEAAAQSaLxA9UFn75xEaNICNGDFC/IcBa4A1wBpgDbAGWAOsgb3XwLAFMGsSpH6kMMCANcAaYA2wBlgDeawBAtjIPCaaHZp5Zg2wBlgDrAHWQJw1MGwBzPPCtEUAAQQQQAABBBAoFxj0HLDyJjyLAAIIIIAAAggg4BEggHn0aIsAAggggAACCNQQIIDVQKMJAggggAACCCDgESCAefRoiwACCCCAAAII1BAggNVAowkCCCCAAAIIIOARIIB59GiLAAIIIIAAAgjUECCA1UCjCQIIIIAAAggg4BEggHn0aIsAAggggAACCNQQIIDVQKMJAggggAACCCDgESCAefRoiwACCCCAAAII1BAggNVAowkCCCCAAAIIIOARIIB59GiLAAIIIIAAAgjUECCA1UCjCQIIIIAAAggg4BH4B0s16NB5KifrAAAAAElFTkSuQmCC)"
   ]
  },
  {
   "cell_type": "code",
   "execution_count": 29,
   "metadata": {
    "id": "syHT3KCGXJdG"
   },
   "outputs": [],
   "source": [
    "file_path  = df_downsampled['Path'].values\n",
    "labels     = df_downsampled['Label'].values\n"
   ]
  },
  {
   "cell_type": "markdown",
   "metadata": {
    "id": "igfSBqnOvApd"
   },
   "source": [
    "## Why use Tf.Dataset pipeline?\n",
    "\n",
    "<pre>\n",
    "\n",
    "<font color ='blue'>\n",
    "The tf. data API enables you to build complex input pipelines from simple, reusable pieces. For example, the pipeline for an image model might aggregate data from files in a distributed file system, apply random perturbations to each image, and merge randomly selected images into a batch for training.\n",
    "The Dataset API allows you to build an asynchronous, highly optimized data pipeline to prevent your GPU from data starvation. It loads data from the disk (images or text), applies optimized transformations, creates batches, and sends it to the GPU. Former data pipelines made the GPU wait for the CPU to load the data, leading to performance issues.\n",
    "\n",
    "</font>\n",
    "</pre>"
   ]
  },
  {
   "cell_type": "code",
   "execution_count": 31,
   "metadata": {
    "colab": {
     "base_uri": "https://localhost:8080/"
    },
    "id": "pnQ3zS83KPfa",
    "outputId": "fa8aa211-e24d-432d-c762-254eac48e3b9"
   },
   "outputs": [
    {
     "data": {
      "text/plain": [
       "<ShuffleDataset shapes: ((), ()), types: (tf.string, tf.int32)>"
      ]
     },
     "execution_count": 31,
     "metadata": {
      "tags": []
     },
     "output_type": "execute_result"
    }
   ],
   "source": [
    "train_ds = tf.data.Dataset.from_tensor_slices((file_path,label))\n",
    "train_ds = train_ds.shuffle(len(df_downsampled),seed=42)\n",
    "train_ds\n",
    "#test_ds = tf.data.Dataset.from_tensor_slices((test_path,test_mask))\n"
   ]
  },
  {
   "cell_type": "code",
   "execution_count": 33,
   "metadata": {
    "colab": {
     "base_uri": "https://localhost:8080/"
    },
    "id": "8kuLuYAIM5eq",
    "outputId": "e21de820-a208-41b0-8bd9-9190409c04a5"
   },
   "outputs": [
    {
     "data": {
      "text/plain": [
       "<ParallelMapDataset shapes: ((256, 256, None), ()), types: (tf.float32, tf.int32)>"
      ]
     },
     "execution_count": 33,
     "metadata": {
      "tags": []
     },
     "output_type": "execute_result"
    }
   ],
   "source": [
    "def decode_img(img):\n",
    "  # convert the compressed string to a 3D uint8 tensor\n",
    "  #image_bytes = tf.io.read_file(img)\n",
    "  image = tfio.image.decode_dicom_image(img, dtype=tf.uint8,color_dim=True,scale='preserve')\n",
    "\n",
    "  image = tf.image.convert_image_dtype(image, tf.float32)#converting the image to tf.float32\n",
    "  image=tf.squeeze(image,[0]) #squeezing the image because the file is of the shape (1,1024,1024,1) and we want (1024,1024,3) \n",
    "  b = tf.constant([1,1,3], tf.int32) \n",
    "  image=tf.tile(image,b)\n",
    "  image=tf.image.resize(image,size=[256,256]) #the image is of the shape (1024,1024,1) to make it (1024,1024,3) I am using tf.tile\n",
    "  # resize the image to the desired size\n",
    "  return image\n",
    "  \n",
    "def process_path(file_path,label):\n",
    "  img = tf.io.read_file(file_path) #reading the image from the file path\n",
    "  img = decode_img(img) #passing the image to the function\n",
    "  return img,label\n",
    "\n",
    "AUTOTUNE = tf.data.experimental.AUTOTUNE\n",
    "train_ds = train_ds.map(process_path,num_parallel_calls=AUTOTUNE)\n",
    "train_ds"
   ]
  },
  {
   "cell_type": "code",
   "execution_count": 34,
   "metadata": {
    "id": "m4jiBsZ9QUod"
   },
   "outputs": [],
   "source": [
    "val_size = int(len(df_downsampled)*0.2) #splitting to 80-20 data\n",
    "train_ds = train_ds.skip(val_size)\n",
    "test_ds = train_ds.take(val_size)"
   ]
  },
  {
   "cell_type": "code",
   "execution_count": 49,
   "metadata": {
    "id": "Vg8tJgmTVUsb"
   },
   "outputs": [],
   "source": [
    "train_dataset_new  = train_ds.batch(64)\n",
    "test_dataset_new  =  test_ds.batch(64,drop_remainder=True)"
   ]
  },
  {
   "cell_type": "code",
   "execution_count": 50,
   "metadata": {
    "colab": {
     "base_uri": "https://localhost:8080/"
    },
    "id": "G4RM1ijaRNQb",
    "outputId": "710b4a34-4a87-460b-9f98-a23651aefdc6"
   },
   "outputs": [
    {
     "data": {
      "text/plain": [
       "<BatchDataset shapes: ((None, 256, 256, None), (None,)), types: (tf.float32, tf.int32)>"
      ]
     },
     "execution_count": 50,
     "metadata": {
      "tags": []
     },
     "output_type": "execute_result"
    }
   ],
   "source": [
    "train_dataset_new"
   ]
  },
  {
   "cell_type": "code",
   "execution_count": 51,
   "metadata": {
    "colab": {
     "base_uri": "https://localhost:8080/"
    },
    "id": "0Ry2dvwVqflo",
    "outputId": "5c3f93fb-3ec1-49a7-ea99-4e3e585a2c7c"
   },
   "outputs": [
    {
     "data": {
      "text/plain": [
       "<BatchDataset shapes: ((64, 256, 256, None), (64,)), types: (tf.float32, tf.int32)>"
      ]
     },
     "execution_count": 51,
     "metadata": {
      "tags": []
     },
     "output_type": "execute_result"
    }
   ],
   "source": [
    "test_dataset_new"
   ]
  },
  {
   "cell_type": "code",
   "execution_count": 52,
   "metadata": {
    "colab": {
     "base_uri": "https://localhost:8080/"
    },
    "id": "6IUVQv-0qibV",
    "outputId": "6b0b5e4a-2099-4a95-85ed-f2214ad26caa"
   },
   "outputs": [
    {
     "data": {
      "text/plain": [
       "<SkipDataset shapes: ((256, 256, None), ()), types: (tf.float32, tf.int32)>"
      ]
     },
     "execution_count": 52,
     "metadata": {
      "tags": []
     },
     "output_type": "execute_result"
    }
   ],
   "source": [
    "train_ds"
   ]
  },
  {
   "cell_type": "code",
   "execution_count": 53,
   "metadata": {
    "colab": {
     "base_uri": "https://localhost:8080/"
    },
    "id": "o1HB2lO6qlbe",
    "outputId": "751e2b5a-4267-4e2e-dcde-e505e44eadd9"
   },
   "outputs": [
    {
     "data": {
      "text/plain": [
       "<TakeDataset shapes: ((256, 256, None), ()), types: (tf.float32, tf.int32)>"
      ]
     },
     "execution_count": 53,
     "metadata": {
      "tags": []
     },
     "output_type": "execute_result"
    }
   ],
   "source": [
    "test_ds"
   ]
  },
  {
   "cell_type": "code",
   "execution_count": null,
   "metadata": {
    "id": "jrEDBsyfqo2_"
   },
   "outputs": [],
   "source": []
  },
  {
   "cell_type": "code",
   "execution_count": 41,
   "metadata": {
    "colab": {
     "base_uri": "https://localhost:8080/",
     "height": 559,
     "referenced_widgets": [
      "2ea29ef13e2445689ea1e604aa9b7889",
      "be6052cca4994bd392264c1d25af2e3b",
      "ddde9a005a5a4b9f92cc64b46b1dd424",
      "0c5ac2a327ed49d78bc8af6ab0f3d17e",
      "ef012d60bd69456686af46bcd2924dc5",
      "fca17662ec994c27bc84a00bd11bcb77",
      "da870344531647dcb97bc21211b93ea5",
      "67d150d7c9ec4e098606cbcf98e8f09b"
     ]
    },
    "id": "-cgJwplfUU0x",
    "outputId": "e60bed08-b7ee-4d56-d3c3-67afc6e9bbba"
   },
   "outputs": [
    {
     "name": "stderr",
     "output_type": "stream",
     "text": [
      "/usr/local/lib/python3.7/dist-packages/ipykernel_launcher.py:3: TqdmDeprecationWarning: This function will be removed in tqdm==5.0.0\n",
      "Please use `tqdm.notebook.tqdm` instead of `tqdm.tqdm_notebook`\n",
      "  This is separate from the ipykernel package so we can avoid doing imports until\n"
     ]
    },
    {
     "data": {
      "application/vnd.jupyter.widget-view+json": {
       "model_id": "2ea29ef13e2445689ea1e604aa9b7889",
       "version_major": 2,
       "version_minor": 0
      },
      "text/plain": [
       "HBox(children=(FloatProgress(value=0.0, max=10.0), HTML(value='')))"
      ]
     },
     "metadata": {
      "tags": []
     },
     "output_type": "display_data"
    },
    {
     "name": "stdout",
     "output_type": "stream",
     "text": [
      "\n"
     ]
    },
    {
     "data": {
      "image/png": "[encoded data removed]",
      "text/plain": [
       "<Figure size 1440x1440 with 10 Axes>"
      ]
     },
     "metadata": {
      "needs_background": "light",
      "tags": []
     },
     "output_type": "display_data"
    }
   ],
   "source": [
    "plt.figure(figsize=(20,20)) #plotting images from the train as a sanity check of whether the data has been properly converted or not\n",
    "count=0\n",
    "for i,j in tqdm(train_ds.take(10)):\n",
    "  ax = plt.subplot(5,5,count+1)\n",
    "  count=count+1\n",
    "  if j==0:\n",
    "    plt.title(\"HEALTHLY\")\n",
    "  else:\n",
    "    plt.title(\"PNEUMOTHORAX\")\n",
    "  plt.imshow(i)\n",
    "  plt.axis(\"off\")"
   ]
  },
  {
   "cell_type": "code",
   "execution_count": 42,
   "metadata": {
    "id": "F1vUh-pHFaUE"
   },
   "outputs": [],
   "source": [
    "from tensorflow.keras import applications"
   ]
  },
  {
   "cell_type": "code",
   "execution_count": 43,
   "metadata": {
    "id": "esx6AREiFaW1"
   },
   "outputs": [],
   "source": [
    "# VGG16 as Backbone\n",
    "model_1 =tf.keras.applications.vgg16.VGG16(weights = \"imagenet\", include_top=False, input_shape = (256,256,3))\n",
    "for i in model_1.layers:\n",
    "  i.trainable=False\n",
    "model=model_1.output\n",
    "model=Conv2D(32, (3, 3))(model)\n",
    "model=(Activation('relu'))(model)\n",
    "model=(MaxPool2D(pool_size=(2, 2)))(model)\n",
    "model=Flatten()(model)\n",
    "model = Dense(256, activation=\"relu\")(model)\n",
    "model = Dense(128, activation=\"relu\")(model)\n",
    "output_layer = Dense(1, activation=\"sigmoid\")(model)\n",
    "model1 = Model(model_1.input,output_layer)\n"
   ]
  },
  {
   "cell_type": "code",
   "execution_count": 44,
   "metadata": {
    "colab": {
     "base_uri": "https://localhost:8080/"
    },
    "id": "auRr88VTHeY-",
    "outputId": "03fe3ef2-4a54-4a3f-eab2-8d5800c21d41"
   },
   "outputs": [
    {
     "name": "stdout",
     "output_type": "stream",
     "text": [
      "Model: \"model\"\n",
      "_________________________________________________________________\n",
      "Layer (type)                 Output Shape              Param #   \n",
      "=================================================================\n",
      "input_1 (InputLayer)         [(None, 256, 256, 3)]     0         \n",
      "_________________________________________________________________\n",
      "block1_conv1 (Conv2D)        (None, 256, 256, 64)      1792      \n",
      "_________________________________________________________________\n",
      "block1_conv2 (Conv2D)        (None, 256, 256, 64)      36928     \n",
      "_________________________________________________________________\n",
      "block1_pool (MaxPooling2D)   (None, 128, 128, 64)      0         \n",
      "_________________________________________________________________\n",
      "block2_conv1 (Conv2D)        (None, 128, 128, 128)     73856     \n",
      "_________________________________________________________________\n",
      "block2_conv2 (Conv2D)        (None, 128, 128, 128)     147584    \n",
      "_________________________________________________________________\n",
      "block2_pool (MaxPooling2D)   (None, 64, 64, 128)       0         \n",
      "_________________________________________________________________\n",
      "block3_conv1 (Conv2D)        (None, 64, 64, 256)       295168    \n",
      "_________________________________________________________________\n",
      "block3_conv2 (Conv2D)        (None, 64, 64, 256)       590080    \n",
      "_________________________________________________________________\n",
      "block3_conv3 (Conv2D)        (None, 64, 64, 256)       590080    \n",
      "_________________________________________________________________\n",
      "block3_pool (MaxPooling2D)   (None, 32, 32, 256)       0         \n",
      "_________________________________________________________________\n",
      "block4_conv1 (Conv2D)        (None, 32, 32, 512)       1180160   \n",
      "_________________________________________________________________\n",
      "block4_conv2 (Conv2D)        (None, 32, 32, 512)       2359808   \n",
      "_________________________________________________________________\n",
      "block4_conv3 (Conv2D)        (None, 32, 32, 512)       2359808   \n",
      "_________________________________________________________________\n",
      "block4_pool (MaxPooling2D)   (None, 16, 16, 512)       0         \n",
      "_________________________________________________________________\n",
      "block5_conv1 (Conv2D)        (None, 16, 16, 512)       2359808   \n",
      "_________________________________________________________________\n",
      "block5_conv2 (Conv2D)        (None, 16, 16, 512)       2359808   \n",
      "_________________________________________________________________\n",
      "block5_conv3 (Conv2D)        (None, 16, 16, 512)       2359808   \n",
      "_________________________________________________________________\n",
      "block5_pool (MaxPooling2D)   (None, 8, 8, 512)         0         \n",
      "_________________________________________________________________\n",
      "conv2d (Conv2D)              (None, 6, 6, 32)          147488    \n",
      "_________________________________________________________________\n",
      "activation (Activation)      (None, 6, 6, 32)          0         \n",
      "_________________________________________________________________\n",
      "max_pooling2d (MaxPooling2D) (None, 3, 3, 32)          0         \n",
      "_________________________________________________________________\n",
      "flatten (Flatten)            (None, 288)               0         \n",
      "_________________________________________________________________\n",
      "dense (Dense)                (None, 256)               73984     \n",
      "_________________________________________________________________\n",
      "dense_1 (Dense)              (None, 128)               32896     \n",
      "_________________________________________________________________\n",
      "dense_2 (Dense)              (None, 1)                 129       \n",
      "=================================================================\n",
      "Total params: 14,969,185\n",
      "Trainable params: 254,497\n",
      "Non-trainable params: 14,714,688\n",
      "_________________________________________________________________\n"
     ]
    }
   ],
   "source": [
    "model1.summary()"
   ]
  },
  {
   "cell_type": "code",
   "execution_count": 45,
   "metadata": {
    "colab": {
     "base_uri": "https://localhost:8080/"
    },
    "id": "nyLf2vPlFnNE",
    "outputId": "1a6396eb-a0f0-4b04-86b4-764c997cb078"
   },
   "outputs": [
    {
     "name": "stdout",
     "output_type": "stream",
     "text": [
      "Folder_name 20210412-055354\n"
     ]
    }
   ],
   "source": [
    "%load_ext tensorboard\n",
    "import datetime\n",
    "folder_name = datetime.datetime.now().strftime(\"%Y%m%d-%H%M%S\")\n",
    "\n",
    "# Create log folder - TensorBoard\n",
    "log_dir=\"/gdrive/My Drive/Image_segmentation/segmentation/logs/fit/\" + folder_name\n",
    "tensorboard_callback =TensorBoard(log_dir=log_dir,histogram_freq=1, write_graph=True)\n",
    "\n",
    "print('Folder_name', folder_name)\n",
    "\n",
    "early_stop = keras.callbacks.EarlyStopping(\n",
    "    monitor='val_recall', min_delta=0, patience=30, verbose=0, mode='auto',\n",
    "    baseline=None, restore_best_weights=False\n",
    ")\n",
    "\n",
    "#Saving the best model\n",
    "filepath=\"new_model_save_test/best_models_classification.h5\"\n",
    "checkpoint = keras.callbacks.ModelCheckpoint(filepath,\n",
    "                                  monitor='val_recall',\n",
    "                                  mode='max',\n",
    "                                  verbose=1,\n",
    "                                  save_best_only=True)\n",
    "\n"
   ]
  },
  {
   "cell_type": "code",
   "execution_count": 57,
   "metadata": {
    "colab": {
     "base_uri": "https://localhost:8080/"
    },
    "id": "F-_YgnPLFnPm",
    "outputId": "91fb3c2e-990e-4135-b35b-a5a2b0fb813f"
   },
   "outputs": [
    {
     "name": "stdout",
     "output_type": "stream",
     "text": [
      "Epoch 1/50\n",
      "151/151 [==============================] - 2417s 13s/step - loss: 0.5079 - accuracy: 0.7808 - precision: 0.3866 - recall: 0.0101 - val_loss: 0.4362 - val_accuracy: 0.7927 - val_precision: 0.6434 - val_recall: 0.1572\n",
      "\n",
      "Epoch 00001: val_recall improved from -inf to 0.15720, saving model to new_model_save_test/best_models_classification.h5\n",
      "Epoch 2/50\n",
      "151/151 [==============================] - 348s 2s/step - loss: 0.4380 - accuracy: 0.7932 - precision: 0.6048 - recall: 0.2093 - val_loss: 0.3994 - val_accuracy: 0.8150 - val_precision: 0.6502 - val_recall: 0.3724\n",
      "\n",
      "Epoch 00002: val_recall improved from 0.15720 to 0.37240, saving model to new_model_save_test/best_models_classification.h5\n",
      "Epoch 3/50\n",
      "151/151 [==============================] - 347s 2s/step - loss: 0.3955 - accuracy: 0.8127 - precision: 0.6687 - recall: 0.3319 - val_loss: 0.3600 - val_accuracy: 0.8345 - val_precision: 0.6918 - val_recall: 0.4008\n",
      "\n",
      "Epoch 00003: val_recall improved from 0.37240 to 0.40079, saving model to new_model_save_test/best_models_classification.h5\n",
      "Epoch 4/50\n",
      "151/151 [==============================] - 347s 2s/step - loss: 0.3657 - accuracy: 0.8335 - precision: 0.6904 - recall: 0.4143 - val_loss: 0.3513 - val_accuracy: 0.8433 - val_precision: 0.7847 - val_recall: 0.4080\n",
      "\n",
      "Epoch 00004: val_recall improved from 0.40079 to 0.40797, saving model to new_model_save_test/best_models_classification.h5\n",
      "Epoch 5/50\n",
      "151/151 [==============================] - 348s 2s/step - loss: 0.3678 - accuracy: 0.8343 - precision: 0.7024 - recall: 0.4500 - val_loss: 0.3393 - val_accuracy: 0.8433 - val_precision: 0.7968 - val_recall: 0.3846\n",
      "\n",
      "Epoch 00005: val_recall did not improve from 0.40797\n",
      "Epoch 6/50\n",
      "151/151 [==============================] - 346s 2s/step - loss: 0.3474 - accuracy: 0.8433 - precision: 0.7226 - recall: 0.5174 - val_loss: 0.3381 - val_accuracy: 0.8661 - val_precision: 0.7084 - val_recall: 0.7200\n",
      "\n",
      "Epoch 00006: val_recall improved from 0.40797 to 0.72000, saving model to new_model_save_test/best_models_classification.h5\n",
      "Epoch 7/50\n",
      "151/151 [==============================] - 346s 2s/step - loss: 0.3247 - accuracy: 0.8583 - precision: 0.7518 - recall: 0.5383 - val_loss: 0.3202 - val_accuracy: 0.8585 - val_precision: 0.8233 - val_recall: 0.4833\n",
      "\n",
      "Epoch 00007: val_recall did not improve from 0.72000\n",
      "Epoch 8/50\n",
      "151/151 [==============================] - 346s 2s/step - loss: 0.2985 - accuracy: 0.8711 - precision: 0.7768 - recall: 0.5745 - val_loss: 0.2860 - val_accuracy: 0.8872 - val_precision: 0.7815 - val_recall: 0.6782\n",
      "\n",
      "Epoch 00008: val_recall did not improve from 0.72000\n",
      "Epoch 9/50\n",
      "151/151 [==============================] - 345s 2s/step - loss: 0.2941 - accuracy: 0.8770 - precision: 0.8027 - recall: 0.6099 - val_loss: 0.2599 - val_accuracy: 0.8974 - val_precision: 0.8564 - val_recall: 0.6245\n",
      "\n",
      "Epoch 00009: val_recall did not improve from 0.72000\n",
      "Epoch 10/50\n",
      "151/151 [==============================] - 346s 2s/step - loss: 0.2716 - accuracy: 0.8888 - precision: 0.8088 - recall: 0.6367 - val_loss: 0.2439 - val_accuracy: 0.9020 - val_precision: 0.8553 - val_recall: 0.6474\n",
      "\n",
      "Epoch 00010: val_recall did not improve from 0.72000\n",
      "Epoch 11/50\n",
      "151/151 [==============================] - 347s 2s/step - loss: 0.2568 - accuracy: 0.8932 - precision: 0.8193 - recall: 0.6599 - val_loss: 0.2311 - val_accuracy: 0.9147 - val_precision: 0.8323 - val_recall: 0.7612\n",
      "\n",
      "Epoch 00011: val_recall improved from 0.72000 to 0.76117, saving model to new_model_save_test/best_models_classification.h5\n",
      "Epoch 12/50\n",
      "151/151 [==============================] - 348s 2s/step - loss: 0.2331 - accuracy: 0.9099 - precision: 0.8498 - recall: 0.7284 - val_loss: 0.2351 - val_accuracy: 0.9071 - val_precision: 0.8370 - val_recall: 0.7224\n",
      "\n",
      "Epoch 00012: val_recall did not improve from 0.76117\n",
      "Epoch 13/50\n",
      "151/151 [==============================] - 347s 2s/step - loss: 0.2209 - accuracy: 0.9151 - precision: 0.8585 - recall: 0.7447 - val_loss: 0.2170 - val_accuracy: 0.9274 - val_precision: 0.8167 - val_recall: 0.8927\n",
      "\n",
      "Epoch 00013: val_recall improved from 0.76117 to 0.89267, saving model to new_model_save_test/best_models_classification.h5\n",
      "Epoch 14/50\n",
      "151/151 [==============================] - 347s 2s/step - loss: 0.2064 - accuracy: 0.9224 - precision: 0.8778 - recall: 0.7547 - val_loss: 0.1927 - val_accuracy: 0.9388 - val_precision: 0.8431 - val_recall: 0.8780\n",
      "\n",
      "Epoch 00014: val_recall did not improve from 0.89267\n",
      "Epoch 15/50\n",
      "151/151 [==============================] - 348s 2s/step - loss: 0.1919 - accuracy: 0.9274 - precision: 0.8748 - recall: 0.7820 - val_loss: 0.1619 - val_accuracy: 0.9464 - val_precision: 0.9077 - val_recall: 0.8343\n",
      "\n",
      "Epoch 00015: val_recall did not improve from 0.89267\n",
      "Epoch 16/50\n",
      "151/151 [==============================] - 349s 2s/step - loss: 0.1724 - accuracy: 0.9393 - precision: 0.9011 - recall: 0.8103 - val_loss: 0.1742 - val_accuracy: 0.9341 - val_precision: 0.9660 - val_recall: 0.7370\n",
      "\n",
      "Epoch 00016: val_recall did not improve from 0.89267\n",
      "Epoch 17/50\n",
      "151/151 [==============================] - 348s 2s/step - loss: 0.1590 - accuracy: 0.9441 - precision: 0.9226 - recall: 0.8259 - val_loss: 0.1353 - val_accuracy: 0.9590 - val_precision: 0.9253 - val_recall: 0.8887\n",
      "\n",
      "Epoch 00017: val_recall did not improve from 0.89267\n",
      "Epoch 18/50\n",
      "151/151 [==============================] - 348s 2s/step - loss: 0.1363 - accuracy: 0.9577 - precision: 0.9336 - recall: 0.8782 - val_loss: 0.1167 - val_accuracy: 0.9730 - val_precision: 0.9321 - val_recall: 0.9396\n",
      "\n",
      "Epoch 00018: val_recall improved from 0.89267 to 0.93964, saving model to new_model_save_test/best_models_classification.h5\n",
      "Epoch 19/50\n",
      "151/151 [==============================] - 348s 2s/step - loss: 0.1189 - accuracy: 0.9657 - precision: 0.9522 - recall: 0.8921 - val_loss: 0.1465 - val_accuracy: 0.9489 - val_precision: 0.8272 - val_recall: 0.9648\n",
      "\n",
      "Epoch 00019: val_recall improved from 0.93964 to 0.96477, saving model to new_model_save_test/best_models_classification.h5\n",
      "Epoch 20/50\n",
      "151/151 [==============================] - 347s 2s/step - loss: 0.1061 - accuracy: 0.9658 - precision: 0.9400 - recall: 0.9008 - val_loss: 0.0826 - val_accuracy: 0.9818 - val_precision: 0.9916 - val_recall: 0.9241\n",
      "\n",
      "Epoch 00020: val_recall did not improve from 0.96477\n",
      "Epoch 21/50\n",
      "151/151 [==============================] - 347s 2s/step - loss: 0.0893 - accuracy: 0.9729 - precision: 0.9638 - recall: 0.9094 - val_loss: 0.0801 - val_accuracy: 0.9785 - val_precision: 0.9655 - val_recall: 0.9384\n",
      "\n",
      "Epoch 00021: val_recall did not improve from 0.96477\n",
      "Epoch 22/50\n",
      "151/151 [==============================] - 348s 2s/step - loss: 0.0819 - accuracy: 0.9776 - precision: 0.9675 - recall: 0.9273 - val_loss: 0.0670 - val_accuracy: 0.9861 - val_precision: 0.9736 - val_recall: 0.9645\n",
      "\n",
      "Epoch 00022: val_recall did not improve from 0.96477\n",
      "Epoch 23/50\n",
      "151/151 [==============================] - 348s 2s/step - loss: 0.0722 - accuracy: 0.9792 - precision: 0.9704 - recall: 0.9363 - val_loss: 0.0505 - val_accuracy: 0.9920 - val_precision: 0.9798 - val_recall: 0.9852\n",
      "\n",
      "Epoch 00023: val_recall improved from 0.96477 to 0.98524, saving model to new_model_save_test/best_models_classification.h5\n",
      "Epoch 24/50\n",
      "151/151 [==============================] - 346s 2s/step - loss: 0.0621 - accuracy: 0.9840 - precision: 0.9787 - recall: 0.9498 - val_loss: 0.0433 - val_accuracy: 0.9911 - val_precision: 0.9962 - val_recall: 0.9647\n",
      "\n",
      "Epoch 00024: val_recall did not improve from 0.98524\n",
      "Epoch 25/50\n",
      "151/151 [==============================] - 348s 2s/step - loss: 0.0510 - accuracy: 0.9868 - precision: 0.9755 - recall: 0.9581 - val_loss: 0.0402 - val_accuracy: 0.9954 - val_precision: 0.9903 - val_recall: 0.9884\n",
      "\n",
      "Epoch 00025: val_recall improved from 0.98524 to 0.98842, saving model to new_model_save_test/best_models_classification.h5\n",
      "Epoch 26/50\n",
      "151/151 [==============================] - 348s 2s/step - loss: 0.0392 - accuracy: 0.9929 - precision: 0.9852 - recall: 0.9829 - val_loss: 0.0367 - val_accuracy: 0.9924 - val_precision: 0.9916 - val_recall: 0.9713\n",
      "\n",
      "Epoch 00026: val_recall did not improve from 0.98842\n",
      "Epoch 27/50\n",
      "151/151 [==============================] - 348s 2s/step - loss: 0.0326 - accuracy: 0.9963 - precision: 0.9958 - recall: 0.9874 - val_loss: 0.0293 - val_accuracy: 0.9975 - val_precision: 0.9902 - val_recall: 0.9980\n",
      "\n",
      "Epoch 00027: val_recall improved from 0.98842 to 0.99802, saving model to new_model_save_test/best_models_classification.h5\n",
      "Epoch 28/50\n",
      "151/151 [==============================] - 348s 2s/step - loss: 0.0280 - accuracy: 0.9973 - precision: 0.9970 - recall: 0.9905 - val_loss: 0.0188 - val_accuracy: 0.9987 - val_precision: 0.9980 - val_recall: 0.9960\n",
      "\n",
      "Epoch 00028: val_recall did not improve from 0.99802\n",
      "Epoch 29/50\n",
      "151/151 [==============================] - 346s 2s/step - loss: 0.0234 - accuracy: 0.9971 - precision: 0.9956 - recall: 0.9912 - val_loss: 0.0205 - val_accuracy: 0.9983 - val_precision: 1.0000 - val_recall: 0.9926\n",
      "\n",
      "Epoch 00029: val_recall did not improve from 0.99802\n",
      "Epoch 30/50\n",
      "151/151 [==============================] - 349s 2s/step - loss: 0.0205 - accuracy: 0.9986 - precision: 0.9979 - recall: 0.9958 - val_loss: 0.0179 - val_accuracy: 0.9979 - val_precision: 0.9981 - val_recall: 0.9924\n",
      "\n",
      "Epoch 00030: val_recall did not improve from 0.99802\n",
      "Epoch 31/50\n",
      "151/151 [==============================] - 351s 2s/step - loss: 0.0150 - accuracy: 0.9981 - precision: 0.9970 - recall: 0.9943 - val_loss: 0.0143 - val_accuracy: 0.9992 - val_precision: 1.0000 - val_recall: 0.9961\n",
      "\n",
      "Epoch 00031: val_recall did not improve from 0.99802\n"
     ]
    },
    {
     "data": {
      "text/plain": [
       "<tensorflow.python.keras.callbacks.History at 0x7f3b01b1b4d0>"
      ]
     },
     "execution_count": 57,
     "metadata": {
      "tags": []
     },
     "output_type": "execute_result"
    }
   ],
   "source": [
    "opti = tf.keras.optimizers.Adam(lr=0.0001)\n",
    "model1.compile(loss = \"binary_crossentropy\", optimizer =opti, metrics=[\"accuracy\", tf.keras.metrics.Precision(name='precision'),tf.keras.metrics.Recall(name='recall')])\n",
    "model1.fit(train_dataset_new,epochs=50,verbose=1,validation_data=test_dataset_new,batch_size=64,callbacks=[checkpoint,tensorboard_callback,early_stop])"
   ]
  },
  {
   "cell_type": "code",
   "execution_count": 62,
   "metadata": {
    "colab": {
     "base_uri": "https://localhost:8080/"
    },
    "id": "Pa_8nxjUnumx",
    "outputId": "49e99aa7-ab56-4d83-db51-efa685d8464e"
   },
   "outputs": [
    {
     "name": "stdout",
     "output_type": "stream",
     "text": [
      "37/37 [==============================] - 92s 1s/step - loss: 0.0134 - accuracy: 0.9992 - precision: 0.9962 - recall: 1.0000\n"
     ]
    },
    {
     "data": {
      "text/plain": [
       "[0.013419254682958126, 0.9991554021835327, 0.9962049126625061, 1.0]"
      ]
     },
     "execution_count": 62,
     "metadata": {
      "tags": []
     },
     "output_type": "execute_result"
    }
   ],
   "source": [
    "model1.evaluate(test_dataset_new)"
   ]
  },
  {
   "cell_type": "markdown",
   "metadata": {
    "id": "XDczQU18qB5r"
   },
   "source": [
    "![image.png](data:image/png;base64,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)"
   ]
  },
  {
   "cell_type": "markdown",
   "metadata": {
    "id": "Y9PP1LRy1VLO"
   },
   "source": [
    "# Confusion Matrix on Train Data with different threshold"
   ]
  },
  {
   "cell_type": "code",
   "execution_count": 80,
   "metadata": {
    "id": "moxMCqTaq454"
   },
   "outputs": [],
   "source": [
    "os.chdir('/gdrive/MyDrive/Image_Segementation_CS2/')\n",
    "import seaborn as sns\n",
    "from sklearn.metrics import confusion_matrix\n",
    "def confusion_mat(test_y,predict_y):\n",
    "  ''' Function to Visualize the Confusion Matrix'''\n",
    "  labels = [0,1]\n",
    "  plt.figure(figsize=(6,6))\n",
    "  cmap=sns.light_palette(\"blue\")\n",
    "  C = confusion_matrix(test_y, predict_y)\n",
    "  print(\"Percentage of misclassified points \",(len(test_y)-np.trace(C))/len(test_y)*100)\n",
    "  sns.heatmap(C, cmap=\"Blues\",annot=True,annot_kws={\"size\": 16},fmt='g')\n",
    "  plt.xlabel('Predicted Class')\n",
    "  plt.ylabel('Original Class')\n",
    "  plt.title('Confusion matrix')\n",
    "  plt.show()"
   ]
  },
  {
   "cell_type": "code",
   "execution_count": 83,
   "metadata": {
    "colab": {
     "base_uri": "https://localhost:8080/",
     "height": 521,
     "referenced_widgets": [
      "ce7799d3425d4f75877cecf4d6b1fa50",
      "dce6d22771f444db8670669ed9627950",
      "50d116be395145d5b732a3f409e16def",
      "27d9f1ac539948e9a69a00420c0228b5",
      "c9c4457683ba4507b94c734241deceaf",
      "fc6136acb60c4b09b409fab0699a3605",
      "9555c87a378a4500a017ba0be4c4120a",
      "ec264096f6bc4f2085cf8771da1b3832"
     ]
    },
    "id": "0nFniRlBrJhB",
    "outputId": "e625208c-eb23-4d04-90a0-42c466feb11c"
   },
   "outputs": [
    {
     "name": "stderr",
     "output_type": "stream",
     "text": [
      "/usr/local/lib/python3.7/dist-packages/ipykernel_launcher.py:3: TqdmDeprecationWarning: This function will be removed in tqdm==5.0.0\n",
      "Please use `tqdm.notebook.tqdm` instead of `tqdm.tqdm_notebook`\n",
      "  This is separate from the ipykernel package so we can avoid doing imports until\n"
     ]
    },
    {
     "data": {
      "application/vnd.jupyter.widget-view+json": {
       "model_id": "ce7799d3425d4f75877cecf4d6b1fa50",
       "version_major": 2,
       "version_minor": 0
      },
      "text/plain": [
       "HBox(children=(FloatProgress(value=0.0, max=151.0), HTML(value='')))"
      ]
     },
     "metadata": {
      "tags": []
     },
     "output_type": "display_data"
    },
    {
     "name": "stdout",
     "output_type": "stream",
     "text": [
      "\n",
      "Percentage of misclassified points  0.13488275575845612\n"
     ]
    },
    {
     "data": {
      "image/png": "[encoded data removed]",
      "text/plain": [
       "<Figure size 432x432 with 2 Axes>"
      ]
     },
     "metadata": {
      "needs_background": "light",
      "tags": []
     },
     "output_type": "display_data"
    }
   ],
   "source": [
    "y_pred_1=[] #array to store predicted label\n",
    "y_true=[] #array to store the ground truth\n",
    "for i,j in tqdm(train_dataset_new.take(9638)):\n",
    "  \n",
    "  y_pred_1.extend(model1.predict(i)) #predicting each batch\n",
    "  y_true.extend(j)\n",
    "  y_pred=[]\n",
    "for i in y_pred_1: #the values are in probabilities and hence we are going to classify based on acustom threshold (0.5 is the default threshold)\n",
    "  if i[0]>=0.5: #setting threshold\n",
    "    y_pred.append(1)\n",
    "  else:\n",
    "    y_pred.append(0)\n",
    "y_true=np.array(y_true) #converting the array for into numpy\n",
    "y_pred=np.array(y_pred).reshape(1,-1)\n",
    "y_pred=y_pred[0]\n",
    "confusion_mat(y_true,y_pred)"
   ]
  },
  {
   "cell_type": "code",
   "execution_count": 87,
   "metadata": {
    "colab": {
     "base_uri": "https://localhost:8080/",
     "height": 421
    },
    "id": "cALCRCKlrddU",
    "outputId": "997384ba-d9dc-41fb-f6c2-3bbf5cf7f8c1"
   },
   "outputs": [
    {
     "name": "stdout",
     "output_type": "stream",
     "text": [
      "Percentage of misclassified points  0.11413156256484748\n"
     ]
    },
    {
     "data": {
      "image/png": "[encoded data removed]",
      "text/plain": [
       "<Figure size 432x432 with 2 Axes>"
      ]
     },
     "metadata": {
      "needs_background": "light",
      "tags": []
     },
     "output_type": "display_data"
    }
   ],
   "source": [
    "y_pred =[]\n",
    "for i in y_pred_1: #the values are in probabilities and hence we are going to classify based on acustom threshold (0.5 is the default threshold)\n",
    "  if i[0]>=0.6: #setting threshold\n",
    "    y_pred.append(1)\n",
    "  else:\n",
    "    y_pred.append(0)\n",
    "y_true=np.array(y_true) #converting the array for into numpy\n",
    "y_pred=np.array(y_pred).reshape(1,-1)\n",
    "y_pred=y_pred[0]\n",
    "confusion_mat(y_true,y_pred)"
   ]
  },
  {
   "cell_type": "code",
   "execution_count": 104,
   "metadata": {
    "colab": {
     "base_uri": "https://localhost:8080/",
     "height": 421
    },
    "id": "sfrd1LV9q5Cy",
    "outputId": "d0398221-9f99-4fec-ff84-8463738db698"
   },
   "outputs": [
    {
     "name": "stdout",
     "output_type": "stream",
     "text": [
      "Percentage of misclassified points  0.13488275575845612\n"
     ]
    },
    {
     "data": {
      "image/png": "[encoded data removed]",
      "text/plain": [
       "<Figure size 432x432 with 2 Axes>"
      ]
     },
     "metadata": {
      "needs_background": "light",
      "tags": []
     },
     "output_type": "display_data"
    }
   ],
   "source": [
    "y_pred =[]\n",
    "for i in y_pred_1: #the values are in probabilities and hence we are going to classify based on acustom threshold (0.5 is the default threshold)\n",
    "  if i[0]>=0.5: #setting threshold\n",
    "    y_pred.append(1)\n",
    "  else:\n",
    "    y_pred.append(0)\n",
    "y_true=np.array(y_true) #converting the array for into numpy\n",
    "y_pred=np.array(y_pred).reshape(1,-1)\n",
    "y_pred=y_pred[0]\n",
    "confusion_mat(y_true,y_pred)"
   ]
  },
  {
   "cell_type": "code",
   "execution_count": 93,
   "metadata": {
    "colab": {
     "base_uri": "https://localhost:8080/",
     "height": 421
    },
    "id": "76rpRRc9q5Fs",
    "outputId": "de6d2a9d-9eca-4158-9730-c991874e9d92"
   },
   "outputs": [
    {
     "name": "stdout",
     "output_type": "stream",
     "text": [
      "Percentage of misclassified points  0.1452583523552604\n"
     ]
    },
    {
     "data": {
      "image/png": "[encoded data removed]",
      "text/plain": [
       "<Figure size 432x432 with 2 Axes>"
      ]
     },
     "metadata": {
      "needs_background": "light",
      "tags": []
     },
     "output_type": "display_data"
    }
   ],
   "source": [
    "y_pred =[]\n",
    "for i in y_pred_1: #the values are in probabilities and hence we are going to classify based on acustom threshold (0.5 is the default threshold)\n",
    "  if i[0]>=0.6: #setting threshold\n",
    "    y_pred.append(1)\n",
    "  else:\n",
    "    y_pred.append(0)\n",
    "y_true=np.array(y_true) #converting the array for into numpy\n",
    "y_pred=np.array(y_pred).reshape(1,-1)\n",
    "y_pred=y_pred[0]\n",
    "confusion_mat(y_true,y_pred)"
   ]
  },
  {
   "cell_type": "markdown",
   "metadata": {
    "id": "OY9sVdu41LL5"
   },
   "source": [
    "## Confusion Matrix on test Data with different threshold"
   ]
  },
  {
   "cell_type": "code",
   "execution_count": 106,
   "metadata": {
    "colab": {
     "base_uri": "https://localhost:8080/",
     "height": 521,
     "referenced_widgets": [
      "935a7cdd96dc4f88806d5529db3ffef1",
      "76af7771634f4fc9a612536f36f5c67a",
      "63d805001a194497a7ac05411d65dd8e",
      "da5b412175cf4da8b013cddb4e51e0aa",
      "6044a8b7b3164214a695d8be15de1681",
      "bd6c84de2a484916ac5e06bb1d3b72f9",
      "a5655dd4f3524a6990991ca09ecf7585",
      "52c4afabbc3e4afd8caa13d101629984"
     ]
    },
    "id": "DFlWW3XcymDm",
    "outputId": "c6ea1985-9cfb-4712-cfe1-f1a3a23a70b5"
   },
   "outputs": [
    {
     "name": "stderr",
     "output_type": "stream",
     "text": [
      "/usr/local/lib/python3.7/dist-packages/ipykernel_launcher.py:3: TqdmDeprecationWarning: This function will be removed in tqdm==5.0.0\n",
      "Please use `tqdm.notebook.tqdm` instead of `tqdm.tqdm_notebook`\n",
      "  This is separate from the ipykernel package so we can avoid doing imports until\n"
     ]
    },
    {
     "data": {
      "application/vnd.jupyter.widget-view+json": {
       "model_id": "935a7cdd96dc4f88806d5529db3ffef1",
       "version_major": 2,
       "version_minor": 0
      },
      "text/plain": [
       "HBox(children=(FloatProgress(value=0.0, max=151.0), HTML(value='')))"
      ]
     },
     "metadata": {
      "tags": []
     },
     "output_type": "display_data"
    },
    {
     "name": "stdout",
     "output_type": "stream",
     "text": [
      "\n",
      "Percentage of misclassified points  0.09338036937123885\n"
     ]
    },
    {
     "data": {
      "image/png": "[encoded data removed]",
      "text/plain": [
       "<Figure size 432x432 with 2 Axes>"
      ]
     },
     "metadata": {
      "needs_background": "light",
      "tags": []
     },
     "output_type": "display_data"
    }
   ],
   "source": [
    "y_pred_1=[] #array to store predicted label\n",
    "y_true=[] #array to store the ground truth\n",
    "for i,j in tqdm(train_dataset_new.take(2129)):\n",
    "  \n",
    "  y_pred_1.extend(model1.predict(i)) #predicting each batch\n",
    "  y_true.extend(j)\n",
    "  y_pred=[]\n",
    "for i in y_pred_1: #the values are in probabilities and hence we are going to classify based on acustom threshold (0.5 is the default threshold)\n",
    "  if i[0]>=0.5: #setting threshold\n",
    "    y_pred.append(1)\n",
    "  else:\n",
    "    y_pred.append(0)\n",
    "y_true=np.array(y_true) #converting the array for into numpy\n",
    "y_pred=np.array(y_pred).reshape(1,-1)\n",
    "y_pred=y_pred[0]\n",
    "confusion_mat(y_true,y_pred)"
   ]
  },
  {
   "cell_type": "code",
   "execution_count": 107,
   "metadata": {
    "colab": {
     "base_uri": "https://localhost:8080/",
     "height": 421
    },
    "id": "q9ZK5IpRzPWc",
    "outputId": "3fb8415b-1c4c-4459-c386-7a3526b313f7"
   },
   "outputs": [
    {
     "name": "stdout",
     "output_type": "stream",
     "text": [
      "Percentage of misclassified points  0.08300477277443453\n"
     ]
    },
    {
     "data": {
      "image/png": "[encoded data removed]",
      "text/plain": [
       "<Figure size 432x432 with 2 Axes>"
      ]
     },
     "metadata": {
      "needs_background": "light",
      "tags": []
     },
     "output_type": "display_data"
    }
   ],
   "source": [
    "y_pred =[]\n",
    "for i in y_pred_1: #the values are in probabilities and hence we are going to classify based on acustom threshold (0.5 is the default threshold)\n",
    "  if i[0]>=0.6: #setting threshold\n",
    "    y_pred.append(1)\n",
    "  else:\n",
    "    y_pred.append(0)\n",
    "y_true=np.array(y_true) #converting the array for into numpy\n",
    "y_pred=np.array(y_pred).reshape(1,-1)\n",
    "y_pred=y_pred[0]\n",
    "confusion_mat(y_true,y_pred)"
   ]
  },
  {
   "cell_type": "code",
   "execution_count": 108,
   "metadata": {
    "colab": {
     "base_uri": "https://localhost:8080/",
     "height": 421
    },
    "id": "bdLNQP5Q0dFT",
    "outputId": "d5d8c8ac-467a-4962-95f5-91bc9e7b299b"
   },
   "outputs": [
    {
     "name": "stdout",
     "output_type": "stream",
     "text": [
      "Percentage of misclassified points  0.11413156256484748\n"
     ]
    },
    {
     "data": {
      "image/png": "[encoded data removed]",
      "text/plain": [
       "<Figure size 432x432 with 2 Axes>"
      ]
     },
     "metadata": {
      "needs_background": "light",
      "tags": []
     },
     "output_type": "display_data"
    }
   ],
   "source": [
    "y_pred =[]\n",
    "for i in y_pred_1: #the values are in probabilities and hence we are going to classify based on acustom threshold (0.5 is the default threshold)\n",
    "  if i[0]>=0.65: #setting threshold\n",
    "    y_pred.append(1)\n",
    "  else:\n",
    "    y_pred.append(0)\n",
    "y_true=np.array(y_true) #converting the array for into numpy\n",
    "y_pred=np.array(y_pred).reshape(1,-1)\n",
    "y_pred=y_pred[0]\n",
    "confusion_mat(y_true,y_pred)"
   ]
  },
  {
   "cell_type": "markdown",
   "metadata": {
    "id": "ycMjdIWd07l7"
   },
   "source": [
    "#  Observation\n",
    "1. 0.5 as the threshold is better than the other thresholds for reducing False negatives\n",
    "2. As the threshold increases the number of False negatives increases"
   ]
  }
 ],
 "metadata": {
  "accelerator": "GPU",
  "colab": {
   "collapsed_sections": [],
   "machine_shape": "hm",
   "name": "SIIM_Classification_Submission_1.ipynb",
   "provenance": []
  },
  "kernelspec": {
   "display_name": "Python 3",
   "language": "python",
   "name": "python3"
  },
  "language_info": {
   "codemirror_mode": {
    "name": "ipython",
    "version": 3
   },
   "file_extension": ".py",
   "mimetype": "text/x-python",
   "name": "python",
   "nbconvert_exporter": "python",
   "pygments_lexer": "ipython3",
   "version": "3.8.0"
  },
  "widgets": {
   "application/vnd.jupyter.widget-state+json": {
    "00c723a807d74812969a457656b097a0": {
     "model_module": "@jupyter-widgets/controls",
     "model_name": "DescriptionStyleModel",
     "state": {
      "_model_module": "@jupyter-widgets/controls",
      "_model_module_version": "1.5.0",
      "_model_name": "DescriptionStyleModel",
      "_view_count": null,
      "_view_module": "@jupyter-widgets/base",
      "_view_module_version": "1.2.0",
      "_view_name": "StyleView",
      "description_width": ""
     }
    },
    "0348bbdbb3ff4f949ad3bea17795783e": {
     "model_module": "@jupyter-widgets/controls",
     "model_name": "HTMLModel",
     "state": {
      "_dom_classes": [],
      "_model_module": "@jupyter-widgets/controls",
      "_model_module_version": "1.5.0",
      "_model_name": "HTMLModel",
      "_view_count": null,
      "_view_module": "@jupyter-widgets/controls",
      "_view_module_version": "1.5.0",
      "_view_name": "HTMLView",
      "description": "",
      "description_tooltip": null,
      "layout": "IPY_MODEL_1a1116ef805c45e29a25d20bbe54877c",
      "placeholder": "​",
      "style": "IPY_MODEL_aa0ab03ed1b044b9ab7f12535fd4e16d",
      "value": " 12047/12047 [00:14&lt;00:00, 816.90it/s]"
     }
    },
    "0828a4a0a21e4c62aa382340dc894f25": {
     "model_module": "@jupyter-widgets/controls",
     "model_name": "ProgressStyleModel",
     "state": {
      "_model_module": "@jupyter-widgets/controls",
      "_model_module_version": "1.5.0",
      "_model_name": "ProgressStyleModel",
      "_view_count": null,
      "_view_module": "@jupyter-widgets/base",
      "_view_module_version": "1.2.0",
      "_view_name": "StyleView",
      "bar_color": null,
      "description_width": "initial"
     }
    },
    "0c5ac2a327ed49d78bc8af6ab0f3d17e": {
     "model_module": "@jupyter-widgets/controls",
     "model_name": "HTMLModel",
     "state": {
      "_dom_classes": [],
      "_model_module": "@jupyter-widgets/controls",
      "_model_module_version": "1.5.0",
      "_model_name": "HTMLModel",
      "_view_count": null,
      "_view_module": "@jupyter-widgets/controls",
      "_view_module_version": "1.5.0",
      "_view_name": "HTMLView",
      "description": "",
      "description_tooltip": null,
      "layout": "IPY_MODEL_67d150d7c9ec4e098606cbcf98e8f09b",
      "placeholder": "​",
      "style": "IPY_MODEL_da870344531647dcb97bc21211b93ea5",
      "value": " 10/10 [4:56:50&lt;00:00, 1781.02s/it]"
     }
    },
    "1a1116ef805c45e29a25d20bbe54877c": {
     "model_module": "@jupyter-widgets/base",
     "model_name": "LayoutModel",
     "state": {
      "_model_module": "@jupyter-widgets/base",
      "_model_module_version": "1.2.0",
      "_model_name": "LayoutModel",
      "_view_count": null,
      "_view_module": "@jupyter-widgets/base",
      "_view_module_version": "1.2.0",
      "_view_name": "LayoutView",
      "align_content": null,
      "align_items": null,
      "align_self": null,
      "border": null,
      "bottom": null,
      "display": null,
      "flex": null,
      "flex_flow": null,
      "grid_area": null,
      "grid_auto_columns": null,
      "grid_auto_flow": null,
      "grid_auto_rows": null,
      "grid_column": null,
      "grid_gap": null,
      "grid_row": null,
      "grid_template_areas": null,
      "grid_template_columns": null,
      "grid_template_rows": null,
      "height": null,
      "justify_content": null,
      "justify_items": null,
      "left": null,
      "margin": null,
      "max_height": null,
      "max_width": null,
      "min_height": null,
      "min_width": null,
      "object_fit": null,
      "object_position": null,
      "order": null,
      "overflow": null,
      "overflow_x": null,
      "overflow_y": null,
      "padding": null,
      "right": null,
      "top": null,
      "visibility": null,
      "width": null
     }
    },
    "24a1cd0d63774827a6321406cc6a26fb": {
     "model_module": "@jupyter-widgets/controls",
     "model_name": "HBoxModel",
     "state": {
      "_dom_classes": [],
      "_model_module": "@jupyter-widgets/controls",
      "_model_module_version": "1.5.0",
      "_model_name": "HBoxModel",
      "_view_count": null,
      "_view_module": "@jupyter-widgets/controls",
      "_view_module_version": "1.5.0",
      "_view_name": "HBoxView",
      "box_style": "",
      "children": [
       "IPY_MODEL_72aa6d1c00854a8d89b7d0562e26d4ef",
       "IPY_MODEL_ff8a5cdfc7af49d29d5c2518f7c4e509"
      ],
      "layout": "IPY_MODEL_e88af54aeebb4c7e85a28b2d590b867a"
     }
    },
    "27d9f1ac539948e9a69a00420c0228b5": {
     "model_module": "@jupyter-widgets/controls",
     "model_name": "HTMLModel",
     "state": {
      "_dom_classes": [],
      "_model_module": "@jupyter-widgets/controls",
      "_model_module_version": "1.5.0",
      "_model_name": "HTMLModel",
      "_view_count": null,
      "_view_module": "@jupyter-widgets/controls",
      "_view_module_version": "1.5.0",
      "_view_name": "HTMLView",
      "description": "",
      "description_tooltip": null,
      "layout": "IPY_MODEL_ec264096f6bc4f2085cf8771da1b3832",
      "placeholder": "​",
      "style": "IPY_MODEL_9555c87a378a4500a017ba0be4c4120a",
      "value": " 151/151 [18:08&lt;00:00,  7.21s/it]"
     }
    },
    "2d48c36871da40f3b7d7c14e8402b071": {
     "model_module": "@jupyter-widgets/base",
     "model_name": "LayoutModel",
     "state": {
      "_model_module": "@jupyter-widgets/base",
      "_model_module_version": "1.2.0",
      "_model_name": "LayoutModel",
      "_view_count": null,
      "_view_module": "@jupyter-widgets/base",
      "_view_module_version": "1.2.0",
      "_view_name": "LayoutView",
      "align_content": null,
      "align_items": null,
      "align_self": null,
      "border": null,
      "bottom": null,
      "display": null,
      "flex": null,
      "flex_flow": null,
      "grid_area": null,
      "grid_auto_columns": null,
      "grid_auto_flow": null,
      "grid_auto_rows": null,
      "grid_column": null,
      "grid_gap": null,
      "grid_row": null,
      "grid_template_areas": null,
      "grid_template_columns": null,
      "grid_template_rows": null,
      "height": null,
      "justify_content": null,
      "justify_items": null,
      "left": null,
      "margin": null,
      "max_height": null,
      "max_width": null,
      "min_height": null,
      "min_width": null,
      "object_fit": null,
      "object_position": null,
      "order": null,
      "overflow": null,
      "overflow_x": null,
      "overflow_y": null,
      "padding": null,
      "right": null,
      "top": null,
      "visibility": null,
      "width": null
     }
    },
    "2e2209452f77468dbfa734be0d0224b2": {
     "model_module": "@jupyter-widgets/controls",
     "model_name": "HBoxModel",
     "state": {
      "_dom_classes": [],
      "_model_module": "@jupyter-widgets/controls",
      "_model_module_version": "1.5.0",
      "_model_name": "HBoxModel",
      "_view_count": null,
      "_view_module": "@jupyter-widgets/controls",
      "_view_module_version": "1.5.0",
      "_view_name": "HBoxView",
      "box_style": "",
      "children": [
       "IPY_MODEL_e1a64aa91ed94f959a88f591c92d1ebb",
       "IPY_MODEL_52ec9726bb8b42debddf0411e6159387"
      ],
      "layout": "IPY_MODEL_8585641143e842cc88801380f48a2109"
     }
    },
    "2ea29ef13e2445689ea1e604aa9b7889": {
     "model_module": "@jupyter-widgets/controls",
     "model_name": "HBoxModel",
     "state": {
      "_dom_classes": [],
      "_model_module": "@jupyter-widgets/controls",
      "_model_module_version": "1.5.0",
      "_model_name": "HBoxModel",
      "_view_count": null,
      "_view_module": "@jupyter-widgets/controls",
      "_view_module_version": "1.5.0",
      "_view_name": "HBoxView",
      "box_style": "",
      "children": [
       "IPY_MODEL_ddde9a005a5a4b9f92cc64b46b1dd424",
       "IPY_MODEL_0c5ac2a327ed49d78bc8af6ab0f3d17e"
      ],
      "layout": "IPY_MODEL_be6052cca4994bd392264c1d25af2e3b"
     }
    },
    "2f47f40f7d0d445086c39cdf605d73e5": {
     "model_module": "@jupyter-widgets/controls",
     "model_name": "DescriptionStyleModel",
     "state": {
      "_model_module": "@jupyter-widgets/controls",
      "_model_module_version": "1.5.0",
      "_model_name": "DescriptionStyleModel",
      "_view_count": null,
      "_view_module": "@jupyter-widgets/base",
      "_view_module_version": "1.2.0",
      "_view_name": "StyleView",
      "description_width": ""
     }
    },
    "3c9f847281474623acb70e28c7354544": {
     "model_module": "@jupyter-widgets/base",
     "model_name": "LayoutModel",
     "state": {
      "_model_module": "@jupyter-widgets/base",
      "_model_module_version": "1.2.0",
      "_model_name": "LayoutModel",
      "_view_count": null,
      "_view_module": "@jupyter-widgets/base",
      "_view_module_version": "1.2.0",
      "_view_name": "LayoutView",
      "align_content": null,
      "align_items": null,
      "align_self": null,
      "border": null,
      "bottom": null,
      "display": null,
      "flex": null,
      "flex_flow": null,
      "grid_area": null,
      "grid_auto_columns": null,
      "grid_auto_flow": null,
      "grid_auto_rows": null,
      "grid_column": null,
      "grid_gap": null,
      "grid_row": null,
      "grid_template_areas": null,
      "grid_template_columns": null,
      "grid_template_rows": null,
      "height": null,
      "justify_content": null,
      "justify_items": null,
      "left": null,
      "margin": null,
      "max_height": null,
      "max_width": null,
      "min_height": null,
      "min_width": null,
      "object_fit": null,
      "object_position": null,
      "order": null,
      "overflow": null,
      "overflow_x": null,
      "overflow_y": null,
      "padding": null,
      "right": null,
      "top": null,
      "visibility": null,
      "width": null
     }
    },
    "4f99f97824d84e348b375a284467fba9": {
     "model_module": "@jupyter-widgets/base",
     "model_name": "LayoutModel",
     "state": {
      "_model_module": "@jupyter-widgets/base",
      "_model_module_version": "1.2.0",
      "_model_name": "LayoutModel",
      "_view_count": null,
      "_view_module": "@jupyter-widgets/base",
      "_view_module_version": "1.2.0",
      "_view_name": "LayoutView",
      "align_content": null,
      "align_items": null,
      "align_self": null,
      "border": null,
      "bottom": null,
      "display": null,
      "flex": null,
      "flex_flow": null,
      "grid_area": null,
      "grid_auto_columns": null,
      "grid_auto_flow": null,
      "grid_auto_rows": null,
      "grid_column": null,
      "grid_gap": null,
      "grid_row": null,
      "grid_template_areas": null,
      "grid_template_columns": null,
      "grid_template_rows": null,
      "height": null,
      "justify_content": null,
      "justify_items": null,
      "left": null,
      "margin": null,
      "max_height": null,
      "max_width": null,
      "min_height": null,
      "min_width": null,
      "object_fit": null,
      "object_position": null,
      "order": null,
      "overflow": null,
      "overflow_x": null,
      "overflow_y": null,
      "padding": null,
      "right": null,
      "top": null,
      "visibility": null,
      "width": null
     }
    },
    "50d116be395145d5b732a3f409e16def": {
     "model_module": "@jupyter-widgets/controls",
     "model_name": "FloatProgressModel",
     "state": {
      "_dom_classes": [],
      "_model_module": "@jupyter-widgets/controls",
      "_model_module_version": "1.5.0",
      "_model_name": "FloatProgressModel",
      "_view_count": null,
      "_view_module": "@jupyter-widgets/controls",
      "_view_module_version": "1.5.0",
      "_view_name": "ProgressView",
      "bar_style": "success",
      "description": "100%",
      "description_tooltip": null,
      "layout": "IPY_MODEL_fc6136acb60c4b09b409fab0699a3605",
      "max": 151,
      "min": 0,
      "orientation": "horizontal",
      "style": "IPY_MODEL_c9c4457683ba4507b94c734241deceaf",
      "value": 151
     }
    },
    "52c4afabbc3e4afd8caa13d101629984": {
     "model_module": "@jupyter-widgets/base",
     "model_name": "LayoutModel",
     "state": {
      "_model_module": "@jupyter-widgets/base",
      "_model_module_version": "1.2.0",
      "_model_name": "LayoutModel",
      "_view_count": null,
      "_view_module": "@jupyter-widgets/base",
      "_view_module_version": "1.2.0",
      "_view_name": "LayoutView",
      "align_content": null,
      "align_items": null,
      "align_self": null,
      "border": null,
      "bottom": null,
      "display": null,
      "flex": null,
      "flex_flow": null,
      "grid_area": null,
      "grid_auto_columns": null,
      "grid_auto_flow": null,
      "grid_auto_rows": null,
      "grid_column": null,
      "grid_gap": null,
      "grid_row": null,
      "grid_template_areas": null,
      "grid_template_columns": null,
      "grid_template_rows": null,
      "height": null,
      "justify_content": null,
      "justify_items": null,
      "left": null,
      "margin": null,
      "max_height": null,
      "max_width": null,
      "min_height": null,
      "min_width": null,
      "object_fit": null,
      "object_position": null,
      "order": null,
      "overflow": null,
      "overflow_x": null,
      "overflow_y": null,
      "padding": null,
      "right": null,
      "top": null,
      "visibility": null,
      "width": null
     }
    },
    "52ec9726bb8b42debddf0411e6159387": {
     "model_module": "@jupyter-widgets/controls",
     "model_name": "HTMLModel",
     "state": {
      "_dom_classes": [],
      "_model_module": "@jupyter-widgets/controls",
      "_model_module_version": "1.5.0",
      "_model_name": "HTMLModel",
      "_view_count": null,
      "_view_module": "@jupyter-widgets/controls",
      "_view_module_version": "1.5.0",
      "_view_name": "HTMLView",
      "description": "",
      "description_tooltip": null,
      "layout": "IPY_MODEL_81b8059c9ab04b548c02a75016b439f7",
      "placeholder": "​",
      "style": "IPY_MODEL_2f47f40f7d0d445086c39cdf605d73e5",
      "value": " 2669/? [06:30&lt;00:00,  6.83it/s]"
     }
    },
    "6044a8b7b3164214a695d8be15de1681": {
     "model_module": "@jupyter-widgets/controls",
     "model_name": "ProgressStyleModel",
     "state": {
      "_model_module": "@jupyter-widgets/controls",
      "_model_module_version": "1.5.0",
      "_model_name": "ProgressStyleModel",
      "_view_count": null,
      "_view_module": "@jupyter-widgets/base",
      "_view_module_version": "1.2.0",
      "_view_name": "StyleView",
      "bar_color": null,
      "description_width": "initial"
     }
    },
    "63d805001a194497a7ac05411d65dd8e": {
     "model_module": "@jupyter-widgets/controls",
     "model_name": "FloatProgressModel",
     "state": {
      "_dom_classes": [],
      "_model_module": "@jupyter-widgets/controls",
      "_model_module_version": "1.5.0",
      "_model_name": "FloatProgressModel",
      "_view_count": null,
      "_view_module": "@jupyter-widgets/controls",
      "_view_module_version": "1.5.0",
      "_view_name": "ProgressView",
      "bar_style": "success",
      "description": "100%",
      "description_tooltip": null,
      "layout": "IPY_MODEL_bd6c84de2a484916ac5e06bb1d3b72f9",
      "max": 151,
      "min": 0,
      "orientation": "horizontal",
      "style": "IPY_MODEL_6044a8b7b3164214a695d8be15de1681",
      "value": 151
     }
    },
    "67d150d7c9ec4e098606cbcf98e8f09b": {
     "model_module": "@jupyter-widgets/base",
     "model_name": "LayoutModel",
     "state": {
      "_model_module": "@jupyter-widgets/base",
      "_model_module_version": "1.2.0",
      "_model_name": "LayoutModel",
      "_view_count": null,
      "_view_module": "@jupyter-widgets/base",
      "_view_module_version": "1.2.0",
      "_view_name": "LayoutView",
      "align_content": null,
      "align_items": null,
      "align_self": null,
      "border": null,
      "bottom": null,
      "display": null,
      "flex": null,
      "flex_flow": null,
      "grid_area": null,
      "grid_auto_columns": null,
      "grid_auto_flow": null,
      "grid_auto_rows": null,
      "grid_column": null,
      "grid_gap": null,
      "grid_row": null,
      "grid_template_areas": null,
      "grid_template_columns": null,
      "grid_template_rows": null,
      "height": null,
      "justify_content": null,
      "justify_items": null,
      "left": null,
      "margin": null,
      "max_height": null,
      "max_width": null,
      "min_height": null,
      "min_width": null,
      "object_fit": null,
      "object_position": null,
      "order": null,
      "overflow": null,
      "overflow_x": null,
      "overflow_y": null,
      "padding": null,
      "right": null,
      "top": null,
      "visibility": null,
      "width": null
     }
    },
    "7139777ab1cf49e1a7f59e67952d599c": {
     "model_module": "@jupyter-widgets/base",
     "model_name": "LayoutModel",
     "state": {
      "_model_module": "@jupyter-widgets/base",
      "_model_module_version": "1.2.0",
      "_model_name": "LayoutModel",
      "_view_count": null,
      "_view_module": "@jupyter-widgets/base",
      "_view_module_version": "1.2.0",
      "_view_name": "LayoutView",
      "align_content": null,
      "align_items": null,
      "align_self": null,
      "border": null,
      "bottom": null,
      "display": null,
      "flex": null,
      "flex_flow": null,
      "grid_area": null,
      "grid_auto_columns": null,
      "grid_auto_flow": null,
      "grid_auto_rows": null,
      "grid_column": null,
      "grid_gap": null,
      "grid_row": null,
      "grid_template_areas": null,
      "grid_template_columns": null,
      "grid_template_rows": null,
      "height": null,
      "justify_content": null,
      "justify_items": null,
      "left": null,
      "margin": null,
      "max_height": null,
      "max_width": null,
      "min_height": null,
      "min_width": null,
      "object_fit": null,
      "object_position": null,
      "order": null,
      "overflow": null,
      "overflow_x": null,
      "overflow_y": null,
      "padding": null,
      "right": null,
      "top": null,
      "visibility": null,
      "width": null
     }
    },
    "72aa6d1c00854a8d89b7d0562e26d4ef": {
     "model_module": "@jupyter-widgets/controls",
     "model_name": "FloatProgressModel",
     "state": {
      "_dom_classes": [],
      "_model_module": "@jupyter-widgets/controls",
      "_model_module_version": "1.5.0",
      "_model_name": "FloatProgressModel",
      "_view_count": null,
      "_view_module": "@jupyter-widgets/controls",
      "_view_module_version": "1.5.0",
      "_view_name": "ProgressView",
      "bar_style": "success",
      "description": "100%",
      "description_tooltip": null,
      "layout": "IPY_MODEL_83d723492ff54ae68b4d47b452a67258",
      "max": 2669,
      "min": 0,
      "orientation": "horizontal",
      "style": "IPY_MODEL_d544c9bdcba245d88e242433c7662f95",
      "value": 2669
     }
    },
    "76af7771634f4fc9a612536f36f5c67a": {
     "model_module": "@jupyter-widgets/base",
     "model_name": "LayoutModel",
     "state": {
      "_model_module": "@jupyter-widgets/base",
      "_model_module_version": "1.2.0",
      "_model_name": "LayoutModel",
      "_view_count": null,
      "_view_module": "@jupyter-widgets/base",
      "_view_module_version": "1.2.0",
      "_view_name": "LayoutView",
      "align_content": null,
      "align_items": null,
      "align_self": null,
      "border": null,
      "bottom": null,
      "display": null,
      "flex": null,
      "flex_flow": null,
      "grid_area": null,
      "grid_auto_columns": null,
      "grid_auto_flow": null,
      "grid_auto_rows": null,
      "grid_column": null,
      "grid_gap": null,
      "grid_row": null,
      "grid_template_areas": null,
      "grid_template_columns": null,
      "grid_template_rows": null,
      "height": null,
      "justify_content": null,
      "justify_items": null,
      "left": null,
      "margin": null,
      "max_height": null,
      "max_width": null,
      "min_height": null,
      "min_width": null,
      "object_fit": null,
      "object_position": null,
      "order": null,
      "overflow": null,
      "overflow_x": null,
      "overflow_y": null,
      "padding": null,
      "right": null,
      "top": null,
      "visibility": null,
      "width": null
     }
    },
    "7af556da837f4978b5d1b870396438fa": {
     "model_module": "@jupyter-widgets/base",
     "model_name": "LayoutModel",
     "state": {
      "_model_module": "@jupyter-widgets/base",
      "_model_module_version": "1.2.0",
      "_model_name": "LayoutModel",
      "_view_count": null,
      "_view_module": "@jupyter-widgets/base",
      "_view_module_version": "1.2.0",
      "_view_name": "LayoutView",
      "align_content": null,
      "align_items": null,
      "align_self": null,
      "border": null,
      "bottom": null,
      "display": null,
      "flex": null,
      "flex_flow": null,
      "grid_area": null,
      "grid_auto_columns": null,
      "grid_auto_flow": null,
      "grid_auto_rows": null,
      "grid_column": null,
      "grid_gap": null,
      "grid_row": null,
      "grid_template_areas": null,
      "grid_template_columns": null,
      "grid_template_rows": null,
      "height": null,
      "justify_content": null,
      "justify_items": null,
      "left": null,
      "margin": null,
      "max_height": null,
      "max_width": null,
      "min_height": null,
      "min_width": null,
      "object_fit": null,
      "object_position": null,
      "order": null,
      "overflow": null,
      "overflow_x": null,
      "overflow_y": null,
      "padding": null,
      "right": null,
      "top": null,
      "visibility": null,
      "width": null
     }
    },
    "7ca3751cf82046e489752155bc2cf5ed": {
     "model_module": "@jupyter-widgets/base",
     "model_name": "LayoutModel",
     "state": {
      "_model_module": "@jupyter-widgets/base",
      "_model_module_version": "1.2.0",
      "_model_name": "LayoutModel",
      "_view_count": null,
      "_view_module": "@jupyter-widgets/base",
      "_view_module_version": "1.2.0",
      "_view_name": "LayoutView",
      "align_content": null,
      "align_items": null,
      "align_self": null,
      "border": null,
      "bottom": null,
      "display": null,
      "flex": null,
      "flex_flow": null,
      "grid_area": null,
      "grid_auto_columns": null,
      "grid_auto_flow": null,
      "grid_auto_rows": null,
      "grid_column": null,
      "grid_gap": null,
      "grid_row": null,
      "grid_template_areas": null,
      "grid_template_columns": null,
      "grid_template_rows": null,
      "height": null,
      "justify_content": null,
      "justify_items": null,
      "left": null,
      "margin": null,
      "max_height": null,
      "max_width": null,
      "min_height": null,
      "min_width": null,
      "object_fit": null,
      "object_position": null,
      "order": null,
      "overflow": null,
      "overflow_x": null,
      "overflow_y": null,
      "padding": null,
      "right": null,
      "top": null,
      "visibility": null,
      "width": null
     }
    },
    "81b8059c9ab04b548c02a75016b439f7": {
     "model_module": "@jupyter-widgets/base",
     "model_name": "LayoutModel",
     "state": {
      "_model_module": "@jupyter-widgets/base",
      "_model_module_version": "1.2.0",
      "_model_name": "LayoutModel",
      "_view_count": null,
      "_view_module": "@jupyter-widgets/base",
      "_view_module_version": "1.2.0",
      "_view_name": "LayoutView",
      "align_content": null,
      "align_items": null,
      "align_self": null,
      "border": null,
      "bottom": null,
      "display": null,
      "flex": null,
      "flex_flow": null,
      "grid_area": null,
      "grid_auto_columns": null,
      "grid_auto_flow": null,
      "grid_auto_rows": null,
      "grid_column": null,
      "grid_gap": null,
      "grid_row": null,
      "grid_template_areas": null,
      "grid_template_columns": null,
      "grid_template_rows": null,
      "height": null,
      "justify_content": null,
      "justify_items": null,
      "left": null,
      "margin": null,
      "max_height": null,
      "max_width": null,
      "min_height": null,
      "min_width": null,
      "object_fit": null,
      "object_position": null,
      "order": null,
      "overflow": null,
      "overflow_x": null,
      "overflow_y": null,
      "padding": null,
      "right": null,
      "top": null,
      "visibility": null,
      "width": null
     }
    },
    "83d723492ff54ae68b4d47b452a67258": {
     "model_module": "@jupyter-widgets/base",
     "model_name": "LayoutModel",
     "state": {
      "_model_module": "@jupyter-widgets/base",
      "_model_module_version": "1.2.0",
      "_model_name": "LayoutModel",
      "_view_count": null,
      "_view_module": "@jupyter-widgets/base",
      "_view_module_version": "1.2.0",
      "_view_name": "LayoutView",
      "align_content": null,
      "align_items": null,
      "align_self": null,
      "border": null,
      "bottom": null,
      "display": null,
      "flex": null,
      "flex_flow": null,
      "grid_area": null,
      "grid_auto_columns": null,
      "grid_auto_flow": null,
      "grid_auto_rows": null,
      "grid_column": null,
      "grid_gap": null,
      "grid_row": null,
      "grid_template_areas": null,
      "grid_template_columns": null,
      "grid_template_rows": null,
      "height": null,
      "justify_content": null,
      "justify_items": null,
      "left": null,
      "margin": null,
      "max_height": null,
      "max_width": null,
      "min_height": null,
      "min_width": null,
      "object_fit": null,
      "object_position": null,
      "order": null,
      "overflow": null,
      "overflow_x": null,
      "overflow_y": null,
      "padding": null,
      "right": null,
      "top": null,
      "visibility": null,
      "width": null
     }
    },
    "847971c5ba6846c68e1c2c5870ee5f2e": {
     "model_module": "@jupyter-widgets/controls",
     "model_name": "FloatProgressModel",
     "state": {
      "_dom_classes": [],
      "_model_module": "@jupyter-widgets/controls",
      "_model_module_version": "1.5.0",
      "_model_name": "FloatProgressModel",
      "_view_count": null,
      "_view_module": "@jupyter-widgets/controls",
      "_view_module_version": "1.5.0",
      "_view_name": "ProgressView",
      "bar_style": "success",
      "description": "100%",
      "description_tooltip": null,
      "layout": "IPY_MODEL_4f99f97824d84e348b375a284467fba9",
      "max": 9378,
      "min": 0,
      "orientation": "horizontal",
      "style": "IPY_MODEL_e01b11b3f4c84d608304eeaa25bff77d",
      "value": 9378
     }
    },
    "8585641143e842cc88801380f48a2109": {
     "model_module": "@jupyter-widgets/base",
     "model_name": "LayoutModel",
     "state": {
      "_model_module": "@jupyter-widgets/base",
      "_model_module_version": "1.2.0",
      "_model_name": "LayoutModel",
      "_view_count": null,
      "_view_module": "@jupyter-widgets/base",
      "_view_module_version": "1.2.0",
      "_view_name": "LayoutView",
      "align_content": null,
      "align_items": null,
      "align_self": null,
      "border": null,
      "bottom": null,
      "display": null,
      "flex": null,
      "flex_flow": null,
      "grid_area": null,
      "grid_auto_columns": null,
      "grid_auto_flow": null,
      "grid_auto_rows": null,
      "grid_column": null,
      "grid_gap": null,
      "grid_row": null,
      "grid_template_areas": null,
      "grid_template_columns": null,
      "grid_template_rows": null,
      "height": null,
      "justify_content": null,
      "justify_items": null,
      "left": null,
      "margin": null,
      "max_height": null,
      "max_width": null,
      "min_height": null,
      "min_width": null,
      "object_fit": null,
      "object_position": null,
      "order": null,
      "overflow": null,
      "overflow_x": null,
      "overflow_y": null,
      "padding": null,
      "right": null,
      "top": null,
      "visibility": null,
      "width": null
     }
    },
    "8be34a1f7ba34b739e8ef31da606e0c2": {
     "model_module": "@jupyter-widgets/base",
     "model_name": "LayoutModel",
     "state": {
      "_model_module": "@jupyter-widgets/base",
      "_model_module_version": "1.2.0",
      "_model_name": "LayoutModel",
      "_view_count": null,
      "_view_module": "@jupyter-widgets/base",
      "_view_module_version": "1.2.0",
      "_view_name": "LayoutView",
      "align_content": null,
      "align_items": null,
      "align_self": null,
      "border": null,
      "bottom": null,
      "display": null,
      "flex": null,
      "flex_flow": null,
      "grid_area": null,
      "grid_auto_columns": null,
      "grid_auto_flow": null,
      "grid_auto_rows": null,
      "grid_column": null,
      "grid_gap": null,
      "grid_row": null,
      "grid_template_areas": null,
      "grid_template_columns": null,
      "grid_template_rows": null,
      "height": null,
      "justify_content": null,
      "justify_items": null,
      "left": null,
      "margin": null,
      "max_height": null,
      "max_width": null,
      "min_height": null,
      "min_width": null,
      "object_fit": null,
      "object_position": null,
      "order": null,
      "overflow": null,
      "overflow_x": null,
      "overflow_y": null,
      "padding": null,
      "right": null,
      "top": null,
      "visibility": null,
      "width": null
     }
    },
    "8eb8c5dbf79841e58687105cb29448de": {
     "model_module": "@jupyter-widgets/base",
     "model_name": "LayoutModel",
     "state": {
      "_model_module": "@jupyter-widgets/base",
      "_model_module_version": "1.2.0",
      "_model_name": "LayoutModel",
      "_view_count": null,
      "_view_module": "@jupyter-widgets/base",
      "_view_module_version": "1.2.0",
      "_view_name": "LayoutView",
      "align_content": null,
      "align_items": null,
      "align_self": null,
      "border": null,
      "bottom": null,
      "display": null,
      "flex": null,
      "flex_flow": null,
      "grid_area": null,
      "grid_auto_columns": null,
      "grid_auto_flow": null,
      "grid_auto_rows": null,
      "grid_column": null,
      "grid_gap": null,
      "grid_row": null,
      "grid_template_areas": null,
      "grid_template_columns": null,
      "grid_template_rows": null,
      "height": null,
      "justify_content": null,
      "justify_items": null,
      "left": null,
      "margin": null,
      "max_height": null,
      "max_width": null,
      "min_height": null,
      "min_width": null,
      "object_fit": null,
      "object_position": null,
      "order": null,
      "overflow": null,
      "overflow_x": null,
      "overflow_y": null,
      "padding": null,
      "right": null,
      "top": null,
      "visibility": null,
      "width": null
     }
    },
    "90b4b27d916f4059bada1b71006d4719": {
     "model_module": "@jupyter-widgets/controls",
     "model_name": "FloatProgressModel",
     "state": {
      "_dom_classes": [],
      "_model_module": "@jupyter-widgets/controls",
      "_model_module_version": "1.5.0",
      "_model_name": "FloatProgressModel",
      "_view_count": null,
      "_view_module": "@jupyter-widgets/controls",
      "_view_module_version": "1.5.0",
      "_view_name": "ProgressView",
      "bar_style": "success",
      "description": "100%",
      "description_tooltip": null,
      "layout": "IPY_MODEL_2d48c36871da40f3b7d7c14e8402b071",
      "max": 12089,
      "min": 0,
      "orientation": "horizontal",
      "style": "IPY_MODEL_db1d2583424e4f35979052436992dea3",
      "value": 12089
     }
    },
    "91c663cc710a4824b9a17831ead23049": {
     "model_module": "@jupyter-widgets/controls",
     "model_name": "DescriptionStyleModel",
     "state": {
      "_model_module": "@jupyter-widgets/controls",
      "_model_module_version": "1.5.0",
      "_model_name": "DescriptionStyleModel",
      "_view_count": null,
      "_view_module": "@jupyter-widgets/base",
      "_view_module_version": "1.2.0",
      "_view_name": "StyleView",
      "description_width": ""
     }
    },
    "924b5ba26fe04b81a437a6a85e40a6d7": {
     "model_module": "@jupyter-widgets/controls",
     "model_name": "HBoxModel",
     "state": {
      "_dom_classes": [],
      "_model_module": "@jupyter-widgets/controls",
      "_model_module_version": "1.5.0",
      "_model_name": "HBoxModel",
      "_view_count": null,
      "_view_module": "@jupyter-widgets/controls",
      "_view_module_version": "1.5.0",
      "_view_name": "HBoxView",
      "box_style": "",
      "children": [
       "IPY_MODEL_a6d1dd9f72ba49d39610920b42b0a39f",
       "IPY_MODEL_0348bbdbb3ff4f949ad3bea17795783e"
      ],
      "layout": "IPY_MODEL_ca9498a1288c40e8a44c377e294c608f"
     }
    },
    "935a7cdd96dc4f88806d5529db3ffef1": {
     "model_module": "@jupyter-widgets/controls",
     "model_name": "HBoxModel",
     "state": {
      "_dom_classes": [],
      "_model_module": "@jupyter-widgets/controls",
      "_model_module_version": "1.5.0",
      "_model_name": "HBoxModel",
      "_view_count": null,
      "_view_module": "@jupyter-widgets/controls",
      "_view_module_version": "1.5.0",
      "_view_name": "HBoxView",
      "box_style": "",
      "children": [
       "IPY_MODEL_63d805001a194497a7ac05411d65dd8e",
       "IPY_MODEL_da5b412175cf4da8b013cddb4e51e0aa"
      ],
      "layout": "IPY_MODEL_76af7771634f4fc9a612536f36f5c67a"
     }
    },
    "9555c87a378a4500a017ba0be4c4120a": {
     "model_module": "@jupyter-widgets/controls",
     "model_name": "DescriptionStyleModel",
     "state": {
      "_model_module": "@jupyter-widgets/controls",
      "_model_module_version": "1.5.0",
      "_model_name": "DescriptionStyleModel",
      "_view_count": null,
      "_view_module": "@jupyter-widgets/base",
      "_view_module_version": "1.2.0",
      "_view_name": "StyleView",
      "description_width": ""
     }
    },
    "a5655dd4f3524a6990991ca09ecf7585": {
     "model_module": "@jupyter-widgets/controls",
     "model_name": "DescriptionStyleModel",
     "state": {
      "_model_module": "@jupyter-widgets/controls",
      "_model_module_version": "1.5.0",
      "_model_name": "DescriptionStyleModel",
      "_view_count": null,
      "_view_module": "@jupyter-widgets/base",
      "_view_module_version": "1.2.0",
      "_view_name": "StyleView",
      "description_width": ""
     }
    },
    "a6d1dd9f72ba49d39610920b42b0a39f": {
     "model_module": "@jupyter-widgets/controls",
     "model_name": "FloatProgressModel",
     "state": {
      "_dom_classes": [],
      "_model_module": "@jupyter-widgets/controls",
      "_model_module_version": "1.5.0",
      "_model_name": "FloatProgressModel",
      "_view_count": null,
      "_view_module": "@jupyter-widgets/controls",
      "_view_module_version": "1.5.0",
      "_view_name": "ProgressView",
      "bar_style": "success",
      "description": "100%",
      "description_tooltip": null,
      "layout": "IPY_MODEL_8eb8c5dbf79841e58687105cb29448de",
      "max": 12047,
      "min": 0,
      "orientation": "horizontal",
      "style": "IPY_MODEL_afd8af492285469c817a5221d82bb50f",
      "value": 12047
     }
    },
    "aa0ab03ed1b044b9ab7f12535fd4e16d": {
     "model_module": "@jupyter-widgets/controls",
     "model_name": "DescriptionStyleModel",
     "state": {
      "_model_module": "@jupyter-widgets/controls",
      "_model_module_version": "1.5.0",
      "_model_name": "DescriptionStyleModel",
      "_view_count": null,
      "_view_module": "@jupyter-widgets/base",
      "_view_module_version": "1.2.0",
      "_view_name": "StyleView",
      "description_width": ""
     }
    },
    "afd8af492285469c817a5221d82bb50f": {
     "model_module": "@jupyter-widgets/controls",
     "model_name": "ProgressStyleModel",
     "state": {
      "_model_module": "@jupyter-widgets/controls",
      "_model_module_version": "1.5.0",
      "_model_name": "ProgressStyleModel",
      "_view_count": null,
      "_view_module": "@jupyter-widgets/base",
      "_view_module_version": "1.2.0",
      "_view_name": "StyleView",
      "bar_color": null,
      "description_width": "initial"
     }
    },
    "b885cab8d3794587ac477bf58b8c796d": {
     "model_module": "@jupyter-widgets/controls",
     "model_name": "HBoxModel",
     "state": {
      "_dom_classes": [],
      "_model_module": "@jupyter-widgets/controls",
      "_model_module_version": "1.5.0",
      "_model_name": "HBoxModel",
      "_view_count": null,
      "_view_module": "@jupyter-widgets/controls",
      "_view_module_version": "1.5.0",
      "_view_name": "HBoxView",
      "box_style": "",
      "children": [
       "IPY_MODEL_90b4b27d916f4059bada1b71006d4719",
       "IPY_MODEL_d2e79c3dda60449fba73a67f23a1ca27"
      ],
      "layout": "IPY_MODEL_7139777ab1cf49e1a7f59e67952d599c"
     }
    },
    "b92294bedb704a26a904922f9dd00760": {
     "model_module": "@jupyter-widgets/base",
     "model_name": "LayoutModel",
     "state": {
      "_model_module": "@jupyter-widgets/base",
      "_model_module_version": "1.2.0",
      "_model_name": "LayoutModel",
      "_view_count": null,
      "_view_module": "@jupyter-widgets/base",
      "_view_module_version": "1.2.0",
      "_view_name": "LayoutView",
      "align_content": null,
      "align_items": null,
      "align_self": null,
      "border": null,
      "bottom": null,
      "display": null,
      "flex": null,
      "flex_flow": null,
      "grid_area": null,
      "grid_auto_columns": null,
      "grid_auto_flow": null,
      "grid_auto_rows": null,
      "grid_column": null,
      "grid_gap": null,
      "grid_row": null,
      "grid_template_areas": null,
      "grid_template_columns": null,
      "grid_template_rows": null,
      "height": null,
      "justify_content": null,
      "justify_items": null,
      "left": null,
      "margin": null,
      "max_height": null,
      "max_width": null,
      "min_height": null,
      "min_width": null,
      "object_fit": null,
      "object_position": null,
      "order": null,
      "overflow": null,
      "overflow_x": null,
      "overflow_y": null,
      "padding": null,
      "right": null,
      "top": null,
      "visibility": null,
      "width": null
     }
    },
    "bd6c84de2a484916ac5e06bb1d3b72f9": {
     "model_module": "@jupyter-widgets/base",
     "model_name": "LayoutModel",
     "state": {
      "_model_module": "@jupyter-widgets/base",
      "_model_module_version": "1.2.0",
      "_model_name": "LayoutModel",
      "_view_count": null,
      "_view_module": "@jupyter-widgets/base",
      "_view_module_version": "1.2.0",
      "_view_name": "LayoutView",
      "align_content": null,
      "align_items": null,
      "align_self": null,
      "border": null,
      "bottom": null,
      "display": null,
      "flex": null,
      "flex_flow": null,
      "grid_area": null,
      "grid_auto_columns": null,
      "grid_auto_flow": null,
      "grid_auto_rows": null,
      "grid_column": null,
      "grid_gap": null,
      "grid_row": null,
      "grid_template_areas": null,
      "grid_template_columns": null,
      "grid_template_rows": null,
      "height": null,
      "justify_content": null,
      "justify_items": null,
      "left": null,
      "margin": null,
      "max_height": null,
      "max_width": null,
      "min_height": null,
      "min_width": null,
      "object_fit": null,
      "object_position": null,
      "order": null,
      "overflow": null,
      "overflow_x": null,
      "overflow_y": null,
      "padding": null,
      "right": null,
      "top": null,
      "visibility": null,
      "width": null
     }
    },
    "be6052cca4994bd392264c1d25af2e3b": {
     "model_module": "@jupyter-widgets/base",
     "model_name": "LayoutModel",
     "state": {
      "_model_module": "@jupyter-widgets/base",
      "_model_module_version": "1.2.0",
      "_model_name": "LayoutModel",
      "_view_count": null,
      "_view_module": "@jupyter-widgets/base",
      "_view_module_version": "1.2.0",
      "_view_name": "LayoutView",
      "align_content": null,
      "align_items": null,
      "align_self": null,
      "border": null,
      "bottom": null,
      "display": null,
      "flex": null,
      "flex_flow": null,
      "grid_area": null,
      "grid_auto_columns": null,
      "grid_auto_flow": null,
      "grid_auto_rows": null,
      "grid_column": null,
      "grid_gap": null,
      "grid_row": null,
      "grid_template_areas": null,
      "grid_template_columns": null,
      "grid_template_rows": null,
      "height": null,
      "justify_content": null,
      "justify_items": null,
      "left": null,
      "margin": null,
      "max_height": null,
      "max_width": null,
      "min_height": null,
      "min_width": null,
      "object_fit": null,
      "object_position": null,
      "order": null,
      "overflow": null,
      "overflow_x": null,
      "overflow_y": null,
      "padding": null,
      "right": null,
      "top": null,
      "visibility": null,
      "width": null
     }
    },
    "c9c4457683ba4507b94c734241deceaf": {
     "model_module": "@jupyter-widgets/controls",
     "model_name": "ProgressStyleModel",
     "state": {
      "_model_module": "@jupyter-widgets/controls",
      "_model_module_version": "1.5.0",
      "_model_name": "ProgressStyleModel",
      "_view_count": null,
      "_view_module": "@jupyter-widgets/base",
      "_view_module_version": "1.2.0",
      "_view_name": "StyleView",
      "bar_color": null,
      "description_width": "initial"
     }
    },
    "ca9498a1288c40e8a44c377e294c608f": {
     "model_module": "@jupyter-widgets/base",
     "model_name": "LayoutModel",
     "state": {
      "_model_module": "@jupyter-widgets/base",
      "_model_module_version": "1.2.0",
      "_model_name": "LayoutModel",
      "_view_count": null,
      "_view_module": "@jupyter-widgets/base",
      "_view_module_version": "1.2.0",
      "_view_name": "LayoutView",
      "align_content": null,
      "align_items": null,
      "align_self": null,
      "border": null,
      "bottom": null,
      "display": null,
      "flex": null,
      "flex_flow": null,
      "grid_area": null,
      "grid_auto_columns": null,
      "grid_auto_flow": null,
      "grid_auto_rows": null,
      "grid_column": null,
      "grid_gap": null,
      "grid_row": null,
      "grid_template_areas": null,
      "grid_template_columns": null,
      "grid_template_rows": null,
      "height": null,
      "justify_content": null,
      "justify_items": null,
      "left": null,
      "margin": null,
      "max_height": null,
      "max_width": null,
      "min_height": null,
      "min_width": null,
      "object_fit": null,
      "object_position": null,
      "order": null,
      "overflow": null,
      "overflow_x": null,
      "overflow_y": null,
      "padding": null,
      "right": null,
      "top": null,
      "visibility": null,
      "width": null
     }
    },
    "ce7799d3425d4f75877cecf4d6b1fa50": {
     "model_module": "@jupyter-widgets/controls",
     "model_name": "HBoxModel",
     "state": {
      "_dom_classes": [],
      "_model_module": "@jupyter-widgets/controls",
      "_model_module_version": "1.5.0",
      "_model_name": "HBoxModel",
      "_view_count": null,
      "_view_module": "@jupyter-widgets/controls",
      "_view_module_version": "1.5.0",
      "_view_name": "HBoxView",
      "box_style": "",
      "children": [
       "IPY_MODEL_50d116be395145d5b732a3f409e16def",
       "IPY_MODEL_27d9f1ac539948e9a69a00420c0228b5"
      ],
      "layout": "IPY_MODEL_dce6d22771f444db8670669ed9627950"
     }
    },
    "d2e79c3dda60449fba73a67f23a1ca27": {
     "model_module": "@jupyter-widgets/controls",
     "model_name": "HTMLModel",
     "state": {
      "_dom_classes": [],
      "_model_module": "@jupyter-widgets/controls",
      "_model_module_version": "1.5.0",
      "_model_name": "HTMLModel",
      "_view_count": null,
      "_view_module": "@jupyter-widgets/controls",
      "_view_module_version": "1.5.0",
      "_view_name": "HTMLView",
      "description": "",
      "description_tooltip": null,
      "layout": "IPY_MODEL_8be34a1f7ba34b739e8ef31da606e0c2",
      "placeholder": "​",
      "style": "IPY_MODEL_e28864da0d9a4ee5b50ee5b6d0c744a8",
      "value": " 12089/12089 [2:46:53&lt;00:00,  1.21it/s]"
     }
    },
    "d544c9bdcba245d88e242433c7662f95": {
     "model_module": "@jupyter-widgets/controls",
     "model_name": "ProgressStyleModel",
     "state": {
      "_model_module": "@jupyter-widgets/controls",
      "_model_module_version": "1.5.0",
      "_model_name": "ProgressStyleModel",
      "_view_count": null,
      "_view_module": "@jupyter-widgets/base",
      "_view_module_version": "1.2.0",
      "_view_name": "StyleView",
      "bar_color": null,
      "description_width": "initial"
     }
    },
    "d5aa43346e7e47a6bbc440a1640515a6": {
     "model_module": "@jupyter-widgets/controls",
     "model_name": "HTMLModel",
     "state": {
      "_dom_classes": [],
      "_model_module": "@jupyter-widgets/controls",
      "_model_module_version": "1.5.0",
      "_model_name": "HTMLModel",
      "_view_count": null,
      "_view_module": "@jupyter-widgets/controls",
      "_view_module_version": "1.5.0",
      "_view_name": "HTMLView",
      "description": "",
      "description_tooltip": null,
      "layout": "IPY_MODEL_b92294bedb704a26a904922f9dd00760",
      "placeholder": "​",
      "style": "IPY_MODEL_00c723a807d74812969a457656b097a0",
      "value": " 9378/9378 [00:00&lt;00:00, 161952.37it/s]"
     }
    },
    "d7b30a09f05a49c58fa69519576a7f6d": {
     "model_module": "@jupyter-widgets/controls",
     "model_name": "HBoxModel",
     "state": {
      "_dom_classes": [],
      "_model_module": "@jupyter-widgets/controls",
      "_model_module_version": "1.5.0",
      "_model_name": "HBoxModel",
      "_view_count": null,
      "_view_module": "@jupyter-widgets/controls",
      "_view_module_version": "1.5.0",
      "_view_name": "HBoxView",
      "box_style": "",
      "children": [
       "IPY_MODEL_847971c5ba6846c68e1c2c5870ee5f2e",
       "IPY_MODEL_d5aa43346e7e47a6bbc440a1640515a6"
      ],
      "layout": "IPY_MODEL_3c9f847281474623acb70e28c7354544"
     }
    },
    "da5b412175cf4da8b013cddb4e51e0aa": {
     "model_module": "@jupyter-widgets/controls",
     "model_name": "HTMLModel",
     "state": {
      "_dom_classes": [],
      "_model_module": "@jupyter-widgets/controls",
      "_model_module_version": "1.5.0",
      "_model_name": "HTMLModel",
      "_view_count": null,
      "_view_module": "@jupyter-widgets/controls",
      "_view_module_version": "1.5.0",
      "_view_name": "HTMLView",
      "description": "",
      "description_tooltip": null,
      "layout": "IPY_MODEL_52c4afabbc3e4afd8caa13d101629984",
      "placeholder": "​",
      "style": "IPY_MODEL_a5655dd4f3524a6990991ca09ecf7585",
      "value": " 151/151 [04:06&lt;00:00,  1.64s/it]"
     }
    },
    "da870344531647dcb97bc21211b93ea5": {
     "model_module": "@jupyter-widgets/controls",
     "model_name": "DescriptionStyleModel",
     "state": {
      "_model_module": "@jupyter-widgets/controls",
      "_model_module_version": "1.5.0",
      "_model_name": "DescriptionStyleModel",
      "_view_count": null,
      "_view_module": "@jupyter-widgets/base",
      "_view_module_version": "1.2.0",
      "_view_name": "StyleView",
      "description_width": ""
     }
    },
    "db1d2583424e4f35979052436992dea3": {
     "model_module": "@jupyter-widgets/controls",
     "model_name": "ProgressStyleModel",
     "state": {
      "_model_module": "@jupyter-widgets/controls",
      "_model_module_version": "1.5.0",
      "_model_name": "ProgressStyleModel",
      "_view_count": null,
      "_view_module": "@jupyter-widgets/base",
      "_view_module_version": "1.2.0",
      "_view_name": "StyleView",
      "bar_color": null,
      "description_width": "initial"
     }
    },
    "dce6d22771f444db8670669ed9627950": {
     "model_module": "@jupyter-widgets/base",
     "model_name": "LayoutModel",
     "state": {
      "_model_module": "@jupyter-widgets/base",
      "_model_module_version": "1.2.0",
      "_model_name": "LayoutModel",
      "_view_count": null,
      "_view_module": "@jupyter-widgets/base",
      "_view_module_version": "1.2.0",
      "_view_name": "LayoutView",
      "align_content": null,
      "align_items": null,
      "align_self": null,
      "border": null,
      "bottom": null,
      "display": null,
      "flex": null,
      "flex_flow": null,
      "grid_area": null,
      "grid_auto_columns": null,
      "grid_auto_flow": null,
      "grid_auto_rows": null,
      "grid_column": null,
      "grid_gap": null,
      "grid_row": null,
      "grid_template_areas": null,
      "grid_template_columns": null,
      "grid_template_rows": null,
      "height": null,
      "justify_content": null,
      "justify_items": null,
      "left": null,
      "margin": null,
      "max_height": null,
      "max_width": null,
      "min_height": null,
      "min_width": null,
      "object_fit": null,
      "object_position": null,
      "order": null,
      "overflow": null,
      "overflow_x": null,
      "overflow_y": null,
      "padding": null,
      "right": null,
      "top": null,
      "visibility": null,
      "width": null
     }
    },
    "ddde9a005a5a4b9f92cc64b46b1dd424": {
     "model_module": "@jupyter-widgets/controls",
     "model_name": "FloatProgressModel",
     "state": {
      "_dom_classes": [],
      "_model_module": "@jupyter-widgets/controls",
      "_model_module_version": "1.5.0",
      "_model_name": "FloatProgressModel",
      "_view_count": null,
      "_view_module": "@jupyter-widgets/controls",
      "_view_module_version": "1.5.0",
      "_view_name": "ProgressView",
      "bar_style": "success",
      "description": "100%",
      "description_tooltip": null,
      "layout": "IPY_MODEL_fca17662ec994c27bc84a00bd11bcb77",
      "max": 10,
      "min": 0,
      "orientation": "horizontal",
      "style": "IPY_MODEL_ef012d60bd69456686af46bcd2924dc5",
      "value": 10
     }
    },
    "e01b11b3f4c84d608304eeaa25bff77d": {
     "model_module": "@jupyter-widgets/controls",
     "model_name": "ProgressStyleModel",
     "state": {
      "_model_module": "@jupyter-widgets/controls",
      "_model_module_version": "1.5.0",
      "_model_name": "ProgressStyleModel",
      "_view_count": null,
      "_view_module": "@jupyter-widgets/base",
      "_view_module_version": "1.2.0",
      "_view_name": "StyleView",
      "bar_color": null,
      "description_width": "initial"
     }
    },
    "e1a64aa91ed94f959a88f591c92d1ebb": {
     "model_module": "@jupyter-widgets/controls",
     "model_name": "FloatProgressModel",
     "state": {
      "_dom_classes": [],
      "_model_module": "@jupyter-widgets/controls",
      "_model_module_version": "1.5.0",
      "_model_name": "FloatProgressModel",
      "_view_count": null,
      "_view_module": "@jupyter-widgets/controls",
      "_view_module_version": "1.5.0",
      "_view_name": "ProgressView",
      "bar_style": "success",
      "description": "",
      "description_tooltip": null,
      "layout": "IPY_MODEL_7af556da837f4978b5d1b870396438fa",
      "max": 1,
      "min": 0,
      "orientation": "horizontal",
      "style": "IPY_MODEL_0828a4a0a21e4c62aa382340dc894f25",
      "value": 1
     }
    },
    "e28864da0d9a4ee5b50ee5b6d0c744a8": {
     "model_module": "@jupyter-widgets/controls",
     "model_name": "DescriptionStyleModel",
     "state": {
      "_model_module": "@jupyter-widgets/controls",
      "_model_module_version": "1.5.0",
      "_model_name": "DescriptionStyleModel",
      "_view_count": null,
      "_view_module": "@jupyter-widgets/base",
      "_view_module_version": "1.2.0",
      "_view_name": "StyleView",
      "description_width": ""
     }
    },
    "e88af54aeebb4c7e85a28b2d590b867a": {
     "model_module": "@jupyter-widgets/base",
     "model_name": "LayoutModel",
     "state": {
      "_model_module": "@jupyter-widgets/base",
      "_model_module_version": "1.2.0",
      "_model_name": "LayoutModel",
      "_view_count": null,
      "_view_module": "@jupyter-widgets/base",
      "_view_module_version": "1.2.0",
      "_view_name": "LayoutView",
      "align_content": null,
      "align_items": null,
      "align_self": null,
      "border": null,
      "bottom": null,
      "display": null,
      "flex": null,
      "flex_flow": null,
      "grid_area": null,
      "grid_auto_columns": null,
      "grid_auto_flow": null,
      "grid_auto_rows": null,
      "grid_column": null,
      "grid_gap": null,
      "grid_row": null,
      "grid_template_areas": null,
      "grid_template_columns": null,
      "grid_template_rows": null,
      "height": null,
      "justify_content": null,
      "justify_items": null,
      "left": null,
      "margin": null,
      "max_height": null,
      "max_width": null,
      "min_height": null,
      "min_width": null,
      "object_fit": null,
      "object_position": null,
      "order": null,
      "overflow": null,
      "overflow_x": null,
      "overflow_y": null,
      "padding": null,
      "right": null,
      "top": null,
      "visibility": null,
      "width": null
     }
    },
    "ec264096f6bc4f2085cf8771da1b3832": {
     "model_module": "@jupyter-widgets/base",
     "model_name": "LayoutModel",
     "state": {
      "_model_module": "@jupyter-widgets/base",
      "_model_module_version": "1.2.0",
      "_model_name": "LayoutModel",
      "_view_count": null,
      "_view_module": "@jupyter-widgets/base",
      "_view_module_version": "1.2.0",
      "_view_name": "LayoutView",
      "align_content": null,
      "align_items": null,
      "align_self": null,
      "border": null,
      "bottom": null,
      "display": null,
      "flex": null,
      "flex_flow": null,
      "grid_area": null,
      "grid_auto_columns": null,
      "grid_auto_flow": null,
      "grid_auto_rows": null,
      "grid_column": null,
      "grid_gap": null,
      "grid_row": null,
      "grid_template_areas": null,
      "grid_template_columns": null,
      "grid_template_rows": null,
      "height": null,
      "justify_content": null,
      "justify_items": null,
      "left": null,
      "margin": null,
      "max_height": null,
      "max_width": null,
      "min_height": null,
      "min_width": null,
      "object_fit": null,
      "object_position": null,
      "order": null,
      "overflow": null,
      "overflow_x": null,
      "overflow_y": null,
      "padding": null,
      "right": null,
      "top": null,
      "visibility": null,
      "width": null
     }
    },
    "ef012d60bd69456686af46bcd2924dc5": {
     "model_module": "@jupyter-widgets/controls",
     "model_name": "ProgressStyleModel",
     "state": {
      "_model_module": "@jupyter-widgets/controls",
      "_model_module_version": "1.5.0",
      "_model_name": "ProgressStyleModel",
      "_view_count": null,
      "_view_module": "@jupyter-widgets/base",
      "_view_module_version": "1.2.0",
      "_view_name": "StyleView",
      "bar_color": null,
      "description_width": "initial"
     }
    },
    "fc6136acb60c4b09b409fab0699a3605": {
     "model_module": "@jupyter-widgets/base",
     "model_name": "LayoutModel",
     "state": {
      "_model_module": "@jupyter-widgets/base",
      "_model_module_version": "1.2.0",
      "_model_name": "LayoutModel",
      "_view_count": null,
      "_view_module": "@jupyter-widgets/base",
      "_view_module_version": "1.2.0",
      "_view_name": "LayoutView",
      "align_content": null,
      "align_items": null,
      "align_self": null,
      "border": null,
      "bottom": null,
      "display": null,
      "flex": null,
      "flex_flow": null,
      "grid_area": null,
      "grid_auto_columns": null,
      "grid_auto_flow": null,
      "grid_auto_rows": null,
      "grid_column": null,
      "grid_gap": null,
      "grid_row": null,
      "grid_template_areas": null,
      "grid_template_columns": null,
      "grid_template_rows": null,
      "height": null,
      "justify_content": null,
      "justify_items": null,
      "left": null,
      "margin": null,
      "max_height": null,
      "max_width": null,
      "min_height": null,
      "min_width": null,
      "object_fit": null,
      "object_position": null,
      "order": null,
      "overflow": null,
      "overflow_x": null,
      "overflow_y": null,
      "padding": null,
      "right": null,
      "top": null,
      "visibility": null,
      "width": null
     }
    },
    "fca17662ec994c27bc84a00bd11bcb77": {
     "model_module": "@jupyter-widgets/base",
     "model_name": "LayoutModel",
     "state": {
      "_model_module": "@jupyter-widgets/base",
      "_model_module_version": "1.2.0",
      "_model_name": "LayoutModel",
      "_view_count": null,
      "_view_module": "@jupyter-widgets/base",
      "_view_module_version": "1.2.0",
      "_view_name": "LayoutView",
      "align_content": null,
      "align_items": null,
      "align_self": null,
      "border": null,
      "bottom": null,
      "display": null,
      "flex": null,
      "flex_flow": null,
      "grid_area": null,
      "grid_auto_columns": null,
      "grid_auto_flow": null,
      "grid_auto_rows": null,
      "grid_column": null,
      "grid_gap": null,
      "grid_row": null,
      "grid_template_areas": null,
      "grid_template_columns": null,
      "grid_template_rows": null,
      "height": null,
      "justify_content": null,
      "justify_items": null,
      "left": null,
      "margin": null,
      "max_height": null,
      "max_width": null,
      "min_height": null,
      "min_width": null,
      "object_fit": null,
      "object_position": null,
      "order": null,
      "overflow": null,
      "overflow_x": null,
      "overflow_y": null,
      "padding": null,
      "right": null,
      "top": null,
      "visibility": null,
      "width": null
     }
    },
    "ff8a5cdfc7af49d29d5c2518f7c4e509": {
     "model_module": "@jupyter-widgets/controls",
     "model_name": "HTMLModel",
     "state": {
      "_dom_classes": [],
      "_model_module": "@jupyter-widgets/controls",
      "_model_module_version": "1.5.0",
      "_model_name": "HTMLModel",
      "_view_count": null,
      "_view_module": "@jupyter-widgets/controls",
      "_view_module_version": "1.5.0",
      "_view_name": "HTMLView",
      "description": "",
      "description_tooltip": null,
      "layout": "IPY_MODEL_7ca3751cf82046e489752155bc2cf5ed",
      "placeholder": "​",
      "style": "IPY_MODEL_91c663cc710a4824b9a17831ead23049",
      "value": " 2669/2669 [00:07&lt;00:00, 365.18it/s]"
     }
    }
   }
  }
 },
 "nbformat": 4,
 "nbformat_minor": 4
}
